{
 "cells": [
  {
   "cell_type": "markdown",
   "id": "0fd5f236-8b9e-4beb-a30e-8e7852ba424d",
   "metadata": {},
   "source": [
    "# Creating and accessing dictionaries"
   ]
  },
  {
   "cell_type": "code",
   "execution_count": 1,
   "id": "9cfbf6f0-abe3-4711-9997-acf8616f1916",
   "metadata": {},
   "outputs": [],
   "source": [
    "d = {'user' : 'bozo', 'pswd' : 1234}\n",
    "# 딕셔너리에서는 키 : 값 으로 나뉜다.\n",
    "# 키를 입력하면 값을 반환한다.\n",
    "# 딕셔너리는 순서가 없다."
   ]
  },
  {
   "cell_type": "code",
   "execution_count": 2,
   "id": "e390f1d3-5b3e-466c-b7e1-6b98008576fc",
   "metadata": {},
   "outputs": [
    {
     "data": {
      "text/plain": [
       "'bozo'"
      ]
     },
     "execution_count": 2,
     "metadata": {},
     "output_type": "execute_result"
    }
   ],
   "source": [
    "d['user']"
   ]
  },
  {
   "cell_type": "code",
   "execution_count": 3,
   "id": "90f11444-5f88-4603-932c-f759fb1ca0b5",
   "metadata": {},
   "outputs": [
    {
     "data": {
      "text/plain": [
       "1234"
      ]
     },
     "execution_count": 3,
     "metadata": {},
     "output_type": "execute_result"
    }
   ],
   "source": [
    "d['pswd']"
   ]
  },
  {
   "cell_type": "code",
   "execution_count": 4,
   "id": "9694f0b5-8c7e-4ade-a21a-1a4825c98e9e",
   "metadata": {},
   "outputs": [
    {
     "ename": "KeyError",
     "evalue": "'bozo'",
     "output_type": "error",
     "traceback": [
      "\u001b[0;31m---------------------------------------------------------------------------\u001b[0m",
      "\u001b[0;31mKeyError\u001b[0m                                  Traceback (most recent call last)",
      "\u001b[0;32m<ipython-input-4-8c3f62659091>\u001b[0m in \u001b[0;36m<module>\u001b[0;34m\u001b[0m\n\u001b[0;32m----> 1\u001b[0;31m \u001b[0md\u001b[0m\u001b[0;34m[\u001b[0m\u001b[0;34m'bozo'\u001b[0m\u001b[0;34m]\u001b[0m\u001b[0;34m\u001b[0m\u001b[0;34m\u001b[0m\u001b[0m\n\u001b[0m\u001b[1;32m      2\u001b[0m \u001b[0;31m# 키를 입력하면 값이 출력되는데 값을 입력했기 때문에 정상적으로 출력이 일어나지 않는다.\u001b[0m\u001b[0;34m\u001b[0m\u001b[0;34m\u001b[0m\u001b[0;34m\u001b[0m\u001b[0m\n",
      "\u001b[0;31mKeyError\u001b[0m: 'bozo'"
     ]
    }
   ],
   "source": [
    "d['bozo']\n",
    "# 키를 입력하면 값이 출력되는데 값을 입력했기 때문에 정상적으로 출력이 일어나지 않는다."
   ]
  },
  {
   "cell_type": "markdown",
   "id": "0105cb4e-5df5-4b94-8f46-061b76886d3d",
   "metadata": {},
   "source": [
    "# Updating Dictionaries"
   ]
  },
  {
   "cell_type": "code",
   "execution_count": 5,
   "id": "03e7d322-54c4-46bc-9545-93e056db3c5b",
   "metadata": {},
   "outputs": [],
   "source": [
    "d = {'user' : 'bozo', 'pswd' : 1234}"
   ]
  },
  {
   "cell_type": "code",
   "execution_count": 6,
   "id": "1f0bc53b-eec2-44eb-9fe7-8554cee8b2b4",
   "metadata": {},
   "outputs": [],
   "source": [
    "d['user'] = 'clown'\n",
    "# 키를 활용하여 값을 업데이트할 수 있다."
   ]
  },
  {
   "cell_type": "code",
   "execution_count": 7,
   "id": "30b66047-baeb-4b3b-b666-5c1e5d45f7a3",
   "metadata": {},
   "outputs": [
    {
     "data": {
      "text/plain": [
       "{'user': 'clown', 'pswd': 1234}"
      ]
     },
     "execution_count": 7,
     "metadata": {},
     "output_type": "execute_result"
    }
   ],
   "source": [
    "d"
   ]
  },
  {
   "cell_type": "code",
   "execution_count": 8,
   "id": "54adf125-d778-4050-9927-c77b790e4571",
   "metadata": {},
   "outputs": [],
   "source": [
    "d['id'] = 45\n",
    "# 새로운 키와 값을 입력할 수 있다."
   ]
  },
  {
   "cell_type": "code",
   "execution_count": 9,
   "id": "22276854-1315-49ec-82d5-3b9a07a69caa",
   "metadata": {},
   "outputs": [
    {
     "data": {
      "text/plain": [
       "{'user': 'clown', 'pswd': 1234, 'id': 45}"
      ]
     },
     "execution_count": 9,
     "metadata": {},
     "output_type": "execute_result"
    }
   ],
   "source": [
    "d"
   ]
  },
  {
   "cell_type": "markdown",
   "id": "70e1a325-7024-4654-9604-a5865abcfa41",
   "metadata": {},
   "source": [
    "# Removing dictionary entries"
   ]
  },
  {
   "cell_type": "code",
   "execution_count": 10,
   "id": "4d33cde1-08df-4992-ac90-6a55089adfbe",
   "metadata": {},
   "outputs": [],
   "source": [
    "d = {'user' : 'bozo', 'p' : 1234, 'i' : 34}"
   ]
  },
  {
   "cell_type": "code",
   "execution_count": 11,
   "id": "6809b594-f61c-40d1-828e-6005bae0a8cd",
   "metadata": {},
   "outputs": [
    {
     "data": {
      "text/plain": [
       "{'user': 'bozo', 'p': 1234, 'i': 34}"
      ]
     },
     "execution_count": 11,
     "metadata": {},
     "output_type": "execute_result"
    }
   ],
   "source": [
    "d"
   ]
  },
  {
   "cell_type": "code",
   "execution_count": 12,
   "id": "e9a30bb9-ec38-4b6e-8692-53e226fda826",
   "metadata": {},
   "outputs": [],
   "source": [
    "del d['user']\n",
    "# 특정한 키를 찾아 키와 값을 삭제한다."
   ]
  },
  {
   "cell_type": "code",
   "execution_count": 13,
   "id": "e1fd9459-f1fc-4081-b714-5bf67842b1f6",
   "metadata": {},
   "outputs": [
    {
     "data": {
      "text/plain": [
       "{'p': 1234, 'i': 34}"
      ]
     },
     "execution_count": 13,
     "metadata": {},
     "output_type": "execute_result"
    }
   ],
   "source": [
    "d"
   ]
  },
  {
   "cell_type": "code",
   "execution_count": 14,
   "id": "2d3c2129-9258-4ed2-933f-d9a02e4c2389",
   "metadata": {},
   "outputs": [],
   "source": [
    "d.clear()\n",
    "# 딕셔너리의 모든 키와 값을 삭제한다."
   ]
  },
  {
   "cell_type": "code",
   "execution_count": 15,
   "id": "e1925aa9-d23f-4182-9d00-ac0c1ffa40a0",
   "metadata": {},
   "outputs": [
    {
     "data": {
      "text/plain": [
       "{}"
      ]
     },
     "execution_count": 15,
     "metadata": {},
     "output_type": "execute_result"
    }
   ],
   "source": [
    "d"
   ]
  },
  {
   "cell_type": "code",
   "execution_count": 16,
   "id": "0edccdfb-a180-41e1-a5e3-ea801e1ce636",
   "metadata": {},
   "outputs": [],
   "source": [
    "a = [1, 2]"
   ]
  },
  {
   "cell_type": "code",
   "execution_count": 17,
   "id": "21fb1170-8dfc-4a06-9759-0bf8828aee59",
   "metadata": {},
   "outputs": [
    {
     "data": {
      "text/plain": [
       "[1, 2]"
      ]
     },
     "execution_count": 17,
     "metadata": {},
     "output_type": "execute_result"
    }
   ],
   "source": [
    "a"
   ]
  },
  {
   "cell_type": "code",
   "execution_count": 18,
   "id": "f2cd26c7-9952-4b9b-ac49-ba1e7d9f73de",
   "metadata": {},
   "outputs": [],
   "source": [
    "del a[1]\n",
    "# 리스트에서도 작동한다.\n",
    "# 이 경우 a리스트의 1번째 값을 삭제하는 것이다."
   ]
  },
  {
   "cell_type": "code",
   "execution_count": 19,
   "id": "d183a249-9e70-434f-a861-c67b4289b8c2",
   "metadata": {},
   "outputs": [
    {
     "data": {
      "text/plain": [
       "[1]"
      ]
     },
     "execution_count": 19,
     "metadata": {},
     "output_type": "execute_result"
    }
   ],
   "source": [
    "a"
   ]
  },
  {
   "cell_type": "markdown",
   "id": "10d19a4d-7e7e-4485-86ed-6dc920061963",
   "metadata": {},
   "source": [
    "# Useful Accessor Methods"
   ]
  },
  {
   "cell_type": "code",
   "execution_count": 20,
   "id": "3a433f4b-9e7c-4306-98a9-5123b5f35ae3",
   "metadata": {},
   "outputs": [],
   "source": [
    "d = {'user' : 'bozo', 'p' : 1234, 'i' : 34}"
   ]
  },
  {
   "cell_type": "code",
   "execution_count": 21,
   "id": "ed7ea0b0-6fdf-476e-97e6-e8601751d924",
   "metadata": {},
   "outputs": [
    {
     "data": {
      "text/plain": [
       "{'user': 'bozo', 'p': 1234, 'i': 34}"
      ]
     },
     "execution_count": 21,
     "metadata": {},
     "output_type": "execute_result"
    }
   ],
   "source": [
    "d"
   ]
  },
  {
   "cell_type": "code",
   "execution_count": 22,
   "id": "d8e2600e-8a4c-439e-a17a-c28fe085ed8f",
   "metadata": {},
   "outputs": [
    {
     "data": {
      "text/plain": [
       "dict_keys(['user', 'p', 'i'])"
      ]
     },
     "execution_count": 22,
     "metadata": {},
     "output_type": "execute_result"
    }
   ],
   "source": [
    "d.keys()\n",
    "# 딕셔너리의 키를 리스트로 반환한다."
   ]
  },
  {
   "cell_type": "code",
   "execution_count": 23,
   "id": "855f43b3-31cb-4347-b2b1-7eca4d9bd9eb",
   "metadata": {},
   "outputs": [
    {
     "data": {
      "text/plain": [
       "dict_values(['bozo', 1234, 34])"
      ]
     },
     "execution_count": 23,
     "metadata": {},
     "output_type": "execute_result"
    }
   ],
   "source": [
    "d.values()\n",
    "# 딕셔너리의 값을 리스트로 반환한다."
   ]
  },
  {
   "cell_type": "code",
   "execution_count": 24,
   "id": "fcb9778c-9081-4d8e-875a-14567565f206",
   "metadata": {},
   "outputs": [
    {
     "data": {
      "text/plain": [
       "dict_items([('user', 'bozo'), ('p', 1234), ('i', 34)])"
      ]
     },
     "execution_count": 24,
     "metadata": {},
     "output_type": "execute_result"
    }
   ],
   "source": [
    "d.items()\n",
    "# 딕셔너리의 키와 값을 튜플로 묶어서 리스트로 반환한다."
   ]
  },
  {
   "cell_type": "code",
   "execution_count": null,
   "id": "a0092bdb-729d-4570-ab16-4c5f862a3387",
   "metadata": {},
   "outputs": [],
   "source": []
  }
 ],
 "metadata": {
  "kernelspec": {
   "display_name": "Python 3",
   "language": "python",
   "name": "python3"
  },
  "language_info": {
   "codemirror_mode": {
    "name": "ipython",
    "version": 3
   },
   "file_extension": ".py",
   "mimetype": "text/x-python",
   "name": "python",
   "nbconvert_exporter": "python",
   "pygments_lexer": "ipython3",
   "version": "3.9.4"
  }
 },
 "nbformat": 4,
 "nbformat_minor": 5
}
