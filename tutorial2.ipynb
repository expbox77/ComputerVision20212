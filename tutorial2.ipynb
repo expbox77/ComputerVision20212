{
 "cells": [
  {
   "cell_type": "markdown",
   "id": "fdd03eca-a733-460c-ab87-704ac6698106",
   "metadata": {},
   "source": [
    "# Lists: Mutable"
   ]
  },
  {
   "cell_type": "code",
   "execution_count": 1,
   "id": "61ed5082-7e7a-465d-a0dd-7526fd2225c1",
   "metadata": {},
   "outputs": [],
   "source": [
    "li = ['abc', 23, 4.34, 23]"
   ]
  },
  {
   "cell_type": "code",
   "execution_count": 2,
   "id": "232adab4-f67f-429a-bbb1-015a6ab3e50f",
   "metadata": {},
   "outputs": [
    {
     "data": {
      "text/plain": [
       "['abc', 23, 4.34, 23]"
      ]
     },
     "execution_count": 2,
     "metadata": {},
     "output_type": "execute_result"
    }
   ],
   "source": [
    "li"
   ]
  },
  {
   "cell_type": "code",
   "execution_count": 3,
   "id": "3c00071d-9cde-46d0-88b6-b2f84f8b9a56",
   "metadata": {},
   "outputs": [],
   "source": [
    "li[1] = 45"
   ]
  },
  {
   "cell_type": "code",
   "execution_count": 4,
   "id": "d3ef2cd8-2106-49a3-8e22-64f3dd2ad25a",
   "metadata": {},
   "outputs": [
    {
     "data": {
      "text/plain": [
       "['abc', 45, 4.34, 23]"
      ]
     },
     "execution_count": 4,
     "metadata": {},
     "output_type": "execute_result"
    }
   ],
   "source": [
    "li"
   ]
  },
  {
   "cell_type": "markdown",
   "id": "fdb7e478-d3ec-44d6-b4c3-4e1489ea01ff",
   "metadata": {},
   "source": [
    " # Tuples: Immutable"
   ]
  },
  {
   "cell_type": "code",
   "execution_count": 5,
   "id": "97f198d6-5f86-4b8d-b765-195214918b90",
   "metadata": {},
   "outputs": [],
   "source": [
    "t = (23, 'abc', 4.56, (2,3), 'def')"
   ]
  },
  {
   "cell_type": "code",
   "execution_count": 6,
   "id": "cc443cba-bb0d-4a5d-9d24-35dfc7ae8dc7",
   "metadata": {},
   "outputs": [
    {
     "data": {
      "text/plain": [
       "(23, 'abc', 4.56, (2, 3), 'def')"
      ]
     },
     "execution_count": 6,
     "metadata": {},
     "output_type": "execute_result"
    }
   ],
   "source": [
    "t"
   ]
  },
  {
   "cell_type": "code",
   "execution_count": 7,
   "id": "33c7e2da-3857-4085-bef0-03a397b81040",
   "metadata": {},
   "outputs": [
    {
     "ename": "TypeError",
     "evalue": "'tuple' object does not support item assignment",
     "output_type": "error",
     "traceback": [
      "\u001b[0;31m---------------------------------------------------------------------------\u001b[0m",
      "\u001b[0;31mTypeError\u001b[0m                                 Traceback (most recent call last)",
      "\u001b[0;32m<ipython-input-7-0c5a1fd0e648>\u001b[0m in \u001b[0;36m<module>\u001b[0;34m\u001b[0m\n\u001b[0;32m----> 1\u001b[0;31m \u001b[0mt\u001b[0m\u001b[0;34m[\u001b[0m\u001b[0;36m2\u001b[0m\u001b[0;34m]\u001b[0m \u001b[0;34m=\u001b[0m \u001b[0;36m3.14\u001b[0m\u001b[0;34m\u001b[0m\u001b[0;34m\u001b[0m\u001b[0m\n\u001b[0m",
      "\u001b[0;31mTypeError\u001b[0m: 'tuple' object does not support item assignment"
     ]
    }
   ],
   "source": [
    "t[2] = 3.14"
   ]
  },
  {
   "cell_type": "code",
   "execution_count": 8,
   "id": "e497c8bc-9b8f-4e7f-ae1a-52cec119939e",
   "metadata": {},
   "outputs": [],
   "source": [
    "t = (23, 'abc', 3.14, (2,3), 'def')\n",
    "# 튜플은 immutable하여 원소의 값을 바꿀 수는 없다. 같은 변수 이름으로 값을 바꾼 튜플을 새로 생성하면 된다."
   ]
  },
  {
   "cell_type": "code",
   "execution_count": 9,
   "id": "f14cc3a6-33a1-4c3d-8b46-b1a3c4225135",
   "metadata": {},
   "outputs": [
    {
     "data": {
      "text/plain": [
       "(23, 'abc', 3.14, (2, 3), 'def')"
      ]
     },
     "execution_count": 9,
     "metadata": {},
     "output_type": "execute_result"
    }
   ],
   "source": [
    "t"
   ]
  },
  {
   "cell_type": "markdown",
   "id": "59dcfa4b-8b08-4334-a0ee-0255aaae0e16",
   "metadata": {},
   "source": [
    "# Operations on Lists Only 1"
   ]
  },
  {
   "cell_type": "code",
   "execution_count": 10,
   "id": "6df427b7-8e08-4814-994f-2cb83376c27f",
   "metadata": {},
   "outputs": [],
   "source": [
    "li = [1, 11, 3, 4, 5]"
   ]
  },
  {
   "cell_type": "code",
   "execution_count": 11,
   "id": "5172c983-b5fe-4f75-b8c7-d2a9822708ad",
   "metadata": {},
   "outputs": [
    {
     "data": {
      "text/plain": [
       "[1, 11, 3, 4, 5]"
      ]
     },
     "execution_count": 11,
     "metadata": {},
     "output_type": "execute_result"
    }
   ],
   "source": [
    "li"
   ]
  },
  {
   "cell_type": "code",
   "execution_count": 12,
   "id": "3be168ed-44c2-46b3-8eec-2472220c1e99",
   "metadata": {},
   "outputs": [],
   "source": [
    "li.append('a')\n",
    "# 마지막 자리에 'a'를 삽입"
   ]
  },
  {
   "cell_type": "code",
   "execution_count": 13,
   "id": "a14dc71a-d63c-41d5-9786-7a62cb5e06eb",
   "metadata": {},
   "outputs": [
    {
     "data": {
      "text/plain": [
       "[1, 11, 3, 4, 5, 'a']"
      ]
     },
     "execution_count": 13,
     "metadata": {},
     "output_type": "execute_result"
    }
   ],
   "source": [
    "li"
   ]
  },
  {
   "cell_type": "code",
   "execution_count": 14,
   "id": "0ea818ba-7800-4cbb-adbb-512dbb44031b",
   "metadata": {},
   "outputs": [],
   "source": [
    "li.insert(2, 'i')\n",
    "# 2번째 자리에 'i'를 삽입 (0번째 부터)"
   ]
  },
  {
   "cell_type": "code",
   "execution_count": 15,
   "id": "d8268267-17a3-47e1-a7bd-8be64a040f4a",
   "metadata": {},
   "outputs": [
    {
     "data": {
      "text/plain": [
       "[1, 11, 'i', 3, 4, 5, 'a']"
      ]
     },
     "execution_count": 15,
     "metadata": {},
     "output_type": "execute_result"
    }
   ],
   "source": [
    "li"
   ]
  },
  {
   "cell_type": "markdown",
   "id": "874aad8f-5711-4edf-b329-01b17955322a",
   "metadata": {},
   "source": [
    "# the extend method vs the + operator"
   ]
  },
  {
   "cell_type": "code",
   "execution_count": 16,
   "id": "a07feea8-fa46-4384-8d2e-c875e1148dd3",
   "metadata": {},
   "outputs": [],
   "source": [
    "li.extend([9, 8, 7])\n",
    "# 리스트를 합치는 extend"
   ]
  },
  {
   "cell_type": "code",
   "execution_count": 17,
   "id": "9f7e4a6f-58d4-46be-b5c2-b91cc3e66e69",
   "metadata": {},
   "outputs": [
    {
     "data": {
      "text/plain": [
       "[1, 11, 'i', 3, 4, 5, 'a', 9, 8, 7]"
      ]
     },
     "execution_count": 17,
     "metadata": {},
     "output_type": "execute_result"
    }
   ],
   "source": [
    "li"
   ]
  },
  {
   "cell_type": "code",
   "execution_count": 18,
   "id": "0c325d7c-348b-4e99-98d3-400612319dd2",
   "metadata": {},
   "outputs": [],
   "source": [
    "li.append([10, 11, 12])\n",
    "# append라면 [10, 11, 12] 리스트가 마지막 원소로 추가된다."
   ]
  },
  {
   "cell_type": "code",
   "execution_count": 19,
   "id": "b2c7f559-b404-43c5-8caa-ba1a5632fdf4",
   "metadata": {},
   "outputs": [
    {
     "data": {
      "text/plain": [
       "[1, 11, 'i', 3, 4, 5, 'a', 9, 8, 7, [10, 11, 12]]"
      ]
     },
     "execution_count": 19,
     "metadata": {},
     "output_type": "execute_result"
    }
   ],
   "source": [
    "li"
   ]
  },
  {
   "cell_type": "markdown",
   "id": "8f67ffb4-3359-4b44-81c6-677325f90e94",
   "metadata": {},
   "source": [
    "# Operations on Lists Only 3"
   ]
  },
  {
   "cell_type": "code",
   "execution_count": 20,
   "id": "38c0cb01-94d1-49dd-99fc-00efb713c67a",
   "metadata": {},
   "outputs": [],
   "source": [
    "li = ['a', 'b', 'c', 'b']"
   ]
  },
  {
   "cell_type": "code",
   "execution_count": 21,
   "id": "9db0fd2f-89fe-4058-ba50-55d26f2f383f",
   "metadata": {},
   "outputs": [
    {
     "data": {
      "text/plain": [
       "1"
      ]
     },
     "execution_count": 21,
     "metadata": {},
     "output_type": "execute_result"
    }
   ],
   "source": [
    "li.index('b')\n",
    "# index는 리스트의 0번째부터 시작하여 첫번째로 만난 원소의 위치를 찾아준다.\n",
    "# 'b'의 경우 1번째 3번째에 있지만 첫번째로 만난 원소가 1번째라 1을 반환"
   ]
  },
  {
   "cell_type": "code",
   "execution_count": 22,
   "id": "b8a63516-cc7a-40fb-b4ac-50482749c0e5",
   "metadata": {},
   "outputs": [
    {
     "data": {
      "text/plain": [
       "2"
      ]
     },
     "execution_count": 22,
     "metadata": {},
     "output_type": "execute_result"
    }
   ],
   "source": [
    "li.count('b')\n",
    "# count는 값의 갯수를 찾아준다.\n",
    "# 'b'의 경우 2개라서 2를 반환"
   ]
  },
  {
   "cell_type": "code",
   "execution_count": 23,
   "id": "186113cc-bf71-4cea-b513-1108a7c7b46e",
   "metadata": {},
   "outputs": [],
   "source": [
    "li.remove('b')\n",
    "# index는 리스트의 0번째부터 시작하여 첫번째로 만난 원소를 삭제한다.\n",
    "# 'b'의 경우 1번째 3번째에 있지만 첫번째로 만난 원소가 1번째라 1번째를 삭제"
   ]
  },
  {
   "cell_type": "code",
   "execution_count": 24,
   "id": "bcd02bd0-27a6-47c8-bf0c-c35684190ee5",
   "metadata": {},
   "outputs": [
    {
     "data": {
      "text/plain": [
       "['a', 'c', 'b']"
      ]
     },
     "execution_count": 24,
     "metadata": {},
     "output_type": "execute_result"
    }
   ],
   "source": [
    "li"
   ]
  },
  {
   "cell_type": "markdown",
   "id": "d2bfa7dd-b7b7-46bc-95f5-4c3299256167",
   "metadata": {},
   "source": [
    "# Operations on Lists Only 4"
   ]
  },
  {
   "cell_type": "code",
   "execution_count": 25,
   "id": "80567a17-434a-4120-be51-0d16baedb494",
   "metadata": {},
   "outputs": [],
   "source": [
    "li = [5, 2, 6, 8]"
   ]
  },
  {
   "cell_type": "code",
   "execution_count": 26,
   "id": "cf17e5bf-5694-4320-b454-dcb022e09a0a",
   "metadata": {},
   "outputs": [
    {
     "data": {
      "text/plain": [
       "[5, 2, 6, 8]"
      ]
     },
     "execution_count": 26,
     "metadata": {},
     "output_type": "execute_result"
    }
   ],
   "source": [
    "li"
   ]
  },
  {
   "cell_type": "code",
   "execution_count": 27,
   "id": "58d427bd-38f8-417b-b6de-b5336d6460af",
   "metadata": {},
   "outputs": [],
   "source": [
    "li.reverse()\n",
    "# reverse는 리스트를 역으로 배열한다."
   ]
  },
  {
   "cell_type": "code",
   "execution_count": 28,
   "id": "24f0cf6e-e75f-4bc4-9d90-24c5c5d9f1fa",
   "metadata": {},
   "outputs": [
    {
     "data": {
      "text/plain": [
       "[8, 6, 2, 5]"
      ]
     },
     "execution_count": 28,
     "metadata": {},
     "output_type": "execute_result"
    }
   ],
   "source": [
    "li"
   ]
  },
  {
   "cell_type": "code",
   "execution_count": 29,
   "id": "01883b99-7d68-477a-b3ea-e5b07cbba1fd",
   "metadata": {},
   "outputs": [],
   "source": [
    "li.sort()\n",
    "# sort는 ()안에 사용자가 지정한 방법으로 정렬한다.\n",
    "# 이 경우는 오름차순이 된다."
   ]
  },
  {
   "cell_type": "code",
   "execution_count": 30,
   "id": "7f77dc1a-cff9-40c7-aa25-1d2fad59d8bf",
   "metadata": {},
   "outputs": [
    {
     "data": {
      "text/plain": [
       "[2, 5, 6, 8]"
      ]
     },
     "execution_count": 30,
     "metadata": {},
     "output_type": "execute_result"
    }
   ],
   "source": [
    "li"
   ]
  },
  {
   "cell_type": "code",
   "execution_count": null,
   "id": "d180e596-e6ca-4d69-9cc4-599e6744a5c3",
   "metadata": {},
   "outputs": [],
   "source": []
  }
 ],
 "metadata": {
  "kernelspec": {
   "display_name": "Python 3",
   "language": "python",
   "name": "python3"
  },
  "language_info": {
   "codemirror_mode": {
    "name": "ipython",
    "version": 3
   },
   "file_extension": ".py",
   "mimetype": "text/x-python",
   "name": "python",
   "nbconvert_exporter": "python",
   "pygments_lexer": "ipython3",
   "version": "3.9.4"
  }
 },
 "nbformat": 4,
 "nbformat_minor": 5
}
