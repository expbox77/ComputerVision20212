{
 "cells": [
  {
   "cell_type": "markdown",
   "id": "b4cfd9ae-6fa0-493e-9781-6c50faedb2c8",
   "metadata": {},
   "source": [
    "# Mutablility: Tuples vs Lists"
   ]
  },
  {
   "cell_type": "markdown",
   "id": "fdd03eca-a733-460c-ab87-704ac6698106",
   "metadata": {},
   "source": [
    "### Lists: Mutable"
   ]
  },
  {
   "cell_type": "code",
   "execution_count": 1,
   "id": "61ed5082-7e7a-465d-a0dd-7526fd2225c1",
   "metadata": {},
   "outputs": [],
   "source": [
    "# list 생성\n",
    "li = ['abc', 23, 4.34, 23]"
   ]
  },
  {
   "cell_type": "code",
   "execution_count": 2,
   "id": "3c00071d-9cde-46d0-88b6-b2f84f8b9a56",
   "metadata": {},
   "outputs": [],
   "source": [
    "# 리스트의 1번째 원소를 45로 변경\n",
    "# list는 mutable 하기 때문에 원소를 변경할 수 있다.\n",
    "li[1] = 45"
   ]
  },
  {
   "cell_type": "code",
   "execution_count": 3,
   "id": "d3ef2cd8-2106-49a3-8e22-64f3dd2ad25a",
   "metadata": {},
   "outputs": [
    {
     "name": "stdout",
     "output_type": "stream",
     "text": [
      "['abc', 45, 4.34, 23]\n"
     ]
    }
   ],
   "source": [
    "print(li)"
   ]
  },
  {
   "cell_type": "markdown",
   "id": "fdb7e478-d3ec-44d6-b4c3-4e1489ea01ff",
   "metadata": {},
   "source": [
    "### Tuples: Immutable"
   ]
  },
  {
   "cell_type": "code",
   "execution_count": 4,
   "id": "97f198d6-5f86-4b8d-b765-195214918b90",
   "metadata": {},
   "outputs": [],
   "source": [
    "# tuple 생성\n",
    "t = (23, 'abc', 4.56, (2,3), 'def')"
   ]
  },
  {
   "cell_type": "code",
   "execution_count": 5,
   "id": "33c7e2da-3857-4085-bef0-03a397b81040",
   "metadata": {},
   "outputs": [
    {
     "ename": "TypeError",
     "evalue": "'tuple' object does not support item assignment",
     "output_type": "error",
     "traceback": [
      "\u001b[0;31m---------------------------------------------------------------------------\u001b[0m",
      "\u001b[0;31mTypeError\u001b[0m                                 Traceback (most recent call last)",
      "\u001b[0;32m<ipython-input-5-0c5a1fd0e648>\u001b[0m in \u001b[0;36m<module>\u001b[0;34m\u001b[0m\n\u001b[0;32m----> 1\u001b[0;31m \u001b[0mt\u001b[0m\u001b[0;34m[\u001b[0m\u001b[0;36m2\u001b[0m\u001b[0;34m]\u001b[0m \u001b[0;34m=\u001b[0m \u001b[0;36m3.14\u001b[0m\u001b[0;34m\u001b[0m\u001b[0;34m\u001b[0m\u001b[0m\n\u001b[0m",
      "\u001b[0;31mTypeError\u001b[0m: 'tuple' object does not support item assignment"
     ]
    }
   ],
   "source": [
    "t[2] = 3.14"
   ]
  },
  {
   "cell_type": "code",
   "execution_count": 6,
   "id": "e497c8bc-9b8f-4e7f-ae1a-52cec119939e",
   "metadata": {},
   "outputs": [],
   "source": [
    "# 튜플은 immutable하여 원소의 값을 바꿀 수 없다.\n",
    "# 만약 원소를 바꿔야할 일이 생긴다면 같은 변수 이름으로 값을 바꾼 튜플을 새로 생성하면 된다.\n",
    "t = (23, 'abc', 3.14, (2,3), 'def')"
   ]
  },
  {
   "cell_type": "code",
   "execution_count": 7,
   "id": "f14cc3a6-33a1-4c3d-8b46-b1a3c4225135",
   "metadata": {},
   "outputs": [
    {
     "name": "stdout",
     "output_type": "stream",
     "text": [
      "(23, 'abc', 3.14, (2, 3), 'def')\n"
     ]
    }
   ],
   "source": [
    "print(t)"
   ]
  },
  {
   "cell_type": "markdown",
   "id": "59dcfa4b-8b08-4334-a0ee-0255aaae0e16",
   "metadata": {},
   "source": [
    "### Operations on Lists Only 1"
   ]
  },
  {
   "cell_type": "code",
   "execution_count": 8,
   "id": "6df427b7-8e08-4814-994f-2cb83376c27f",
   "metadata": {},
   "outputs": [],
   "source": [
    "# list에서 사용가능한 작업\n",
    "li = [1, 11, 3, 4, 5]"
   ]
  },
  {
   "cell_type": "code",
   "execution_count": 9,
   "id": "5172c983-b5fe-4f75-b8c7-d2a9822708ad",
   "metadata": {},
   "outputs": [
    {
     "name": "stdout",
     "output_type": "stream",
     "text": [
      "[1, 11, 3, 4, 5]\n"
     ]
    }
   ],
   "source": [
    "print(li)"
   ]
  },
  {
   "cell_type": "code",
   "execution_count": 10,
   "id": "3be168ed-44c2-46b3-8eec-2472220c1e99",
   "metadata": {},
   "outputs": [],
   "source": [
    "# li라는 list에 마지막에 원소 'a'를 삽입\n",
    "li.append('a')"
   ]
  },
  {
   "cell_type": "code",
   "execution_count": 11,
   "id": "a14dc71a-d63c-41d5-9786-7a62cb5e06eb",
   "metadata": {},
   "outputs": [
    {
     "name": "stdout",
     "output_type": "stream",
     "text": [
      "[1, 11, 3, 4, 5, 'a']\n"
     ]
    }
   ],
   "source": [
    "print(li)"
   ]
  },
  {
   "cell_type": "code",
   "execution_count": 12,
   "id": "0ea818ba-7800-4cbb-adbb-512dbb44031b",
   "metadata": {},
   "outputs": [],
   "source": [
    "# li라는 list의 2번째 자리에 원소 'i'를 삽입\n",
    "li.insert(2, 'i')"
   ]
  },
  {
   "cell_type": "code",
   "execution_count": 13,
   "id": "d8268267-17a3-47e1-a7bd-8be64a040f4a",
   "metadata": {},
   "outputs": [
    {
     "name": "stdout",
     "output_type": "stream",
     "text": [
      "[1, 11, 'i', 3, 4, 5, 'a']\n"
     ]
    }
   ],
   "source": [
    "print(li)"
   ]
  },
  {
   "cell_type": "markdown",
   "id": "874aad8f-5711-4edf-b329-01b17955322a",
   "metadata": {},
   "source": [
    "### the extend method vs the + operator"
   ]
  },
  {
   "cell_type": "code",
   "execution_count": 14,
   "id": "a07feea8-fa46-4384-8d2e-c875e1148dd3",
   "metadata": {},
   "outputs": [],
   "source": [
    "# +를 사용하면 새로운 메모리의 새로운 튜플 혹은 리스트를 만들게 된다.\n",
    "# 그러나 extend는 기존에 있던 리스트 혹은 튜플에 더하는 방식이다.\n",
    "li.extend([9, 8, 7])"
   ]
  },
  {
   "cell_type": "code",
   "execution_count": 15,
   "id": "9f7e4a6f-58d4-46be-b5c2-b91cc3e66e69",
   "metadata": {},
   "outputs": [
    {
     "name": "stdout",
     "output_type": "stream",
     "text": [
      "[1, 11, 'i', 3, 4, 5, 'a', 9, 8, 7]\n"
     ]
    }
   ],
   "source": [
    "print(li)"
   ]
  },
  {
   "cell_type": "code",
   "execution_count": 16,
   "id": "0c325d7c-348b-4e99-98d3-400612319dd2",
   "metadata": {},
   "outputs": [],
   "source": [
    "# append라면 [10, 11, 12] 리스트가 마지막 원소로 추가된다.\n",
    "li.append([10, 11, 12])"
   ]
  },
  {
   "cell_type": "code",
   "execution_count": 17,
   "id": "b2c7f559-b404-43c5-8caa-ba1a5632fdf4",
   "metadata": {},
   "outputs": [
    {
     "name": "stdout",
     "output_type": "stream",
     "text": [
      "[1, 11, 'i', 3, 4, 5, 'a', 9, 8, 7, [10, 11, 12]]\n"
     ]
    }
   ],
   "source": [
    "print(li)"
   ]
  },
  {
   "cell_type": "code",
   "execution_count": 18,
   "id": "e3354bfb-c883-403a-97a5-f161c8ca00e2",
   "metadata": {},
   "outputs": [],
   "source": [
    "# 응용\n",
    "# insert 사용으로 append와 동일한 기능으로 사용 가능.\n",
    "li.insert(-1, [13, 14, 15])"
   ]
  },
  {
   "cell_type": "code",
   "execution_count": 19,
   "id": "c857bb09-71e0-40a8-b7a1-bebbc9395091",
   "metadata": {},
   "outputs": [
    {
     "name": "stdout",
     "output_type": "stream",
     "text": [
      "[1, 11, 'i', 3, 4, 5, 'a', 9, 8, 7, [13, 14, 15], [10, 11, 12]]\n"
     ]
    }
   ],
   "source": [
    "print(li)"
   ]
  },
  {
   "cell_type": "markdown",
   "id": "8f67ffb4-3359-4b44-81c6-677325f90e94",
   "metadata": {},
   "source": [
    "### Operations on Lists Only 3"
   ]
  },
  {
   "cell_type": "code",
   "execution_count": 20,
   "id": "38c0cb01-94d1-49dd-99fc-00efb713c67a",
   "metadata": {},
   "outputs": [],
   "source": [
    "li = ['a', 'b', 'c', 'b']"
   ]
  },
  {
   "cell_type": "code",
   "execution_count": 21,
   "id": "9db0fd2f-89fe-4058-ba50-55d26f2f383f",
   "metadata": {},
   "outputs": [
    {
     "data": {
      "text/plain": [
       "1"
      ]
     },
     "execution_count": 21,
     "metadata": {},
     "output_type": "execute_result"
    }
   ],
   "source": [
    "# index는 리스트의 0번째부터 시작하여 첫번째로 만난 원소의 위치를 찾아준다.\n",
    "# 'b'의 경우 1번째 3번째에 있지만 첫번째로 만난 원소가 1번째라 1을 반환\n",
    "li.index('b')"
   ]
  },
  {
   "cell_type": "code",
   "execution_count": 22,
   "id": "b8a63516-cc7a-40fb-b4ac-50482749c0e5",
   "metadata": {},
   "outputs": [
    {
     "data": {
      "text/plain": [
       "2"
      ]
     },
     "execution_count": 22,
     "metadata": {},
     "output_type": "execute_result"
    }
   ],
   "source": [
    "# count는 값의 갯수를 찾아준다.\n",
    "# 'b'의 경우 2개라서 2를 반환\n",
    "li.count('b')"
   ]
  },
  {
   "cell_type": "code",
   "execution_count": 23,
   "id": "186113cc-bf71-4cea-b513-1108a7c7b46e",
   "metadata": {},
   "outputs": [],
   "source": [
    "# index는 리스트의 0번째부터 시작하여 첫번째로 만난 원소를 삭제한다.\n",
    "# 'b'의 경우 1번째 3번째에 있지만 첫번째로 만난 원소가 1번째라 1번째를 삭제\n",
    "li.remove('b')"
   ]
  },
  {
   "cell_type": "code",
   "execution_count": 24,
   "id": "bcd02bd0-27a6-47c8-bf0c-c35684190ee5",
   "metadata": {},
   "outputs": [
    {
     "name": "stdout",
     "output_type": "stream",
     "text": [
      "['a', 'c', 'b']\n"
     ]
    }
   ],
   "source": [
    "print(li)"
   ]
  },
  {
   "cell_type": "markdown",
   "id": "d2bfa7dd-b7b7-46bc-95f5-4c3299256167",
   "metadata": {},
   "source": [
    "### Operations on Lists Only 4"
   ]
  },
  {
   "cell_type": "code",
   "execution_count": 25,
   "id": "80567a17-434a-4120-be51-0d16baedb494",
   "metadata": {},
   "outputs": [],
   "source": [
    "li = [5, 2, 6, 8]"
   ]
  },
  {
   "cell_type": "code",
   "execution_count": 26,
   "id": "58d427bd-38f8-417b-b6de-b5336d6460af",
   "metadata": {},
   "outputs": [],
   "source": [
    "# reverse는 리스트를 역으로 배열한다.\n",
    "li.reverse()"
   ]
  },
  {
   "cell_type": "code",
   "execution_count": 27,
   "id": "24f0cf6e-e75f-4bc4-9d90-24c5c5d9f1fa",
   "metadata": {},
   "outputs": [
    {
     "name": "stdout",
     "output_type": "stream",
     "text": [
      "[8, 6, 2, 5]\n"
     ]
    }
   ],
   "source": [
    "print(li)"
   ]
  },
  {
   "cell_type": "code",
   "execution_count": 28,
   "id": "01883b99-7d68-477a-b3ea-e5b07cbba1fd",
   "metadata": {},
   "outputs": [],
   "source": [
    "# sort는 ()안에 사용자가 지정한 방법으로 정렬한다.\n",
    "# 아무것도 없는 경우에는 오름차순으로 정렬된다.\n",
    "# ()안에 reverse=True 옵션 적용 시 내림차순\n",
    "li.sort()"
   ]
  },
  {
   "cell_type": "code",
   "execution_count": 29,
   "id": "7f77dc1a-cff9-40c7-aa25-1d2fad59d8bf",
   "metadata": {},
   "outputs": [
    {
     "name": "stdout",
     "output_type": "stream",
     "text": [
      "[2, 5, 6, 8]\n"
     ]
    }
   ],
   "source": [
    "print(li)"
   ]
  },
  {
   "cell_type": "markdown",
   "id": "7d48be6c-8407-41e0-89e3-60886218da15",
   "metadata": {},
   "source": [
    "### Tuples vs Lists"
   ]
  },
  {
   "cell_type": "code",
   "execution_count": 30,
   "id": "860bc344-eb51-4775-9ef1-8e06da99bce2",
   "metadata": {},
   "outputs": [],
   "source": [
    "li = [1, 2, 3, 4]\n",
    "tu = (4, 3, 2, 1)"
   ]
  },
  {
   "cell_type": "code",
   "execution_count": 31,
   "id": "4a02dd55-f773-43e2-827f-e17b5bdf3932",
   "metadata": {},
   "outputs": [
    {
     "name": "stdout",
     "output_type": "stream",
     "text": [
      "<class 'list'>\n",
      "<class 'tuple'>\n"
     ]
    }
   ],
   "source": [
    "print(type(li))\n",
    "print(type(tu))"
   ]
  },
  {
   "cell_type": "code",
   "execution_count": 32,
   "id": "f72cd56e-880b-49d2-9291-56603d199be2",
   "metadata": {},
   "outputs": [
    {
     "name": "stdout",
     "output_type": "stream",
     "text": [
      "[1, 2, 3, 4]\n",
      "(4, 3, 2, 1)\n"
     ]
    }
   ],
   "source": [
    "print(li)\n",
    "print(tu)"
   ]
  },
  {
   "cell_type": "code",
   "execution_count": 33,
   "id": "97a88418-4174-4dd0-bc5c-4725049d5dbd",
   "metadata": {},
   "outputs": [],
   "source": [
    "# 리스트와 튜플간에 변환도 가능하다.\n",
    "li2 = list(tu)\n",
    "tu2 = tuple(li)"
   ]
  },
  {
   "cell_type": "code",
   "execution_count": 34,
   "id": "fe2867ba-bc00-453d-b372-7d94b1c6de19",
   "metadata": {},
   "outputs": [
    {
     "name": "stdout",
     "output_type": "stream",
     "text": [
      "[4, 3, 2, 1]\n",
      "(1, 2, 3, 4)\n"
     ]
    }
   ],
   "source": [
    "print(li2)\n",
    "print(tu2)"
   ]
  },
  {
   "cell_type": "code",
   "execution_count": 35,
   "id": "059648cd-f162-437a-9fbc-b463b77ee5c2",
   "metadata": {},
   "outputs": [
    {
     "name": "stdout",
     "output_type": "stream",
     "text": [
      "<class 'list'>\n",
      "<class 'tuple'>\n"
     ]
    }
   ],
   "source": [
    "print(type(li2))\n",
    "print(type(tu2))"
   ]
  },
  {
   "cell_type": "code",
   "execution_count": null,
   "id": "ff55ad0f-9d39-48d7-a16f-f9184d958e79",
   "metadata": {},
   "outputs": [],
   "source": []
  }
 ],
 "metadata": {
  "kernelspec": {
   "display_name": "Python 3",
   "language": "python",
   "name": "python3"
  },
  "language_info": {
   "codemirror_mode": {
    "name": "ipython",
    "version": 3
   },
   "file_extension": ".py",
   "mimetype": "text/x-python",
   "name": "python",
   "nbconvert_exporter": "python",
   "pygments_lexer": "ipython3",
   "version": "3.9.4"
  }
 },
 "nbformat": 4,
 "nbformat_minor": 5
}
