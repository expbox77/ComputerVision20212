{
 "cells": [
  {
   "cell_type": "markdown",
   "id": "76f9601f-d17e-4fc5-95af-617e6ccd8821",
   "metadata": {},
   "source": [
    "# Boolean Expressions"
   ]
  },
  {
   "cell_type": "markdown",
   "id": "29624411-6fe8-4653-ab27-95a234738b5c",
   "metadata": {},
   "source": [
    "### True and False"
   ]
  },
  {
   "cell_type": "code",
   "execution_count": 1,
   "id": "93222997-948b-4d22-a4ec-7c20619e9baf",
   "metadata": {},
   "outputs": [],
   "source": [
    "# Boolean은 참/거짓으로 이루어진 값을 저장한다."
   ]
  },
  {
   "cell_type": "code",
   "execution_count": 2,
   "id": "e6a26b31-ac3a-4d43-93fa-98572cb62eec",
   "metadata": {},
   "outputs": [],
   "source": [
    "x = 1\n",
    "y = 1\n",
    "a = True\n",
    "b = False"
   ]
  },
  {
   "cell_type": "markdown",
   "id": "8c67cac5-1e6e-42e2-8782-34569bebd431",
   "metadata": {},
   "source": [
    "### Logical Operatiors"
   ]
  },
  {
   "cell_type": "code",
   "execution_count": 3,
   "id": "4143a53b-c483-4a5a-9b3a-d607c291267a",
   "metadata": {},
   "outputs": [
    {
     "name": "stdout",
     "output_type": "stream",
     "text": [
      "True\n"
     ]
    }
   ],
   "source": [
    "# ==, !=, <, <= 등 사용 가능\n",
    "# 이 경우 x와 y의 값이 같기 때문에 Ture\n",
    "print(x == y)"
   ]
  },
  {
   "cell_type": "code",
   "execution_count": 4,
   "id": "daa90675-9030-4747-9363-c67528955c21",
   "metadata": {},
   "outputs": [
    {
     "name": "stdout",
     "output_type": "stream",
     "text": [
      "False\n"
     ]
    }
   ],
   "source": [
    "# 이 경우 a and b의 값이 False\n",
    "print(a and b)"
   ]
  },
  {
   "cell_type": "code",
   "execution_count": 5,
   "id": "a9fe9bfb-24aa-4bbf-a898-832673b83c23",
   "metadata": {},
   "outputs": [
    {
     "name": "stdout",
     "output_type": "stream",
     "text": [
      "True\n"
     ]
    }
   ],
   "source": [
    "# 이 경우 a or b의 값이 True\n",
    "print(a or b)"
   ]
  },
  {
   "cell_type": "code",
   "execution_count": 6,
   "id": "4e93600c-69ed-43ca-a856-0bb84d795125",
   "metadata": {},
   "outputs": [
    {
     "name": "stdout",
     "output_type": "stream",
     "text": [
      "False\n"
     ]
    }
   ],
   "source": [
    "# 이 경우 a의 반대이기 때문에 False\n",
    "print(not a)"
   ]
  },
  {
   "cell_type": "code",
   "execution_count": 7,
   "id": "be6d2d20-1e8b-41e7-8e6e-4eaac42b492f",
   "metadata": {},
   "outputs": [
    {
     "name": "stdout",
     "output_type": "stream",
     "text": [
      "True\n"
     ]
    }
   ],
   "source": [
    "# 이 경우 b의 반대이기 때문에 True\n",
    "print(not b)"
   ]
  },
  {
   "cell_type": "markdown",
   "id": "9eafc4e6-3b00-4d3a-bd3f-5ba06a9f5821",
   "metadata": {},
   "source": [
    "### conditional Expressions"
   ]
  },
  {
   "cell_type": "code",
   "execution_count": 8,
   "id": "4fc36574-cf94-4033-94c1-2af1e4988f47",
   "metadata": {},
   "outputs": [],
   "source": [
    "# x = true_value if condition else false_value\n",
    "# if-else문을 한문장으로 사용할 수 있는 방법.\n",
    "# if의 condition이 True라면 true_value 값이, condition이 False라면 false_value 값이 x에 저장됨"
   ]
  },
  {
   "cell_type": "code",
   "execution_count": null,
   "id": "d48ce260-e658-44f3-a91e-260b3d7e9ba2",
   "metadata": {},
   "outputs": [],
   "source": []
  }
 ],
 "metadata": {
  "kernelspec": {
   "display_name": "Python 3",
   "language": "python",
   "name": "python3"
  },
  "language_info": {
   "codemirror_mode": {
    "name": "ipython",
    "version": 3
   },
   "file_extension": ".py",
   "mimetype": "text/x-python",
   "name": "python",
   "nbconvert_exporter": "python",
   "pygments_lexer": "ipython3",
   "version": "3.9.4"
  }
 },
 "nbformat": 4,
 "nbformat_minor": 5
}
