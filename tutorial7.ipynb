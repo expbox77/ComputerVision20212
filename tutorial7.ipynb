{
 "cells": [
  {
   "cell_type": "markdown",
   "id": "59ff38bc-c0be-4ab0-b6fa-f7bc07bf1b49",
   "metadata": {},
   "source": [
    "# Generating Lists using “List Comprehensions”"
   ]
  },
  {
   "cell_type": "markdown",
   "id": "d742f950-7835-4c02-ade2-8c957deb3382",
   "metadata": {},
   "source": [
    "### List Comprehensions 2"
   ]
  },
  {
   "cell_type": "code",
   "execution_count": 1,
   "id": "b89b65d2-4faf-43ff-af99-c1a44452fc58",
   "metadata": {},
   "outputs": [],
   "source": [
    "# [(expression) for (name) in (list)]"
   ]
  },
  {
   "cell_type": "code",
   "execution_count": 2,
   "id": "48a20691-71ce-452a-ae70-f70538368516",
   "metadata": {},
   "outputs": [],
   "source": [
    "li = [3, 6, 2, 7]"
   ]
  },
  {
   "cell_type": "code",
   "execution_count": 3,
   "id": "b2f57415-76b3-45a7-b691-306343fd6dfc",
   "metadata": {},
   "outputs": [
    {
     "name": "stdout",
     "output_type": "stream",
     "text": [
      "[6, 12, 4, 14]\n",
      "[3, 6, 2, 7]\n"
     ]
    }
   ],
   "source": [
    "# elem * 2으로 리스트 li에 있는 원소들을 전부 2배하는 함수\n",
    "# 리스트 li의 원소가 직접적으로 바뀌는 것은 아니다.\n",
    "print([elem * 2 for elem in li])\n",
    "print(li)"
   ]
  },
  {
   "cell_type": "markdown",
   "id": "d790c587-23c4-42cc-8ee8-f0c446453af1",
   "metadata": {},
   "source": [
    "### List Comprehensions 3"
   ]
  },
  {
   "cell_type": "code",
   "execution_count": 4,
   "id": "53e87be8-b56f-41a0-a43d-7a6de75bac60",
   "metadata": {},
   "outputs": [],
   "source": [
    "li = [('a', 1), ('b', 2), ('c', 7)]"
   ]
  },
  {
   "cell_type": "code",
   "execution_count": 5,
   "id": "5e4ccfee-33a9-4af0-a663-55947456885a",
   "metadata": {},
   "outputs": [
    {
     "name": "stdout",
     "output_type": "stream",
     "text": [
      "[3, 6, 21]\n",
      "[('a', 1), ('b', 2), ('c', 7)]\n"
     ]
    }
   ],
   "source": [
    "# li에 있는 각 튜플에서 숫자 원소들을 추출하여 전부 3배하는 함수\n",
    "# 리스트 li에 있는 값이 바뀌는 것은 아니다.\n",
    "print([n * 3 for (x, n) in li])\n",
    "print(li)"
   ]
  },
  {
   "cell_type": "markdown",
   "id": "5921c3d2-3df1-47be-b252-c406037c8b9e",
   "metadata": {},
   "source": [
    "### Flitered List Comprehension 2"
   ]
  },
  {
   "cell_type": "code",
   "execution_count": 6,
   "id": "8c761701-d453-422f-88fc-4d9e506984ac",
   "metadata": {},
   "outputs": [],
   "source": [
    "# [(expression) for (name) in (list)]"
   ]
  },
  {
   "cell_type": "code",
   "execution_count": 7,
   "id": "da7019b0-a445-4141-b4ae-40a8a7341d9b",
   "metadata": {},
   "outputs": [],
   "source": [
    "li = [3, 6, 2, 7, 1, 9]"
   ]
  },
  {
   "cell_type": "code",
   "execution_count": 8,
   "id": "5ef9fdd3-4987-4521-b14b-bcc49acad7ef",
   "metadata": {},
   "outputs": [
    {
     "data": {
      "text/plain": [
       "[12, 14, 18]"
      ]
     },
     "execution_count": 8,
     "metadata": {},
     "output_type": "execute_result"
    }
   ],
   "source": [
    "# 리스트 li에서 4초과 값만 추출하여 2배하는 함수\n",
    "[elem * 2 for elem in li if elem > 4]"
   ]
  },
  {
   "cell_type": "markdown",
   "id": "8d85694f-1322-4a64-8c2a-002fa2afc82b",
   "metadata": {},
   "source": [
    "### Nested List Comprehensions"
   ]
  },
  {
   "cell_type": "code",
   "execution_count": 9,
   "id": "3b85ea63-914c-4687-b56c-cbf8d0c13323",
   "metadata": {},
   "outputs": [],
   "source": [
    "li = [3, 2, 4, 1]"
   ]
  },
  {
   "cell_type": "code",
   "execution_count": 10,
   "id": "9311d062-ab55-4e7c-86f8-4a5dcfe4d6c5",
   "metadata": {},
   "outputs": [
    {
     "data": {
      "text/plain": [
       "[8, 6, 10, 4]"
      ]
     },
     "execution_count": 10,
     "metadata": {},
     "output_type": "execute_result"
    }
   ],
   "source": [
    "# 리스트 li의 원소를 추출하여 1을 더한 리스트를 만들고 그 원소를 2배하는 함수\n",
    "[elem * 2 for elem in [item + 1 for item in li]]"
   ]
  },
  {
   "cell_type": "code",
   "execution_count": null,
   "id": "fe6e31bc-46e2-4060-acf1-62a04e6cf356",
   "metadata": {},
   "outputs": [],
   "source": []
  }
 ],
 "metadata": {
  "kernelspec": {
   "display_name": "Python 3",
   "language": "python",
   "name": "python3"
  },
  "language_info": {
   "codemirror_mode": {
    "name": "ipython",
    "version": 3
   },
   "file_extension": ".py",
   "mimetype": "text/x-python",
   "name": "python",
   "nbconvert_exporter": "python",
   "pygments_lexer": "ipython3",
   "version": "3.9.4"
  }
 },
 "nbformat": 4,
 "nbformat_minor": 5
}
