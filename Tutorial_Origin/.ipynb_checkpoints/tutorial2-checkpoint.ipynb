{
 "cells": [
  {
   "cell_type": "code",
   "execution_count": 2,
   "id": "390642bc-bede-4815-ba23-c44d180154b0",
   "metadata": {},
   "outputs": [],
   "source": [
    "li = ['abc', 34, 4.34, 23]"
   ]
  },
  {
   "cell_type": "code",
   "execution_count": 3,
   "id": "6195699a-ef4b-4ae7-a57d-aacb45a45767",
   "metadata": {},
   "outputs": [],
   "source": [
    "li[1] = 45"
   ]
  },
  {
   "cell_type": "code",
   "execution_count": 4,
   "id": "afcf5d7d-7ab8-4f9f-bc28-11df11ba8335",
   "metadata": {},
   "outputs": [
    {
     "data": {
      "text/plain": [
       "['abc', 45, 4.34, 23]"
      ]
     },
     "execution_count": 4,
     "metadata": {},
     "output_type": "execute_result"
    }
   ],
   "source": [
    "li"
   ]
  },
  {
   "cell_type": "code",
   "execution_count": 5,
   "id": "b90f7e19-8fcb-4d86-a3a1-4de2c0457c6e",
   "metadata": {},
   "outputs": [],
   "source": [
    "t = (23, 'abc', 4.56, (2, 3), 'def')"
   ]
  },
  {
   "cell_type": "code",
   "execution_count": 6,
   "id": "36d06539-3b12-4a81-ad5b-f2f8082445f3",
   "metadata": {},
   "outputs": [
    {
     "ename": "TypeError",
     "evalue": "'tuple' object does not support item assignment",
     "output_type": "error",
     "traceback": [
      "\u001b[1;31m---------------------------------------------------------------------------\u001b[0m",
      "\u001b[1;31mTypeError\u001b[0m                                 Traceback (most recent call last)",
      "\u001b[1;32m<ipython-input-6-0c5a1fd0e648>\u001b[0m in \u001b[0;36m<module>\u001b[1;34m\u001b[0m\n\u001b[1;32m----> 1\u001b[1;33m \u001b[0mt\u001b[0m\u001b[1;33m[\u001b[0m\u001b[1;36m2\u001b[0m\u001b[1;33m]\u001b[0m \u001b[1;33m=\u001b[0m \u001b[1;36m3.14\u001b[0m\u001b[1;33m\u001b[0m\u001b[1;33m\u001b[0m\u001b[0m\n\u001b[0m",
      "\u001b[1;31mTypeError\u001b[0m: 'tuple' object does not support item assignment"
     ]
    }
   ],
   "source": [
    "t[2] = 3.14"
   ]
  },
  {
   "cell_type": "markdown",
   "id": "010ca39f-3d82-4c5e-914a-0226a15625db",
   "metadata": {},
   "source": [
    "immutable한 tuple에서는 내용을 바꾸는 것이 불가능하다."
   ]
  },
  {
   "cell_type": "code",
   "execution_count": 1,
   "id": "f761f322-d6ec-49d3-917a-1a6781be9460",
   "metadata": {},
   "outputs": [],
   "source": [
    "li = [1, 11, 3, 4, 5]"
   ]
  },
  {
   "cell_type": "code",
   "execution_count": 2,
   "id": "9347ac1d-6f51-42ff-89d5-d6a29d92a00a",
   "metadata": {},
   "outputs": [],
   "source": [
    "li.append('a')\n",
    "# 마지막 자리에 'a'를 삽입"
   ]
  },
  {
   "cell_type": "code",
   "execution_count": 3,
   "id": "c695f02a-a733-4aa8-acde-8cd473c34fce",
   "metadata": {},
   "outputs": [
    {
     "data": {
      "text/plain": [
       "[1, 11, 3, 4, 5, 'a']"
      ]
     },
     "execution_count": 3,
     "metadata": {},
     "output_type": "execute_result"
    }
   ],
   "source": [
    "li"
   ]
  },
  {
   "cell_type": "code",
   "execution_count": 6,
   "id": "4f6dccca-cbc3-4b96-9afb-a22365abd5af",
   "metadata": {},
   "outputs": [],
   "source": [
    "li.insert(2, 'i')\n",
    "# 2번째 자리에 'i'를 삽입"
   ]
  },
  {
   "cell_type": "code",
   "execution_count": 5,
   "id": "9954c2c7-7446-4339-9164-b04850e7b24f",
   "metadata": {},
   "outputs": [
    {
     "data": {
      "text/plain": [
       "[1, 11, 'i', 3, 4, 5, 'a']"
      ]
     },
     "execution_count": 5,
     "metadata": {},
     "output_type": "execute_result"
    }
   ],
   "source": [
    "li"
   ]
  },
  {
   "cell_type": "code",
   "execution_count": null,
   "id": "75d63ad0-677d-47f4-86fb-6e212f291e62",
   "metadata": {},
   "outputs": [],
   "source": []
  }
 ],
 "metadata": {
  "kernelspec": {
   "display_name": "Python 3",
   "language": "python",
   "name": "python3"
  },
  "language_info": {
   "codemirror_mode": {
    "name": "ipython",
    "version": 3
   },
   "file_extension": ".py",
   "mimetype": "text/x-python",
   "name": "python",
   "nbconvert_exporter": "python",
   "pygments_lexer": "ipython3",
   "version": "3.8.8"
  }
 },
 "nbformat": 4,
 "nbformat_minor": 5
}
