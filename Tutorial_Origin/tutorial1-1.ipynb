{
 "cells": [
  {
   "cell_type": "code",
   "execution_count": 1,
   "id": "8962aff2-b9e4-403f-8ad3-c0516b5075da",
   "metadata": {},
   "outputs": [
    {
     "name": "stdout",
     "output_type": "stream",
     "text": [
      "This is a multi-line\n",
      "###\n",
      "......\n",
      "..\n",
      "string that uses triple quotes.\n"
     ]
    }
   ],
   "source": [
    "st = \"\"\"This is a multi-line\n",
    "###\n",
    "......\n",
    "..\n",
    "string that uses triple quotes.\"\"\"\n",
    "print(st)"
   ]
  },
  {
   "cell_type": "code",
   "execution_count": 2,
   "id": "796d5230-bbe8-4ab5-9c3f-8aca7d03284b",
   "metadata": {},
   "outputs": [
    {
     "data": {
      "text/plain": [
       "'s'"
      ]
     },
     "execution_count": 2,
     "metadata": {},
     "output_type": "execute_result"
    }
   ],
   "source": [
    "st[-2]"
   ]
  },
  {
   "cell_type": "code",
   "execution_count": 3,
   "id": "dfad984a-cd91-4cc9-95b6-bc321507b2d9",
   "metadata": {},
   "outputs": [
    {
     "data": {
      "text/plain": [
       "'his is a multi-line\\n###\\n......\\n..\\nstring that uses triple quotes'"
      ]
     },
     "execution_count": 3,
     "metadata": {},
     "output_type": "execute_result"
    }
   ],
   "source": [
    "st[1:-1:1]"
   ]
  },
  {
   "cell_type": "code",
   "execution_count": 4,
   "id": "3b092c71-59c4-43fc-adfc-9943265b3322",
   "metadata": {},
   "outputs": [
    {
     "data": {
      "text/plain": [
       "'hsi  ut-ie##...\\n.srn htue rpeqoe'"
      ]
     },
     "execution_count": 4,
     "metadata": {},
     "output_type": "execute_result"
    }
   ],
   "source": [
    "st[1:-1:2]"
   ]
  },
  {
   "cell_type": "code",
   "execution_count": 5,
   "id": "6eb67d8b-cb27-47ef-a504-d864ddd5b9be",
   "metadata": {},
   "outputs": [
    {
     "name": "stdout",
     "output_type": "stream",
     "text": [
      "test\" string\n"
     ]
    }
   ],
   "source": [
    "st = 'test\" string'\n",
    "print(st)"
   ]
  },
  {
   "cell_type": "code",
   "execution_count": null,
   "id": "b5e3b775-9bdb-41fb-ab23-dd4a61c28ec5",
   "metadata": {},
   "outputs": [],
   "source": []
  }
 ],
 "metadata": {
  "kernelspec": {
   "display_name": "Python 3",
   "language": "python",
   "name": "python3"
  },
  "language_info": {
   "codemirror_mode": {
    "name": "ipython",
    "version": 3
   },
   "file_extension": ".py",
   "mimetype": "text/x-python",
   "name": "python",
   "nbconvert_exporter": "python",
   "pygments_lexer": "ipython3",
   "version": "3.8.8"
  }
 },
 "nbformat": 4,
 "nbformat_minor": 5
}
