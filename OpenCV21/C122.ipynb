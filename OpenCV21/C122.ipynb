{
 "cells": [
  {
   "cell_type": "markdown",
   "id": "e166d868-b18c-4f29-82fe-5eae76186a69",
   "metadata": {},
   "source": [
    "# 1.2.2 Getting Started with Videos"
   ]
  },
  {
   "cell_type": "markdown",
   "id": "a5f8df79-e138-468f-9233-0ea71ac19902",
   "metadata": {},
   "source": [
    "Capture video from Camera"
   ]
  },
  {
   "cell_type": "code",
   "execution_count": 4,
   "id": "f6607061-6340-497e-bc70-b1e153a2fbdd",
   "metadata": {},
   "outputs": [],
   "source": [
    "import numpy as np\n",
    "import cv2"
   ]
  },
  {
   "cell_type": "code",
   "execution_count": 6,
   "id": "83a5508f-0e9c-4e27-bbf2-7b38f09834ef",
   "metadata": {},
   "outputs": [],
   "source": [
    "cap = cv2.VideoCapture(0)\n",
    "while(True):\n",
    "    # Capture frame-by-frame\n",
    "    ret, frame = cap.read()\n",
    "    \n",
    "    # Our operations on the frame come here\n",
    "    gray = cv2.cvtColor(frame, cv2.COLOR_BGR2GRAY)\n",
    "    \n",
    "    # Display the resulting frame\n",
    "    cv2.imshow('frame',gray)\n",
    "    if cv2.waitKey(1) & 0xFF == ord('q'):\n",
    "        break\n",
    "        \n",
    "# When everything done, release the capture\n",
    "cap.release()\n",
    "cv2.destroyAllWindows()"
   ]
  },
  {
   "cell_type": "markdown",
   "id": "4d7d4896-258f-4618-be7b-c09cc4125cd6",
   "metadata": {},
   "source": [
    "# Playing Video from file"
   ]
  },
  {
   "cell_type": "code",
   "execution_count": 5,
   "id": "08cb952e-db2b-4529-bac8-3b0690644a77",
   "metadata": {},
   "outputs": [],
   "source": [
    "cap = cv2.VideoCapture('Dynamite.mp4')\n",
    "\n",
    "while(cap.isOpened()):\n",
    "    ret, frame = cap.read()\n",
    "    \n",
    "    gray = cv2.cvtColor(frame, cv2.COLOR_BGR2GRAY)\n",
    "    \n",
    "    cv2.imshow('frame',gray)\n",
    "    \n",
    "    if cv2.waitKey(1) & 0xFF == ord('q'):\n",
    "        break\n",
    "        \n",
    "cap.release()\n",
    "cv2.destroyAllWindows()"
   ]
  },
  {
   "cell_type": "code",
   "execution_count": null,
   "id": "9dbd0a93-a9a5-4a9c-b22f-75442048181a",
   "metadata": {},
   "outputs": [],
   "source": []
  }
 ],
 "metadata": {
  "kernelspec": {
   "display_name": "Python 3",
   "language": "python",
   "name": "python3"
  },
  "language_info": {
   "codemirror_mode": {
    "name": "ipython",
    "version": 3
   },
   "file_extension": ".py",
   "mimetype": "text/x-python",
   "name": "python",
   "nbconvert_exporter": "python",
   "pygments_lexer": "ipython3",
   "version": "3.9.4"
  }
 },
 "nbformat": 4,
 "nbformat_minor": 5
}
