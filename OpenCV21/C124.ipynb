{
 "cells": [
  {
   "cell_type": "markdown",
   "id": "9ea8b792-7717-4866-bc7f-9ff0b038b96b",
   "metadata": {},
   "source": [
    "# 1.2.4 Mouse as a Paint-Brush\n",
    "### cv2.setMouseCallback()"
   ]
  },
  {
   "cell_type": "code",
   "execution_count": null,
   "id": "e9925331-ce5a-41a3-bb48-44939d16fc58",
   "metadata": {},
   "outputs": [],
   "source": [
    "# Simple Demo"
   ]
  },
  {
   "cell_type": "code",
   "execution_count": 5,
   "id": "1b624116-c617-4dfa-8ae3-67c5a75de2e6",
   "metadata": {},
   "outputs": [
    {
     "name": "stdout",
     "output_type": "stream",
     "text": [
      "['EVENT_FLAG_ALTKEY', 'EVENT_FLAG_CTRLKEY', 'EVENT_FLAG_LBUTTON', 'EVENT_FLAG_MBUTTON', 'EVENT_FLAG_RBUTTON', 'EVENT_FLAG_SHIFTKEY', 'EVENT_LBUTTONDBLCLK', 'EVENT_LBUTTONDOWN', 'EVENT_LBUTTONUP', 'EVENT_MBUTTONDBLCLK', 'EVENT_MBUTTONDOWN', 'EVENT_MBUTTONUP', 'EVENT_MOUSEHWHEEL', 'EVENT_MOUSEMOVE', 'EVENT_MOUSEWHEEL', 'EVENT_RBUTTONDBLCLK', 'EVENT_RBUTTONDOWN', 'EVENT_RBUTTONUP']\n"
     ]
    }
   ],
   "source": [
    "import cv2\n",
    "\n",
    "# OpenCV가 감지할 수 있는 다양한 마우스 상태(Mouse Event)를 확인할 수 있다.\n",
    "events = [i for i in dir(cv2) if 'EVENT' in i]\n",
    "print(events)"
   ]
  },
  {
   "cell_type": "code",
   "execution_count": 7,
   "id": "b2f950ae-0c9f-4f1b-9dd7-0c5c9f8cd004",
   "metadata": {},
   "outputs": [
    {
     "data": {
      "text/plain": [
       "-1"
      ]
     },
     "execution_count": 7,
     "metadata": {},
     "output_type": "execute_result"
    }
   ],
   "source": [
    "import cv2\n",
    "import numpy as np\n",
    "\n",
    "# 마우스 콜백 함수\n",
    "# draw_circle 함수를 사용하여 다양한 마우스 이벤트를 사용할 수 있다.\n",
    "def draw_circle(event,x,y,flags,param):\n",
    "    \n",
    "    # cv2.EVENT_LBUTTONDBLCLK --> 마우스 왼쪽 버튼을 눌렀을 때\n",
    "    if event == cv2.EVENT_LBUTTONDBLCLK:\n",
    "        cv2.circle(img,(x,y),10,(0,255,0),3) # 반지름이 10이고 G가 255이며 선의 굵기가 3인 원을 그린다.\n",
    "        \n",
    "    # cv2.EVENT_RBUTTONDBLCLK --> 마우스 오른쪽 버튼을 눌렀을 때\n",
    "    elif event == cv2.EVENT_RBUTTONDBLCLK:\n",
    "        cv2.circle(img,(x,y),20,(0,0,255),-1) # 반지름이 20이고 R이 255이며 색을 채운 원을 그린다.\n",
    "        \n",
    "    # cv2.EVENT_MOUSEMOVE --> 마우스가 움직일 때\n",
    "    elif event == cv2.EVENT_MOUSEMOVE:\n",
    "        cv2.circle(img,(x,y),3,(255,0,0),-1) # 반지름이 3이고 B가 255이며 색을 채운 원을 그린다.\n",
    "\n",
    "# 검은색 이미지, 창을 만들고 함수를 창에 바인딩\n",
    "img = np.zeros((512,512,3), np.uint8) # BGR 0, 0, 0은 검은색\n",
    "cv2.namedWindow('image')\n",
    "\n",
    "# cv2.setMouseCallback(이미지 변수, 마우스 콜백 함수((event,x,y,flags,param)가 전달됨), 콜백 함수에 전달되는 DATA)\n",
    "cv2.setMouseCallback('image',draw_circle)\n",
    "\n",
    "# python 창을 띄워서 결과 확인\n",
    "# q를 눌러 창 닫기\n",
    "while(True):\n",
    "    cv2.imshow('image',img)\n",
    "    if cv2.waitKey(20) & 0xFF == 27:\n",
    "        break\n",
    "        \n",
    "cv2.destroyAllWindows()\n",
    "cv2.waitKey(1)"
   ]
  },
  {
   "cell_type": "code",
   "execution_count": null,
   "id": "2c0a0e6b-d358-483c-b8ff-c0f173f9f150",
   "metadata": {},
   "outputs": [],
   "source": [
    "# More Advanced Demo"
   ]
  },
  {
   "cell_type": "code",
   "execution_count": 21,
   "id": "ad0ef4f5-c7b0-44d5-b22a-4bc728efed34",
   "metadata": {},
   "outputs": [
    {
     "data": {
      "text/plain": [
       "-1"
      ]
     },
     "execution_count": 21,
     "metadata": {},
     "output_type": "execute_result"
    }
   ],
   "source": [
    "import cv2\n",
    "import numpy as np\n",
    "\n",
    "drawing = False # 마우스가 눌려지면 True\n",
    "mode = True # mode가 True라면 사각형을 그린다. 'm'을 눌러서 곡선으로 전환한다.\n",
    "ix,iy = -1,-10 # ix, iy 초기화\n",
    "\n",
    "# 마우스 콜백 함수\n",
    "# draw_circle 함수를 사용하여 다양한 마우스 이벤트를 사용할 수 있다.\n",
    "def draw_circle(event,x,y,flags,param):\n",
    "    \n",
    "    # global로 전역변수를 지정하여 함수 밖에서도 함수 안과 동일한 값을 사용할 수 있다.\n",
    "    global ix, iy, drawing, mode, img\n",
    "    \n",
    "    # 마우스 왼쪽 버튼이 눌러졌을 때 작동하는 if문\n",
    "    # drawing에 True를 저장한다.\n",
    "    # ix와 iy에 마우스의 x좌표와 y좌표를 저장한다.\n",
    "    if event == cv2.EVENT_LBUTTONDOWN:\n",
    "        drawing = True\n",
    "        ix,iy = x,y\n",
    "    \n",
    "    # 마우스가 움직일 떄 작동하는 elif문\n",
    "    elif event == cv2.EVENT_MOUSEMOVE:\n",
    "        \n",
    "        # drawing이 True가 되면 마우스 왼쪽 버튼이 눌려진 상태이다.\n",
    "        if drawing == True:\n",
    "            if mode == True:\n",
    "#                 img = np.zeros((512,512,3), np.uint8) # 검은 윈도우를 지속적으로 로드하면서 잔상이 남지 않게 할때\n",
    "                # mode가 True일 때 사각형 생성\n",
    "                cv2.rectangle(img,(ix,iy),(x,y),(0,255,0),10)\n",
    "            else:\n",
    "                # 'm'키를 눌러 mode가 False일 때 원 생성\n",
    "                cv2.circle(img,(x,y),5,(0,0,255),-1)\n",
    "    \n",
    "    # 마우스 왼쪽 버튼이 떼어졌을 때 작동하는 elif문\n",
    "    elif event == cv2.EVENT_LBUTTONUP:\n",
    "        \n",
    "        # draing이 False가 되면 마우스 왼쪽 버튼이 눌려지지 않을 상태이다.\n",
    "        drawing = False\n",
    "        \n",
    "        # 사각형을 만들기 전 검은 윈도우를 로드하여 잔상이 남지 않게 할때\n",
    "#         img = np.zeros((512,512,3), np.uint8)\n",
    "\n",
    "        if mode == True:\n",
    "            # mode가 True일 때 사각형 생성\n",
    "            cv2.rectangle(img,(ix,iy),(x,y),(0,255,0),10)\n",
    "        else:\n",
    "            # 'm'키를 눌러 mode가 False일 때 원 생성\n",
    "            cv2.circle(img,(x,y),5,(0,0,255),-1)\n",
    "\n",
    "img = np.zeros((512,512,3), np.uint8)\n",
    "cv2.namedWindow('image')\n",
    "\n",
    "# cv2.setMouseCallback(이미지 변수, 마우스 콜백 함수((event,x,y,flags,param)가 전달됨), 콜백 함수에 전달되는 DATA)\n",
    "cv2.setMouseCallback('image',draw_circle)\n",
    "\n",
    "while(True):\n",
    "    cv2.imshow('image',img)\n",
    "    k = cv2.waitKey(1) & 0xFF\n",
    "    \n",
    "    # ord('문자') 함수 --> 특정한 한 문자를 아스키 코드 값으로 변환해 주는 함수\n",
    "    if k == ord('m'):\n",
    "        mode = not mode\n",
    "    elif k == 27:\n",
    "        break\n",
    "\n",
    "cv2.destroyAllWindows()\n",
    "cv2.waitKey(1)"
   ]
  },
  {
   "cell_type": "code",
   "execution_count": null,
   "id": "bb8cb554-e965-4afd-8549-6be2f5b6fc7c",
   "metadata": {},
   "outputs": [],
   "source": []
  }
 ],
 "metadata": {
  "kernelspec": {
   "display_name": "Python 3",
   "language": "python",
   "name": "python3"
  },
  "language_info": {
   "codemirror_mode": {
    "name": "ipython",
    "version": 3
   },
   "file_extension": ".py",
   "mimetype": "text/x-python",
   "name": "python",
   "nbconvert_exporter": "python",
   "pygments_lexer": "ipython3",
   "version": "3.9.4"
  }
 },
 "nbformat": 4,
 "nbformat_minor": 5
}
