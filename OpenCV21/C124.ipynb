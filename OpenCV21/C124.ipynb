{
 "cells": [
  {
   "cell_type": "markdown",
   "id": "e48441f6-d9ba-470a-8a2a-be37e6a1a837",
   "metadata": {},
   "source": [
    "# 1.2.4 Mouse as a Paint-Brush\n",
    "### cv2.setMouseCallback()"
   ]
  },
  {
   "cell_type": "code",
   "execution_count": 1,
   "id": "1d6aed9f-a901-4d90-af50-89441784b9d0",
   "metadata": {},
   "outputs": [],
   "source": [
    "import cv2\n",
    "import numpy as np"
   ]
  },
  {
   "cell_type": "code",
   "execution_count": 7,
   "id": "f55ecd4f-2ba8-456d-a053-620f67f3ad5c",
   "metadata": {},
   "outputs": [],
   "source": [
    "events = [i for i in dir(cv2) if 'EVENT' in i]"
   ]
  },
  {
   "cell_type": "code",
   "execution_count": 8,
   "id": "f4f3fcdc-e678-47c5-b829-e6ef5ac9e31f",
   "metadata": {},
   "outputs": [],
   "source": [
    "# Simple Demo"
   ]
  },
  {
   "cell_type": "code",
   "execution_count": 9,
   "id": "5d4fc61f-bdb2-4635-aeb6-b5d060e5613f",
   "metadata": {},
   "outputs": [],
   "source": [
    "# mouse cllback function\n",
    "def draw_circle(event, x, y, flags, parm):\n",
    "    if event == cv2.EVENT_LBUTTONDBLCLK:\n",
    "        cv22.circle(img, (x, y), 100, (255, 0, 0), -1)"
   ]
  },
  {
   "cell_type": "code",
   "execution_count": 10,
   "id": "bff9f5a7-95f8-4522-bfdc-7c0a20cb61e9",
   "metadata": {},
   "outputs": [],
   "source": [
    "# Create a black image, a windwo and bind the function to window\n",
    "img = np.zeros((512, 512, 3), np.uint8)\n",
    "cv2.namedWindow('image')\n",
    "cv2.setMouseCallback('image', draw_circle)"
   ]
  },
  {
   "cell_type": "code",
   "execution_count": 11,
   "id": "02b0bcd0-29c6-4059-95bd-c99eda24411e",
   "metadata": {},
   "outputs": [
    {
     "data": {
      "text/plain": [
       "-1"
      ]
     },
     "execution_count": 11,
     "metadata": {},
     "output_type": "execute_result"
    }
   ],
   "source": [
    "while(True):\n",
    "    cv2.imshow('image', img)\n",
    "    if cv2.waitKey(20) & 0xFF == 27:\n",
    "        break\n",
    "\n",
    "cv2.destroyAllWindows()\n",
    "cv2.waitKey(1)"
   ]
  },
  {
   "cell_type": "code",
   "execution_count": null,
   "id": "ef3fec8a-b65b-4311-987e-cdd0176f7e2d",
   "metadata": {},
   "outputs": [],
   "source": []
  },
  {
   "cell_type": "code",
   "execution_count": null,
   "id": "5edbeca6-31fe-4bff-b31d-2262419b0bed",
   "metadata": {},
   "outputs": [],
   "source": []
  }
 ],
 "metadata": {
  "kernelspec": {
   "display_name": "Python 3",
   "language": "python",
   "name": "python3"
  },
  "language_info": {
   "codemirror_mode": {
    "name": "ipython",
    "version": 3
   },
   "file_extension": ".py",
   "mimetype": "text/x-python",
   "name": "python",
   "nbconvert_exporter": "python",
   "pygments_lexer": "ipython3",
   "version": "3.9.4"
  }
 },
 "nbformat": 4,
 "nbformat_minor": 5
}
