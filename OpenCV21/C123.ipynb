{
 "cells": [
  {
   "cell_type": "markdown",
   "id": "eeca8ae9-fd3b-454d-9cac-d62420a8516f",
   "metadata": {},
   "source": [
    "# 1.2.3 Drawing Functions in OpenCV\n",
    "### cv2.line(), cv2.circle() , cv2.rectangle(), cv2.ellipse(), cv2.putText() etc."
   ]
  },
  {
   "cell_type": "code",
   "execution_count": 1,
   "id": "57e81d01-ced0-4adc-a7c2-0823f3845a1c",
   "metadata": {},
   "outputs": [],
   "source": [
    "import numpy as np\n",
    "import cv2"
   ]
  },
  {
   "cell_type": "code",
   "execution_count": 2,
   "id": "b28d2d4a-97eb-4920-85c0-e552712c819d",
   "metadata": {},
   "outputs": [],
   "source": [
    "# Create a black image\n",
    "img = np.zeros((512, 512, 3), np.uint8)"
   ]
  },
  {
   "cell_type": "code",
   "execution_count": 3,
   "id": "a483b116-abea-4675-b314-92778f5b8931",
   "metadata": {},
   "outputs": [],
   "source": [
    "# Draw a diagonal blue line with thickness of 5 px\n",
    "img = cv2.line(img, (0, 0), (511, 511), (255, 0, 0), 3)\n",
    "img = cv2.line(img, (511, 0), (0, 511), (255, 255, 0), 3)"
   ]
  },
  {
   "cell_type": "code",
   "execution_count": 4,
   "id": "1dfd8529-1291-4db4-92dc-51b3969e495f",
   "metadata": {},
   "outputs": [
    {
     "data": {
      "text/plain": [
       "-1"
      ]
     },
     "execution_count": 4,
     "metadata": {},
     "output_type": "execute_result"
    }
   ],
   "source": [
    "# python 창을 띄워서 결과 확인\n",
    "while(1):\n",
    "    cv2.imshow('image', img)\n",
    "    if cv2.waitKey(1) & 0xFF == 27:\n",
    "        break\n",
    "\n",
    "cv2.destroyAllWindows()\n",
    "cv2.waitKey(1)"
   ]
  },
  {
   "cell_type": "code",
   "execution_count": 5,
   "id": "3f243adb-d16d-491b-acc9-5d4f3273c5a7",
   "metadata": {},
   "outputs": [],
   "source": [
    "# Drawing Rectagle"
   ]
  },
  {
   "cell_type": "code",
   "execution_count": 6,
   "id": "55b37771-4800-4d3d-bc32-3bfab3056785",
   "metadata": {},
   "outputs": [],
   "source": [
    "img = cv2.rectangle(img, (384, 0), (510, 128), (0, 255, 0), 3)"
   ]
  },
  {
   "cell_type": "code",
   "execution_count": 7,
   "id": "3abad48d-57a2-4bfc-a039-8561ff4cfd50",
   "metadata": {},
   "outputs": [],
   "source": [
    "# Drawing Circle"
   ]
  },
  {
   "cell_type": "code",
   "execution_count": 8,
   "id": "5cae1095-f6e2-4cfb-9af1-c4c5e8dc2117",
   "metadata": {},
   "outputs": [],
   "source": [
    "img = cv2.circle(img, (447, 63), 63, (0, 0, 255), -1)"
   ]
  },
  {
   "cell_type": "code",
   "execution_count": 9,
   "id": "1a074f94-69dc-4cb1-993a-761030a08aa7",
   "metadata": {},
   "outputs": [],
   "source": [
    "# Drawing Ellipse"
   ]
  },
  {
   "cell_type": "code",
   "execution_count": 10,
   "id": "1bc0558d-97dc-4c4b-abf7-43dde6e92414",
   "metadata": {},
   "outputs": [],
   "source": [
    "img = cv2.ellipse(img, (256, 256), (100, 50), 0, 0, 180, 255, -1)"
   ]
  },
  {
   "cell_type": "code",
   "execution_count": 11,
   "id": "965a9d11-876f-46b1-9460-78299d6de2a0",
   "metadata": {},
   "outputs": [],
   "source": [
    "# Drawing Polygon"
   ]
  },
  {
   "cell_type": "code",
   "execution_count": 12,
   "id": "93a5d01f-5a19-41a2-8243-1a685ba6c7cc",
   "metadata": {},
   "outputs": [],
   "source": [
    "# pts = np.array([[10, 5], [20, 30], [70, 20], [50, 10]], np.int32)\n",
    "pts_List = [[10, 5], [20, 30], [70, 20], [50, 10]]\n",
    "pts = np.array(pts_List, np.int32)\n",
    "pts = pts.reshape((-1, 1, 2))\n",
    "img = cv2.polylines(img, [pts], True, (0, 255, 255))"
   ]
  },
  {
   "cell_type": "code",
   "execution_count": 13,
   "id": "3d571a1d-b91f-4b95-a101-4388f20e0251",
   "metadata": {},
   "outputs": [],
   "source": [
    "# Adding Text to Images"
   ]
  },
  {
   "cell_type": "code",
   "execution_count": 14,
   "id": "b0e46e2e-dc23-406c-916b-8d3061c0d498",
   "metadata": {},
   "outputs": [
    {
     "data": {
      "text/plain": [
       "array([[[255,   0,   0],\n",
       "        [255,   0,   0],\n",
       "        [255,   0,   0],\n",
       "        ...,\n",
       "        [  0, 255,   0],\n",
       "        [  0, 255,   0],\n",
       "        [  0, 255,   0]],\n",
       "\n",
       "       [[255,   0,   0],\n",
       "        [255,   0,   0],\n",
       "        [255,   0,   0],\n",
       "        ...,\n",
       "        [  0, 255,   0],\n",
       "        [  0, 255,   0],\n",
       "        [  0, 255,   0]],\n",
       "\n",
       "       [[255,   0,   0],\n",
       "        [255,   0,   0],\n",
       "        [255,   0,   0],\n",
       "        ...,\n",
       "        [  0, 255,   0],\n",
       "        [  0, 255,   0],\n",
       "        [  0, 255,   0]],\n",
       "\n",
       "       ...,\n",
       "\n",
       "       [[255, 255,   0],\n",
       "        [255, 255,   0],\n",
       "        [255, 255,   0],\n",
       "        ...,\n",
       "        [255,   0,   0],\n",
       "        [255,   0,   0],\n",
       "        [255,   0,   0]],\n",
       "\n",
       "       [[255, 255,   0],\n",
       "        [255, 255,   0],\n",
       "        [255, 255,   0],\n",
       "        ...,\n",
       "        [255,   0,   0],\n",
       "        [255,   0,   0],\n",
       "        [255,   0,   0]],\n",
       "\n",
       "       [[255, 255,   0],\n",
       "        [255, 255,   0],\n",
       "        [255, 255,   0],\n",
       "        ...,\n",
       "        [255,   0,   0],\n",
       "        [255,   0,   0],\n",
       "        [255,   0,   0]]], dtype=uint8)"
      ]
     },
     "execution_count": 14,
     "metadata": {},
     "output_type": "execute_result"
    }
   ],
   "source": [
    "font = cv2.FONT_HERSHEY_SIMPLEX\n",
    "cv2.putText(img, 'OpenCV', (10, 500), font, 4, (255, 255, 255), 2, cv2.LINE_AA)"
   ]
  },
  {
   "cell_type": "code",
   "execution_count": 15,
   "id": "ee808b59-9fe0-4c9b-bdda-b8b10e397e8a",
   "metadata": {},
   "outputs": [
    {
     "data": {
      "image/png": "[encoded data removed]",
      "text/plain": [
       "<Figure size 432x288 with 1 Axes>"
      ]
     },
     "metadata": {},
     "output_type": "display_data"
    }
   ],
   "source": [
    "# matplotlib로 주피터에서 바로 확인\n",
    "from matplotlib import pyplot as plt\n",
    "\n",
    "plt.imshow(img)\n",
    "plt.xticks([]), plt.yticks([]) # to hide tick values on X and Y axis\n",
    "plt.show()"
   ]
  },
  {
   "cell_type": "code",
   "execution_count": null,
   "id": "ca3fc8c1-0dd9-494a-9ba6-2f9b2a99e63c",
   "metadata": {},
   "outputs": [],
   "source": []
  }
 ],
 "metadata": {
  "kernelspec": {
   "display_name": "Python 3",
   "language": "python",
   "name": "python3"
  },
  "language_info": {
   "codemirror_mode": {
    "name": "ipython",
    "version": 3
   },
   "file_extension": ".py",
   "mimetype": "text/x-python",
   "name": "python",
   "nbconvert_exporter": "python",
   "pygments_lexer": "ipython3",
   "version": "3.9.4"
  }
 },
 "nbformat": 4,
 "nbformat_minor": 5
}
