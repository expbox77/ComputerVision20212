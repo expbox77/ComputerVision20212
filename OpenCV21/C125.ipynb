{
 "cells": [
  {
   "cell_type": "markdown",
   "id": "9308e616-bbe5-4717-b080-7f4e7e749340",
   "metadata": {},
   "source": [
    "# 1.2.5 Trackbar as the Color Palette\n",
    "### cv2.getTrackbarPos(), cv2.createTrackbar() etc."
   ]
  },
  {
   "cell_type": "code",
   "execution_count": 1,
   "id": "66e284ee-3552-4ab1-8ad8-b1ff9eccf1fc",
   "metadata": {},
   "outputs": [],
   "source": [
    "# Code Demo"
   ]
  },
  {
   "cell_type": "code",
   "execution_count": 2,
   "id": "73a0337a-a605-4d5e-b6a1-7c22c1e6deb8",
   "metadata": {},
   "outputs": [
    {
     "data": {
      "text/plain": [
       "-1"
      ]
     },
     "execution_count": 2,
     "metadata": {},
     "output_type": "execute_result"
    }
   ],
   "source": [
    "import cv2\n",
    "import numpy as np\n",
    "\n",
    "# cv2.getTrackbarPos() 함수의 콜백 함수\n",
    "def nothing(x):\n",
    "    # 현재 발생한 트랙 바의 값(x)을 반환합니다.\n",
    "    # 특별한 이벤트를 처리하지 않기 때문에 함수의 반환값에 pass, return, lambda 함수로 아무 작업을 하지 않을 수 있음.\n",
    "    pass\n",
    "\n",
    "# 검은색 이미지, 창을 만들고 함수를 창에 바인딩\n",
    "img = np.zeros((300, 512, 3), np.uint8) # BGR 0, 0, 0은 검은색\n",
    "cv2.namedWindow('image')\n",
    "\n",
    "# 색상 변경용 트랙 바 생성\n",
    "# cv2.createTrackbar('트랙 바 이름', '트랙 바를 생성할 창 이름', 최솟값, 최댓값, 콜백 함수)\n",
    "# 0~255 값 사이로 지정하는 트랙 바\n",
    "cv2.createTrackbar('R', 'image', 0, 255, nothing)\n",
    "cv2.createTrackbar('G', 'image', 0, 255, nothing)\n",
    "cv2.createTrackbar('B', 'image', 0, 255, nothing)\n",
    "\n",
    "# ON/OFF 기능용 스위치 생성\n",
    "switch = '0 : OFF \\n1 : ON'\n",
    "cv2.createTrackbar(switch, 'image', 0, 1, nothing)\n",
    "\n",
    "# python 창을 띄워서 결과 확인\n",
    "# ESC를 눌러 창 닫기\n",
    "while(True):\n",
    "    cv2.imshow('image', img)\n",
    "    \n",
    "    k = cv2.waitKey(1) & 0xFF\n",
    "    if k == 27:\n",
    "        break\n",
    "        \n",
    "    # 4개의 트랙바의 현재 위치 가져오기\n",
    "    # cv2.setTrackbarPos('트랙 바 이름', '연결된 윈도우 창 이름', 기본 설정 값)\n",
    "    r = cv2.getTrackbarPos('R', 'image')\n",
    "    g = cv2.getTrackbarPos('G', 'image')\n",
    "    b = cv2.getTrackbarPos('B', 'image')\n",
    "    s = cv2.getTrackbarPos(switch, 'image')\n",
    "    \n",
    "    # 스위치의 트랙 바의 값이 0(OFF)이면\n",
    "    if s == 0:\n",
    "        # 리스트 전체를 0으로 하여 검은색으로 만든다\n",
    "        img[:] = 0\n",
    "        \n",
    "    # 스위치의 트랙 바의 값이 1(ON)이면\n",
    "    else:\n",
    "        # 리스트 전체의 값을 [b, g, r]에 맞게 수정한다.\n",
    "        img[:] = [b, g, r]\n",
    "        \n",
    "cv2.destroyAllWindows()\n",
    "cv2.waitKey(1)"
   ]
  },
  {
   "cell_type": "code",
   "execution_count": null,
   "id": "6dcaee60-997c-4120-ab68-765ac6b87596",
   "metadata": {},
   "outputs": [],
   "source": []
  }
 ],
 "metadata": {
  "kernelspec": {
   "display_name": "Python 3",
   "language": "python",
   "name": "python3"
  },
  "language_info": {
   "codemirror_mode": {
    "name": "ipython",
    "version": 3
   },
   "file_extension": ".py",
   "mimetype": "text/x-python",
   "name": "python",
   "nbconvert_exporter": "python",
   "pygments_lexer": "ipython3",
   "version": "3.9.4"
  }
 },
 "nbformat": 4,
 "nbformat_minor": 5
}
