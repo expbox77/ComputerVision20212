{
 "cells": [
  {
   "cell_type": "markdown",
   "id": "838fa092-96ee-46fe-9aff-f3b88fbf9ac8",
   "metadata": {},
   "source": [
    "# 1.4.8 Image Pyramids\n",
    "### cv2.pyrUp(), cv2.pyrDown()"
   ]
  },
  {
   "cell_type": "code",
   "execution_count": null,
   "id": "e209e6c5-8ee5-44df-ac0f-f117f40b6a77",
   "metadata": {},
   "outputs": [],
   "source": [
    "# 별로 중요하지 않음."
   ]
  }
 ],
 "metadata": {
  "kernelspec": {
   "display_name": "Python 3",
   "language": "python",
   "name": "python3"
  },
  "language_info": {
   "codemirror_mode": {
    "name": "ipython",
    "version": 3
   },
   "file_extension": ".py",
   "mimetype": "text/x-python",
   "name": "python",
   "nbconvert_exporter": "python",
   "pygments_lexer": "ipython3",
   "version": "3.9.4"
  }
 },
 "nbformat": 4,
 "nbformat_minor": 5
}
