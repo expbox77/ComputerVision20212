{
 "cells": [
  {
   "cell_type": "markdown",
   "id": "a2dc1a4e-dd78-476a-af82-ea6abacc4746",
   "metadata": {
    "tags": []
   },
   "source": [
    "# 1.2.2 Getting Started with Videos\n",
    "### cv2.VideoCapture(), cv2.VideoWriter()"
   ]
  },
  {
   "cell_type": "code",
   "execution_count": 1,
   "id": "e3f5e541-cb63-4cb8-928a-7ec3c27153cb",
   "metadata": {},
   "outputs": [],
   "source": [
    "# Capture Video from Camera"
   ]
  },
  {
   "cell_type": "code",
   "execution_count": 2,
   "id": "7e44514c-9092-473a-ba24-e4a927bf555f",
   "metadata": {},
   "outputs": [],
   "source": [
    "import numpy as np\n",
    "import cv2"
   ]
  },
  {
   "cell_type": "code",
   "execution_count": 3,
   "id": "c754d2e1-bb6c-4e57-9afa-e3f785d5b995",
   "metadata": {},
   "outputs": [],
   "source": [
    "# cv2.VideoCapture(0) --> 연결된 영상 장치 index (하나만 있는 경우 0)\n",
    "# cv2.VideoCapture(filename) --> 동영상 파일명 또는 이미지 파일명\n",
    "\n",
    "cap = cv2.VideoCapture(0)"
   ]
  },
  {
   "cell_type": "code",
   "execution_count": 4,
   "id": "a311bc51-7ca4-4419-8c40-82ed1b052a6d",
   "metadata": {},
   "outputs": [
    {
     "data": {
      "text/plain": [
       "-1"
      ]
     },
     "execution_count": 4,
     "metadata": {},
     "output_type": "execute_result"
    }
   ],
   "source": [
    "while(True):\n",
    "    # 프레임별로 캡처\n",
    "    ret, frame = cap.read()\n",
    "    \n",
    "    # Our operations on the frame come here\n",
    "    # 프레임에 대한 우리의 작업은 여기에 있습니다.\n",
    "    gray = cv2.cvtColor(frame, cv2.COLOR_BGR2GRAY)\n",
    "    \n",
    "    # Display the resulting frame\n",
    "    cv2.imshow('frame', gray)\n",
    "    if cv2.waitKey(1) & 0xFF == ord('q'):\n",
    "        break\n",
    "\n",
    "# When everything done, release the capture\n",
    "cap.release()\n",
    "cv2.destroyAllWindows()\n",
    "cv2.waitKey(1)"
   ]
  },
  {
   "cell_type": "code",
   "execution_count": 5,
   "id": "6baec6f9-211d-4f59-b167-c3e06b69815c",
   "metadata": {},
   "outputs": [],
   "source": [
    "# Playing Video from file"
   ]
  },
  {
   "cell_type": "code",
   "execution_count": 6,
   "id": "3276e968-fbd7-47cd-9444-ac041577fda3",
   "metadata": {},
   "outputs": [],
   "source": [
    "cap = cv2.VideoCapture('70796.mp4')"
   ]
  },
  {
   "cell_type": "code",
   "execution_count": 7,
   "id": "54d52f49-de85-4f0c-9407-44498f12208d",
   "metadata": {},
   "outputs": [
    {
     "data": {
      "text/plain": [
       "-1"
      ]
     },
     "execution_count": 7,
     "metadata": {},
     "output_type": "execute_result"
    }
   ],
   "source": [
    "while(cap.isOpened()):\n",
    "    ret, frame = cap.read()\n",
    "    \n",
    "    gray = cv2.cvtColor(frame, cv2.COLOR_BGR2GRAY)\n",
    "    \n",
    "    cv2.imshow('frame', gray)\n",
    "    if cv2.waitKey(1) & 0xFF == ord('q'):\n",
    "        break\n",
    "        \n",
    "cap.release()\n",
    "cv2.destroyAllWindows()\n",
    "cv2.waitKey(1)"
   ]
  },
  {
   "cell_type": "code",
   "execution_count": 8,
   "id": "1fdd10fc-747b-46d4-9751-5464bb6af096",
   "metadata": {},
   "outputs": [],
   "source": [
    "# Saving a Video"
   ]
  },
  {
   "cell_type": "code",
   "execution_count": 9,
   "id": "96856fc8-1797-46c1-bb5b-e64d7c3764a7",
   "metadata": {},
   "outputs": [],
   "source": [
    "cap = cv2.VideoCapture(0)"
   ]
  },
  {
   "cell_type": "code",
   "execution_count": 10,
   "id": "3cbffdae-3703-4df8-b2f0-21945823593f",
   "metadata": {},
   "outputs": [],
   "source": [
    "# Define the codec and create VideoWriter object\n",
    "# fourcc = cv2.VideoWriter_fourcc(*'DIVX')\n",
    "# mac에서는 잘 작동이 안되는 것 같음\n",
    "fourcc = cv2.VideoWriter_fourcc(*'mp4v')\n",
    "out = cv2.VideoWriter('output.avi', fourcc, 20.0, (640, 480))"
   ]
  },
  {
   "cell_type": "code",
   "execution_count": 11,
   "id": "a95458e6-0c6e-4f12-8493-d651d3f6c61c",
   "metadata": {},
   "outputs": [
    {
     "data": {
      "text/plain": [
       "-1"
      ]
     },
     "execution_count": 11,
     "metadata": {},
     "output_type": "execute_result"
    }
   ],
   "source": [
    "while(cap.isOpened()):\n",
    "    ret, frame = cap.read()\n",
    "    \n",
    "    if ret==True:\n",
    "        frame = cv2.flip(frame, 0)\n",
    "        \n",
    "        # write the flipped frame\n",
    "        out.write(frame)\n",
    "        \n",
    "        cv2.imshow('frame', frame)\n",
    "        if cv2.waitKey(1) & 0xFF == ord('q'):\n",
    "            break\n",
    "            \n",
    "    else:\n",
    "        break\n",
    "        \n",
    "# Release everything if job is finished\n",
    "cap.release()\n",
    "out.release()\n",
    "cv2.destroyAllWindows()\n",
    "cv2.waitKey(1)"
   ]
  },
  {
   "cell_type": "code",
   "execution_count": null,
   "id": "4ad6b15c-08bf-41eb-b9f8-8de06bf047ac",
   "metadata": {},
   "outputs": [],
   "source": []
  }
 ],
 "metadata": {
  "kernelspec": {
   "display_name": "Python 3",
   "language": "python",
   "name": "python3"
  },
  "language_info": {
   "codemirror_mode": {
    "name": "ipython",
    "version": 3
   },
   "file_extension": ".py",
   "mimetype": "text/x-python",
   "name": "python",
   "nbconvert_exporter": "python",
   "pygments_lexer": "ipython3",
   "version": "3.9.4"
  }
 },
 "nbformat": 4,
 "nbformat_minor": 5
}
