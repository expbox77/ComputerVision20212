{
 "cells": [
  {
   "cell_type": "markdown",
   "id": "a2dc1a4e-dd78-476a-af82-ea6abacc4746",
   "metadata": {
    "tags": []
   },
   "source": [
    "# 1.2.2 Getting Started with Videos\n",
    "### cv2.VideoCapture(), cv2.VideoWriter()"
   ]
  },
  {
   "cell_type": "code",
   "execution_count": 1,
   "id": "e3f5e541-cb63-4cb8-928a-7ec3c27153cb",
   "metadata": {},
   "outputs": [],
   "source": [
    "# Capture Video from Camera"
   ]
  },
  {
   "cell_type": "code",
   "execution_count": 2,
   "id": "147fea70-d21b-4a2c-baeb-568c3632828a",
   "metadata": {},
   "outputs": [
    {
     "data": {
      "text/plain": [
       "-1"
      ]
     },
     "execution_count": 2,
     "metadata": {},
     "output_type": "execute_result"
    }
   ],
   "source": [
    "import numpy as np\n",
    "import cv2\n",
    "\n",
    "# cv2.VideoCapture(0) --> 연결된 영상 장치 index (하나만 있는 경우 0)\n",
    "# cv2.VideoCapture(filename) --> 동영상 파일명 또는 이미지 파일명\n",
    "# cap 객체로 cv2.VideoCapture(0) 생성\n",
    "cap = cv2.VideoCapture(0)\n",
    "\n",
    "while(True):\n",
    "    # cap.read()는 재생되는 비디오(영상)의 한 프레임씩 읽는다.\n",
    "    # 비디오 프레임을 제대로 읽었다면 ret 값이 True로, 아니라면 False로 값이 변경된다.\n",
    "    # frame에는 읽은 프레임이 저장된다.\n",
    "    ret, frame = cap.read()\n",
    "    \n",
    "    # cv2.cvtColor()를 통하여 컬러를 변환시킨다.\n",
    "    # frame 변수에 저장되어있는 것을 변환.\n",
    "    # cv2.COLOR_BGR2GRAY를 사용하여 흑백으로 변환시킨다.\n",
    "    gray = cv2.cvtColor(frame, cv2.COLOR_BGR2GRAY)\n",
    "    \n",
    "    # 흑백으로 변환된 프레임을 화면에 디스플레이 한다.\n",
    "    cv2.imshow('frame', gray)\n",
    "    \n",
    "    # q를 사용하여 무한 루프 탈출\n",
    "    if cv2.waitKey(1) & 0xFF == ord('q'):\n",
    "        break\n",
    "\n",
    "# 모든 작업이 완료되면 마지막으로 오픈한 cap 객체를 cap.release() 함수를 이용하여 캡처를 해제한다.\n",
    "cap.release()\n",
    "cv2.destroyAllWindows()\n",
    "cv2.waitKey(1)"
   ]
  },
  {
   "cell_type": "code",
   "execution_count": 3,
   "id": "c73ee097-ce6f-49b5-8537-34a1891ed8ee",
   "metadata": {},
   "outputs": [],
   "source": [
    "# Playing Video from file"
   ]
  },
  {
   "cell_type": "code",
   "execution_count": 4,
   "id": "ac569e33-5c1d-434b-9a65-6571b0f72bef",
   "metadata": {},
   "outputs": [
    {
     "data": {
      "text/plain": [
       "-1"
      ]
     },
     "execution_count": 4,
     "metadata": {},
     "output_type": "execute_result"
    }
   ],
   "source": [
    "import numpy as np\n",
    "import cv2\n",
    "\n",
    "# cv2.VideoCapture(filename) --> 동영상 파일명 또는 이미지 파일명\n",
    "cap = cv2.VideoCapture('70796.mp4')\n",
    "\n",
    "# cap.isOpened() 함수를 사용하여 cap 객체가 지정한 파일로 정상적으로 초기화되었는지 확인\n",
    "# 정상적으로 읽었다면 True, 아니라면 False\n",
    "while(cap.isOpened()):\n",
    "    ret, frame = cap.read()\n",
    "    \n",
    "    gray = cv2.cvtColor(frame, cv2.COLOR_BGR2GRAY)\n",
    "    \n",
    "    cv2.imshow('frame', gray)\n",
    "    \n",
    "    # q를 사용하여 무한 루프 탈출\n",
    "    if cv2.waitKey(1) & 0xFF == ord('q'):\n",
    "        break\n",
    "\n",
    "cap.release()\n",
    "cv2.destroyAllWindows()\n",
    "cv2.waitKey(1)"
   ]
  },
  {
   "cell_type": "markdown",
   "id": "a785a83e-7533-4bce-90a1-161a65fa616d",
   "metadata": {},
   "source": [
    "##### Saving a Video"
   ]
  },
  {
   "cell_type": "code",
   "execution_count": 5,
   "id": "f7640c83-1b2f-4c2c-9c05-ecb51299c9e8",
   "metadata": {},
   "outputs": [
    {
     "data": {
      "text/plain": [
       "-1"
      ]
     },
     "execution_count": 5,
     "metadata": {},
     "output_type": "execute_result"
    }
   ],
   "source": [
    "import numpy as np\n",
    "import cv2\n",
    "\n",
    "# cv2.VideoCapture(0) --> 연결된 영상 장치 index (하나만 있는 경우 0)\n",
    "cap = cv2.VideoCapture(0)\n",
    "\n",
    "# 코덱 정의 및 VideoWriter 객체 생성\n",
    "# mac에서는 잘 작동이 안되는 것 같음\n",
    "# fourcc = cv2.VideoWriter_fourcc(*'mp4v')\n",
    "fourcc = cv2.VideoWriter_fourcc(*'DIVX')\n",
    "\n",
    "# out에 cv2.VideoWriter()객체 생성\n",
    "# cv2.VideoWriter('파일명', 코덱, 초당 프레임, (프레임 크기(Width, Height) 튜플))\n",
    "out = cv2.VideoWriter('output.avi', fourcc, 20.0, (640, 480))\n",
    "\n",
    "while(cap.isOpened()):\n",
    "    ret, frame = cap.read()\n",
    "    \n",
    "    # ret의 값이 True로 프레임이 정상적으로 읽어졌다면 실행\n",
    "    if ret==True:\n",
    "        \n",
    "        # cv2.flip(변수, 플래그)으로 반전시키는 함수\n",
    "        # 플래그 0 --> 상하반전\n",
    "        # 플래그 1 --> 좌우반전\n",
    "        frame = cv2.flip(frame, 0)\n",
    "        \n",
    "        # 반전된 프레임을 쓴다.\n",
    "        out.write(frame)\n",
    "        \n",
    "        cv2.imshow('frame', frame)\n",
    "        \n",
    "        # q를 사용하여 무한 루프 탈출\n",
    "        if cv2.waitKey(1) & 0xFF == ord('q'):\n",
    "            break\n",
    "    # ret의 값이 False 프레임이 정상적으로 읽어지지 않았다면 while문 탈출\n",
    "    else:\n",
    "        break\n",
    "        \n",
    "# 모든 작업이 완료되면 마지막으로 오픈한 cap 객체를 cap.release() 함수를 이용하여 해제한다.\n",
    "# 모든 작업이 완료되면 마지막으로 오픈한 out 객체를 out.release() 함수를 이용하여 해제한다.\n",
    "cap.release()\n",
    "out.release()\n",
    "cv2.destroyAllWindows()\n",
    "cv2.waitKey(1)"
   ]
  },
  {
   "cell_type": "code",
   "execution_count": null,
   "id": "4ad6b15c-08bf-41eb-b9f8-8de06bf047ac",
   "metadata": {},
   "outputs": [],
   "source": []
  }
 ],
 "metadata": {
  "kernelspec": {
   "display_name": "Python 3",
   "language": "python",
   "name": "python3"
  },
  "language_info": {
   "codemirror_mode": {
    "name": "ipython",
    "version": 3
   },
   "file_extension": ".py",
   "mimetype": "text/x-python",
   "name": "python",
   "nbconvert_exporter": "python",
   "pygments_lexer": "ipython3",
   "version": "3.9.4"
  }
 },
 "nbformat": 4,
 "nbformat_minor": 5
}
