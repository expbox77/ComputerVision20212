{
 "cells": [
  {
   "cell_type": "markdown",
   "id": "9308e616-bbe5-4717-b080-7f4e7e749340",
   "metadata": {},
   "source": [
    "# 1.2.5 Trackbar as the Color Palette\n",
    "### cv2.getTrackbarPos(), cv2.createTrackbar() etc."
   ]
  },
  {
   "cell_type": "code",
   "execution_count": 1,
   "id": "ea3d8a44-6299-4076-b968-b68803b64d86",
   "metadata": {},
   "outputs": [],
   "source": [
    "import cv2\n",
    "import numpy as np"
   ]
  },
  {
   "cell_type": "code",
   "execution_count": 2,
   "id": "66e284ee-3552-4ab1-8ad8-b1ff9eccf1fc",
   "metadata": {},
   "outputs": [],
   "source": [
    "# Code Demo"
   ]
  },
  {
   "cell_type": "code",
   "execution_count": 3,
   "id": "55452882-1694-44a9-8bb8-00144f05e07d",
   "metadata": {},
   "outputs": [],
   "source": [
    "def nothing(x):\n",
    "    pass"
   ]
  },
  {
   "cell_type": "code",
   "execution_count": 4,
   "id": "5dcce8bb-f4ad-4890-94ea-8fe90e117d35",
   "metadata": {},
   "outputs": [],
   "source": [
    "# Create a black image, a window\n",
    "img = np.zeros((300,512,3), np.uint8)\n",
    "cv2.namedWindow('image')"
   ]
  },
  {
   "cell_type": "code",
   "execution_count": 5,
   "id": "26950673-bd6b-46da-98ef-64a8de2c3a05",
   "metadata": {},
   "outputs": [],
   "source": [
    "# create trackbars for color change\n",
    "cv2.createTrackbar('R','image',0,255,nothing)\n",
    "cv2.createTrackbar('G','image',0,255,nothing)\n",
    "cv2.createTrackbar('B','image',0,255,nothing)"
   ]
  },
  {
   "cell_type": "code",
   "execution_count": 6,
   "id": "f8b68782-c684-4fad-bdcb-59b6dfaad86e",
   "metadata": {},
   "outputs": [],
   "source": [
    "# create switch for ON/OFF functionality\n",
    "switch = '0 : OFF \\n1 : ON'\n",
    "cv2.createTrackbar(switch, 'image',0,1,nothing)"
   ]
  },
  {
   "cell_type": "code",
   "execution_count": 7,
   "id": "2c6dd8eb-3826-4d1b-9520-dfc5e17335c1",
   "metadata": {},
   "outputs": [
    {
     "data": {
      "text/plain": [
       "-1"
      ]
     },
     "execution_count": 7,
     "metadata": {},
     "output_type": "execute_result"
    }
   ],
   "source": [
    "while(True):\n",
    "    cv2.imshow('image',img)\n",
    "    k = cv2.waitKey(1) & 0xFF\n",
    "    if k == 27:\n",
    "        break\n",
    "        \n",
    "    # get current positions of four trackbars\n",
    "    r = cv2.getTrackbarPos('R','image')\n",
    "    g = cv2.getTrackbarPos('G','image')\n",
    "    b = cv2.getTrackbarPos('B','image')\n",
    "    s = cv2.getTrackbarPos(switch,'image')\n",
    "    \n",
    "    if s == 0:\n",
    "        img[:] = 0\n",
    "    else:\n",
    "        img[:] = [b,g,r]\n",
    "        \n",
    "cv2.destroyAllWindows()\n",
    "cv2.waitKey(1)"
   ]
  },
  {
   "cell_type": "code",
   "execution_count": null,
   "id": "6dcaee60-997c-4120-ab68-765ac6b87596",
   "metadata": {},
   "outputs": [],
   "source": []
  }
 ],
 "metadata": {
  "kernelspec": {
   "display_name": "Python 3",
   "language": "python",
   "name": "python3"
  },
  "language_info": {
   "codemirror_mode": {
    "name": "ipython",
    "version": 3
   },
   "file_extension": ".py",
   "mimetype": "text/x-python",
   "name": "python",
   "nbconvert_exporter": "python",
   "pygments_lexer": "ipython3",
   "version": "3.9.4"
  }
 },
 "nbformat": 4,
 "nbformat_minor": 5
}
