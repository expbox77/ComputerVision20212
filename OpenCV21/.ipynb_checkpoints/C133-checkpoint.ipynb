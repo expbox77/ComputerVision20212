{
 "cells": [
  {
   "cell_type": "markdown",
   "id": "ab922be2-d0b4-4734-bd3c-3caa2db63b3a",
   "metadata": {},
   "source": [
    "# 1.3.3 Performance Measurement and Improvement Techniques\n",
    "### cv2.getTickCount, cv2.getTickFrequency etc."
   ]
  },
  {
   "cell_type": "code",
   "execution_count": null,
   "id": "b0ff7b82-436a-4d23-9b5e-ac18a026efc3",
   "metadata": {},
   "outputs": [],
   "source": [
    "# 이 부분은 안함"
   ]
  }
 ],
 "metadata": {
  "kernelspec": {
   "display_name": "Python 3",
   "language": "python",
   "name": "python3"
  },
  "language_info": {
   "codemirror_mode": {
    "name": "ipython",
    "version": 3
   },
   "file_extension": ".py",
   "mimetype": "text/x-python",
   "name": "python",
   "nbconvert_exporter": "python",
   "pygments_lexer": "ipython3",
   "version": "3.9.4"
  }
 },
 "nbformat": 4,
 "nbformat_minor": 5
}
