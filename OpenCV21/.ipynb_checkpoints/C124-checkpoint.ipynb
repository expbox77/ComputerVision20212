{
 "cells": [
  {
   "cell_type": "markdown",
   "id": "9ea8b792-7717-4866-bc7f-9ff0b038b96b",
   "metadata": {},
   "source": [
    "# 1.2.4 Mouse as a Paint-Brush"
   ]
  },
  {
   "cell_type": "markdown",
   "id": "09071248-37d1-42f3-b8a7-82ad1b2838fe",
   "metadata": {},
   "source": [
    "### cv2.setMouseCallback()"
   ]
  },
  {
   "cell_type": "code",
   "execution_count": 1,
   "id": "1797743f-eb29-4bdf-8b8b-d6c0134e3540",
   "metadata": {},
   "outputs": [],
   "source": [
    "import cv2\n",
    "import numpy as np"
   ]
  },
  {
   "cell_type": "code",
   "execution_count": 2,
   "id": "1b624116-c617-4dfa-8ae3-67c5a75de2e6",
   "metadata": {},
   "outputs": [],
   "source": [
    "# Simple Demo"
   ]
  },
  {
   "cell_type": "code",
   "execution_count": 3,
   "id": "e9925331-ce5a-41a3-bb48-44939d16fc58",
   "metadata": {},
   "outputs": [
    {
     "name": "stdout",
     "output_type": "stream",
     "text": [
      "['EVENT_FLAG_ALTKEY', 'EVENT_FLAG_CTRLKEY', 'EVENT_FLAG_LBUTTON', 'EVENT_FLAG_MBUTTON', 'EVENT_FLAG_RBUTTON', 'EVENT_FLAG_SHIFTKEY', 'EVENT_LBUTTONDBLCLK', 'EVENT_LBUTTONDOWN', 'EVENT_LBUTTONUP', 'EVENT_MBUTTONDBLCLK', 'EVENT_MBUTTONDOWN', 'EVENT_MBUTTONUP', 'EVENT_MOUSEHWHEEL', 'EVENT_MOUSEMOVE', 'EVENT_MOUSEWHEEL', 'EVENT_RBUTTONDBLCLK', 'EVENT_RBUTTONDOWN', 'EVENT_RBUTTONUP']\n"
     ]
    }
   ],
   "source": [
    "events = [i for i in dir(cv2) if 'EVENT' in i]\n",
    "print(events)"
   ]
  },
  {
   "cell_type": "code",
   "execution_count": 4,
   "id": "68b6caf8-f8d8-4946-a801-f36c7fa5e493",
   "metadata": {},
   "outputs": [],
   "source": [
    "# # mouse callback function\n",
    "# def draw_circle(event,x,y,flags,param):\n",
    "#     if event == cv2.EVENT_LBUTTONDBLCLK:\n",
    "#         cv2.circle(img,(x,y),10,(0,255,0),3)\n",
    "#     elif event == cv2.EVENT_RBUTTONDBLCLK:\n",
    "#         cv2.circle(img,(x,y),20,(0,255,255),-1)\n",
    "#     elif event == cv2.EVENT_MOUSEMOVE:\n",
    "#         cv2.circle(img,(x,y),3,(255,0,255),-1) "
   ]
  },
  {
   "cell_type": "code",
   "execution_count": 5,
   "id": "429ad89d-e004-4388-aa6e-65e9a1183dd2",
   "metadata": {},
   "outputs": [],
   "source": [
    "# # Create a black image, a window and bind the function to window\n",
    "# img = np.zeros((512,512,3), np.uint8)\n",
    "# cv2.namedWindow('image')\n",
    "# cv2.setMouseCallback('image',draw_circle)"
   ]
  },
  {
   "cell_type": "code",
   "execution_count": 6,
   "id": "d4038613-9302-47ca-8fa3-7d6b457179e4",
   "metadata": {},
   "outputs": [],
   "source": [
    "# while(1):\n",
    "#     cv2.imshow('image',img)\n",
    "#     if cv2.waitKey(20) & 0xFF == 27:\n",
    "#         break"
   ]
  },
  {
   "cell_type": "code",
   "execution_count": 7,
   "id": "c603adb0-d4e8-46c1-9dfc-25d50f2379bd",
   "metadata": {},
   "outputs": [],
   "source": [
    "# cv2.destroyAllWindows()"
   ]
  },
  {
   "cell_type": "code",
   "execution_count": 8,
   "id": "2c0a0e6b-d358-483c-b8ff-c0f173f9f150",
   "metadata": {},
   "outputs": [],
   "source": [
    "# More Advanced Demo"
   ]
  },
  {
   "cell_type": "code",
   "execution_count": 2,
   "id": "3d385d49-4b0d-4fc1-be87-feebf2cffa8c",
   "metadata": {},
   "outputs": [],
   "source": [
    "drawing = False # true if mouse is pressed\n",
    "mode = True # if True, draw rectangle. Press 'm' to toggle to curve ix,iy = -1,-1"
   ]
  },
  {
   "cell_type": "code",
   "execution_count": 7,
   "id": "fe09ec69-d74e-4d93-8a3b-a117cb3f09d1",
   "metadata": {},
   "outputs": [],
   "source": [
    "# mouse callback function\n",
    "def draw_circle(event,x,y,flags,param):\n",
    "    global ix,iy,drawing,mode, img\n",
    "    \n",
    "    if event == cv2.EVENT_LBUTTONDOWN:\n",
    "        drawing = True\n",
    "        ix,iy = x,y\n",
    "        \n",
    "    elif event == cv2.EVENT_MOUSEMOVE:\n",
    "        if drawing == True:\n",
    "            if mode == True:\n",
    "                img = np.zeros((512,512,3), np.uint8)\n",
    "                cv2.rectangle(img,(ix,iy),(x,y),(0,255,0),10)\n",
    "            else:\n",
    "                cv2.circle(img,(x,y),5,(0,0,255),-1)\n",
    "        \n",
    "    elif event == cv2.EVENT_LBUTTONUP:\n",
    "        drawing = False\n",
    "        if mode == True:\n",
    "            cv2.rectangle(img,(ix,iy),(x,y),(0,255,0),10)\n",
    "        else:\n",
    "            cv2.circle(img,(x,y),5,(0,0,255),-1)"
   ]
  },
  {
   "cell_type": "code",
   "execution_count": 8,
   "id": "f2fd1b21-4e88-4340-9315-11b5d6375476",
   "metadata": {},
   "outputs": [],
   "source": [
    "img = np.zeros((512,512,3), np.uint8)\n",
    "cv2.namedWindow('image')\n",
    "cv2.setMouseCallback('image',draw_circle)"
   ]
  },
  {
   "cell_type": "code",
   "execution_count": null,
   "id": "7de1129a-3437-43ec-b636-a813e0b201c5",
   "metadata": {},
   "outputs": [],
   "source": [
    "while(1):\n",
    "    cv2.imshow('image',img)\n",
    "    k = cv2.waitKey(1) & 0xFF\n",
    "    if k == ord('m'):\n",
    "        mode = not mode\n",
    "    elif k == 27:\n",
    "        break\n"
   ]
  },
  {
   "cell_type": "code",
   "execution_count": null,
   "id": "8179ccf9-2f0d-4da4-8ada-05497bcb9725",
   "metadata": {},
   "outputs": [],
   "source": [
    "cv2.destroyAllWindows()"
   ]
  },
  {
   "cell_type": "code",
   "execution_count": null,
   "id": "356c9176-2a9f-48ac-b9d1-5088492c966f",
   "metadata": {},
   "outputs": [],
   "source": []
  }
 ],
 "metadata": {
  "kernelspec": {
   "display_name": "Python 3",
   "language": "python",
   "name": "python3"
  },
  "language_info": {
   "codemirror_mode": {
    "name": "ipython",
    "version": 3
   },
   "file_extension": ".py",
   "mimetype": "text/x-python",
   "name": "python",
   "nbconvert_exporter": "python",
   "pygments_lexer": "ipython3",
   "version": "3.9.4"
  }
 },
 "nbformat": 4,
 "nbformat_minor": 5
}
