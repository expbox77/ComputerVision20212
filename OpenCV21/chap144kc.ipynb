{
 "cells": [
  {
   "cell_type": "markdown",
   "metadata": {},
   "source": [
    "# 1.4.4 Smoothing Images"
   ]
  },
  {
   "cell_type": "markdown",
   "metadata": {},
   "source": [
    "## Kernel Convolution"
   ]
  },
  {
   "cell_type": "code",
   "execution_count": 1,
   "metadata": {},
   "outputs": [],
   "source": [
    "import cv2\n",
    "import numpy as np\n",
    "from matplotlib import pyplot as plt"
   ]
  },
  {
   "cell_type": "code",
   "execution_count": 2,
   "metadata": {},
   "outputs": [],
   "source": [
    "l=1\n",
    "# Edge detection\n",
    "# kernel = np.array([[0,-1,0],[-1,4,-1],[0,-1,0]],np.float32)\n",
    "\n",
    "# Sharpen\n",
    "kernel = np.array([[0,-1,0],[-1,5,-1],[0,-1,0]],np.float32)"
   ]
  },
  {
   "cell_type": "code",
   "execution_count": 3,
   "metadata": {},
   "outputs": [
    {
     "data": {
      "text/plain": [
       "array([[ 0., -1.,  0.],\n",
       "       [-1.,  3., -1.],\n",
       "       [ 0., -1.,  0.]], dtype=float32)"
      ]
     },
     "execution_count": 3,
     "metadata": {},
     "output_type": "execute_result"
    }
   ],
   "source": [
    "kernel"
   ]
  },
  {
   "cell_type": "code",
   "execution_count": 4,
   "metadata": {},
   "outputs": [],
   "source": [
    "img = np.random.randint(10, size=(12,12))\n",
    "#img = np.ones((10,10),np.float32)"
   ]
  },
  {
   "cell_type": "code",
   "execution_count": 5,
   "metadata": {},
   "outputs": [
    {
     "data": {
      "text/plain": [
       "array([[5, 2, 7, 2, 7, 8, 8, 3, 1, 7, 5, 7],\n",
       "       [2, 4, 2, 9, 8, 1, 1, 9, 5, 8, 6, 6],\n",
       "       [6, 0, 2, 2, 8, 0, 2, 7, 1, 2, 2, 4],\n",
       "       [9, 9, 4, 0, 4, 5, 2, 1, 0, 9, 7, 2],\n",
       "       [2, 1, 0, 0, 7, 4, 1, 9, 9, 4, 3, 2],\n",
       "       [2, 3, 7, 6, 7, 1, 8, 2, 1, 3, 9, 7],\n",
       "       [0, 5, 7, 9, 8, 4, 1, 0, 3, 5, 2, 2],\n",
       "       [3, 5, 0, 3, 9, 9, 5, 0, 4, 2, 6, 9],\n",
       "       [6, 0, 4, 0, 7, 1, 1, 2, 9, 0, 8, 3],\n",
       "       [2, 0, 2, 2, 4, 0, 7, 6, 1, 4, 9, 2],\n",
       "       [5, 5, 6, 3, 1, 3, 7, 8, 1, 7, 8, 2],\n",
       "       [5, 3, 9, 6, 4, 8, 8, 6, 3, 8, 6, 6]])"
      ]
     },
     "execution_count": 5,
     "metadata": {},
     "output_type": "execute_result"
    }
   ],
   "source": [
    "img"
   ]
  },
  {
   "cell_type": "code",
   "execution_count": 6,
   "metadata": {},
   "outputs": [],
   "source": [
    "h,w=img.shape"
   ]
  },
  {
   "cell_type": "code",
   "execution_count": 7,
   "metadata": {},
   "outputs": [
    {
     "name": "stdout",
     "output_type": "stream",
     "text": [
      "12 12\n"
     ]
    }
   ],
   "source": [
    "print(h,w)"
   ]
  },
  {
   "cell_type": "code",
   "execution_count": 8,
   "metadata": {},
   "outputs": [],
   "source": [
    "#[*range(-2,3)]"
   ]
  },
  {
   "cell_type": "code",
   "execution_count": 9,
   "metadata": {},
   "outputs": [],
   "source": [
    "dst = np.zeros((h,w),np.int8)"
   ]
  },
  {
   "cell_type": "code",
   "execution_count": 10,
   "metadata": {},
   "outputs": [],
   "source": [
    "for i in range(l,h-l):\n",
    "    for j in range(l,w-l):\n",
    "        t=0\n",
    "        for p in range(-l,l+1):\n",
    "            for q in range(-l,l+1):\n",
    "                t += kernel[p+l,q+l]*img[i+p,j+q]\n",
    "        dst[i,j]=t        "
   ]
  },
  {
   "cell_type": "code",
   "execution_count": 11,
   "metadata": {},
   "outputs": [
    {
     "data": {
      "text/plain": [
       "array([[5, 2, 7, 2, 7, 8, 8, 3, 1, 7, 5, 7],\n",
       "       [2, 4, 2, 9, 8, 1, 1, 9, 5, 8, 6, 6],\n",
       "       [6, 0, 2, 2, 8, 0, 2, 7, 1, 2, 2, 4],\n",
       "       [9, 9, 4, 0, 4, 5, 2, 1, 0, 9, 7, 2],\n",
       "       [2, 1, 0, 0, 7, 4, 1, 9, 9, 4, 3, 2],\n",
       "       [2, 3, 7, 6, 7, 1, 8, 2, 1, 3, 9, 7],\n",
       "       [0, 5, 7, 9, 8, 4, 1, 0, 3, 5, 2, 2],\n",
       "       [3, 5, 0, 3, 9, 9, 5, 0, 4, 2, 6, 9],\n",
       "       [6, 0, 4, 0, 7, 1, 1, 2, 9, 0, 8, 3],\n",
       "       [2, 0, 2, 2, 4, 0, 7, 6, 1, 4, 9, 2],\n",
       "       [5, 5, 6, 3, 1, 3, 7, 8, 1, 7, 8, 2],\n",
       "       [5, 3, 9, 6, 4, 8, 8, 6, 3, 8, 6, 6]])"
      ]
     },
     "execution_count": 11,
     "metadata": {},
     "output_type": "execute_result"
    }
   ],
   "source": [
    "img"
   ]
  },
  {
   "cell_type": "code",
   "execution_count": 12,
   "metadata": {},
   "outputs": [
    {
     "data": {
      "text/plain": [
       "array([[  0,   0,   0,   0,   0,   0,   0,   0,   0,   0,   0,   0],\n",
       "       [  0,   6, -16,  13,  -1, -14, -17,  11,  -4,   4,  -3,   0],\n",
       "       [  0, -21,  -2, -13,  10, -16,  -4,   8, -11, -14, -13,   0],\n",
       "       [  0,  13,   1, -10,  -8,   5,  -3, -15, -20,  14,   5,   0],\n",
       "       [  0, -11, -12, -13,   6,  -2, -20,  14,  13, -12, -13,   0],\n",
       "       [  0,  -6,   5,  -5,  -1, -20,  19, -12, -14, -10,  12,   0],\n",
       "       [  0,   0,   0,   3,  -5,  -7, -14,  -6,  -1,   5, -16,   0],\n",
       "       [  0,   7, -19,  -9,   0,   8,   4, -11,  -2,  -9,  -3,   0],\n",
       "       [  0, -15,  10, -16,   7, -14, -12, -10,  20, -23,   6,   0],\n",
       "       [  0,  -9,  -6,  -3,   2, -15,   7,   0, -17,  -5,   5,   0],\n",
       "       [  0,   1,  -1,  -6, -11,  -7,  -5,   4, -16,   0,   0,   0],\n",
       "       [  0,   0,   0,   0,   0,   0,   0,   0,   0,   0,   0,   0]],\n",
       "      dtype=int8)"
      ]
     },
     "execution_count": 12,
     "metadata": {},
     "output_type": "execute_result"
    }
   ],
   "source": [
    "dst"
   ]
  },
  {
   "cell_type": "code",
   "execution_count": 13,
   "metadata": {},
   "outputs": [],
   "source": [
    "img = cv2.imread('lena.png', 0)"
   ]
  },
  {
   "cell_type": "code",
   "execution_count": 14,
   "metadata": {},
   "outputs": [],
   "source": [
    "h,w=img.shape"
   ]
  },
  {
   "cell_type": "code",
   "execution_count": 15,
   "metadata": {},
   "outputs": [],
   "source": [
    "dst = np.zeros((h-2*l,w-2*l),np.uint8)"
   ]
  },
  {
   "cell_type": "code",
   "execution_count": 16,
   "metadata": {},
   "outputs": [],
   "source": [
    "for i in range(l,h-l):\n",
    "    for j in range(l,w-l):\n",
    "        t=0\n",
    "        for p in range(-l,l+1):\n",
    "            for q in range(-l,l+1):\n",
    "                t += kernel[p+l,q+l]*img[i+p,j+q]\n",
    "        dst[i-l,j-l]=t "
   ]
  },
  {
   "cell_type": "code",
   "execution_count": 17,
   "metadata": {},
   "outputs": [],
   "source": [
    "cv2.imshow('img',img)\n",
    "cv2.imshow('dst',dst)\n",
    "cv2.waitKey(0)\n",
    "cv2.destroyAllWindows()"
   ]
  },
  {
   "cell_type": "code",
   "execution_count": null,
   "metadata": {},
   "outputs": [],
   "source": []
  }
 ],
 "metadata": {
  "kernelspec": {
   "display_name": "Python 3",
   "language": "python",
   "name": "python3"
  },
  "language_info": {
   "codemirror_mode": {
    "name": "ipython",
    "version": 3
   },
   "file_extension": ".py",
   "mimetype": "text/x-python",
   "name": "python",
   "nbconvert_exporter": "python",
   "pygments_lexer": "ipython3",
   "version": "3.9.4"
  }
 },
 "nbformat": 4,
 "nbformat_minor": 4
}
