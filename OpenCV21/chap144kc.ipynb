{
 "cells": [
  {
   "cell_type": "markdown",
   "metadata": {},
   "source": [
    "# 1.4.4 Smoothing Images"
   ]
  },
  {
   "cell_type": "markdown",
   "metadata": {},
   "source": [
    "## Kernel Convolution"
   ]
  },
  {
   "cell_type": "code",
   "execution_count": 1,
   "metadata": {},
   "outputs": [],
   "source": [
    "import cv2\n",
    "import numpy as np\n",
    "from matplotlib import pyplot as plt"
   ]
  },
  {
   "cell_type": "code",
   "execution_count": 2,
   "metadata": {},
   "outputs": [],
   "source": [
    "l=1\n",
    "# Edge detection\n",
    "# kernel = np.array([[0,-1,0],[-1,4,-1],[0,-1,0]],np.float32)\n",
    "\n",
    "# Sharpen\n",
    "kernel = np.array([[0,-1,0],[-1,5,-1],[0,-1,0]],np.float32)"
   ]
  },
  {
   "cell_type": "code",
   "execution_count": 3,
   "metadata": {},
   "outputs": [
    {
     "data": {
      "text/plain": [
       "array([[ 0., -1.,  0.],\n",
       "       [-1.,  5., -1.],\n",
       "       [ 0., -1.,  0.]], dtype=float32)"
      ]
     },
     "execution_count": 3,
     "metadata": {},
     "output_type": "execute_result"
    }
   ],
   "source": [
    "kernel"
   ]
  },
  {
   "cell_type": "code",
   "execution_count": 4,
   "metadata": {},
   "outputs": [],
   "source": [
    "img = np.random.randint(10, size=(12,12))\n",
    "#img = np.ones((10,10),np.float32)"
   ]
  },
  {
   "cell_type": "code",
   "execution_count": 5,
   "metadata": {},
   "outputs": [
    {
     "data": {
      "text/plain": [
       "array([[4, 5, 5, 1, 8, 2, 1, 5, 4, 7, 6, 9],\n",
       "       [6, 0, 2, 3, 7, 1, 4, 3, 2, 6, 1, 0],\n",
       "       [1, 3, 1, 8, 5, 4, 9, 5, 5, 8, 6, 9],\n",
       "       [1, 7, 6, 9, 9, 4, 0, 2, 7, 6, 0, 4],\n",
       "       [0, 7, 9, 3, 1, 4, 2, 1, 2, 6, 5, 8],\n",
       "       [6, 9, 5, 8, 3, 0, 7, 5, 9, 7, 6, 7],\n",
       "       [1, 1, 6, 8, 2, 0, 8, 8, 3, 1, 1, 0],\n",
       "       [1, 5, 2, 8, 6, 4, 4, 1, 6, 2, 2, 6],\n",
       "       [1, 0, 6, 8, 3, 5, 8, 2, 0, 5, 1, 2],\n",
       "       [5, 3, 8, 0, 3, 1, 8, 7, 4, 8, 7, 0],\n",
       "       [1, 2, 5, 1, 3, 8, 2, 6, 3, 6, 8, 1],\n",
       "       [1, 9, 5, 0, 8, 1, 4, 2, 6, 2, 1, 3]])"
      ]
     },
     "execution_count": 5,
     "metadata": {},
     "output_type": "execute_result"
    }
   ],
   "source": [
    "img"
   ]
  },
  {
   "cell_type": "code",
   "execution_count": 6,
   "metadata": {},
   "outputs": [],
   "source": [
    "h,w=img.shape"
   ]
  },
  {
   "cell_type": "code",
   "execution_count": 7,
   "metadata": {},
   "outputs": [
    {
     "name": "stdout",
     "output_type": "stream",
     "text": [
      "12 12\n"
     ]
    }
   ],
   "source": [
    "print(h,w)"
   ]
  },
  {
   "cell_type": "code",
   "execution_count": 8,
   "metadata": {},
   "outputs": [],
   "source": [
    "#[*range(-2,3)]"
   ]
  },
  {
   "cell_type": "code",
   "execution_count": 9,
   "metadata": {},
   "outputs": [],
   "source": [
    "dst = np.zeros((h,w),np.int8)"
   ]
  },
  {
   "cell_type": "code",
   "execution_count": 10,
   "metadata": {},
   "outputs": [],
   "source": [
    "for i in range(l,h-l):\n",
    "    for j in range(l,w-l):\n",
    "        t=0\n",
    "        for p in range(-l,l+1):\n",
    "            for q in range(-l,l+1):\n",
    "                t += kernel[p+l,q+l]*img[i+p,j+q]\n",
    "        dst[i,j]=t        "
   ]
  },
  {
   "cell_type": "code",
   "execution_count": 11,
   "metadata": {},
   "outputs": [
    {
     "data": {
      "text/plain": [
       "array([[4, 5, 5, 1, 8, 2, 1, 5, 4, 7, 6, 9],\n",
       "       [6, 0, 2, 3, 7, 1, 4, 3, 2, 6, 1, 0],\n",
       "       [1, 3, 1, 8, 5, 4, 9, 5, 5, 8, 6, 9],\n",
       "       [1, 7, 6, 9, 9, 4, 0, 2, 7, 6, 0, 4],\n",
       "       [0, 7, 9, 3, 1, 4, 2, 1, 2, 6, 5, 8],\n",
       "       [6, 9, 5, 8, 3, 0, 7, 5, 9, 7, 6, 7],\n",
       "       [1, 1, 6, 8, 2, 0, 8, 8, 3, 1, 1, 0],\n",
       "       [1, 5, 2, 8, 6, 4, 4, 1, 6, 2, 2, 6],\n",
       "       [1, 0, 6, 8, 3, 5, 8, 2, 0, 5, 1, 2],\n",
       "       [5, 3, 8, 0, 3, 1, 8, 7, 4, 8, 7, 0],\n",
       "       [1, 2, 5, 1, 3, 8, 2, 6, 3, 6, 8, 1],\n",
       "       [1, 9, 5, 0, 8, 1, 4, 2, 6, 2, 1, 3]])"
      ]
     },
     "execution_count": 11,
     "metadata": {},
     "output_type": "execute_result"
    }
   ],
   "source": [
    "img"
   ]
  },
  {
   "cell_type": "code",
   "execution_count": 12,
   "metadata": {},
   "outputs": [
    {
     "data": {
      "text/plain": [
       "array([[  0,   0,   0,   0,   0,   0,   0,   0,   0,   0,   0,   0],\n",
       "       [  0, -16,   1,  -3,  18, -12,   6,  -1,  -8,  12, -13,   0],\n",
       "       [  0,   6, -14,  22,  -3,   1,  32,   6,   3,  17,  12,   0],\n",
       "       [  0,  18,   4,  19,  26,   3, -17,  -3,  20,   9, -21,   0],\n",
       "       [  0,  10,  24, -12, -14,  13,  -2,  -6, -13,  10,   5,   0],\n",
       "       [  0,  26,  -7,  21,   4, -14,  20,   0,  28,  13,  10,   0],\n",
       "       [  0, -16,  14,  16,  -7, -14,  21,  23,  -9,  -8,  -4,   0],\n",
       "       [  0,  21, -15,  16,  13,   5,  -1, -15,  24,  -4,   0,   0],\n",
       "       [  0, -15,  12,  23,  -7,   9,  21,  -6, -17,  14, -11,   0],\n",
       "       [  0,   0,  26, -20,   8, -19,  22,  15,   2,  18,  18,   0],\n",
       "       [  0,  -8,   9,  -3,  -5,  33, -16,  16,  -7,   9,  25,   0],\n",
       "       [  0,   0,   0,   0,   0,   0,   0,   0,   0,   0,   0,   0]],\n",
       "      dtype=int8)"
      ]
     },
     "execution_count": 12,
     "metadata": {},
     "output_type": "execute_result"
    }
   ],
   "source": [
    "dst"
   ]
  },
  {
   "cell_type": "code",
   "execution_count": 13,
   "metadata": {},
   "outputs": [],
   "source": [
    "# 윈도우\n",
    "img = cv2.imread('D:\\GitHub\\ComputerVision20212\\SampleFiles\\lena.png', 0)\n"
   ]
  },
  {
   "cell_type": "code",
   "execution_count": 14,
   "metadata": {},
   "outputs": [],
   "source": [
    "h,w=img.shape"
   ]
  },
  {
   "cell_type": "code",
   "execution_count": 15,
   "metadata": {},
   "outputs": [],
   "source": [
    "dst = np.zeros((h-2*l,w-2*l),np.uint8)"
   ]
  },
  {
   "cell_type": "code",
   "execution_count": 16,
   "metadata": {},
   "outputs": [],
   "source": [
    "for i in range(l,h-l):\n",
    "    for j in range(l,w-l):\n",
    "        t=0\n",
    "        for p in range(-l,l+1):\n",
    "            for q in range(-l,l+1):\n",
    "                t += kernel[p+l,q+l]*img[i+p,j+q]\n",
    "        dst[i-l,j-l]=t "
   ]
  },
  {
   "cell_type": "code",
   "execution_count": 17,
   "metadata": {},
   "outputs": [],
   "source": [
    "cv2.imshow('img',img)\n",
    "cv2.imshow('dst',dst)\n",
    "cv2.waitKey(0)\n",
    "cv2.destroyAllWindows()"
   ]
  },
  {
   "cell_type": "code",
   "execution_count": null,
   "metadata": {},
   "outputs": [],
   "source": []
  }
 ],
 "metadata": {
  "kernelspec": {
   "display_name": "Python 3",
   "language": "python",
   "name": "python3"
  },
  "language_info": {
   "codemirror_mode": {
    "name": "ipython",
    "version": 3
   },
   "file_extension": ".py",
   "mimetype": "text/x-python",
   "name": "python",
   "nbconvert_exporter": "python",
   "pygments_lexer": "ipython3",
   "version": "3.9.4"
  }
 },
 "nbformat": 4,
 "nbformat_minor": 4
}
