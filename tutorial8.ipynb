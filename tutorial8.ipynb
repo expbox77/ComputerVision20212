{
 "cells": [
  {
   "cell_type": "markdown",
   "id": "fe747cfb-7db1-4ad5-9683-7e7fee37c390",
   "metadata": {},
   "source": [
    "# Calling a Function"
   ]
  },
  {
   "cell_type": "code",
   "execution_count": 1,
   "id": "55c65a27-2719-4bd2-8dec-7f67ebc6a609",
   "metadata": {},
   "outputs": [],
   "source": [
    "def myfun(x, y):\n",
    "    return x * y"
   ]
  },
  {
   "cell_type": "code",
   "execution_count": 2,
   "id": "8bb07c79-6fbb-4cbd-aef0-d7bb0d206a60",
   "metadata": {},
   "outputs": [
    {
     "data": {
      "text/plain": [
       "12"
      ]
     },
     "execution_count": 2,
     "metadata": {},
     "output_type": "execute_result"
    }
   ],
   "source": [
    "myfun(3, 4)"
   ]
  },
  {
   "cell_type": "markdown",
   "id": "0f1af21d-18df-43f7-b7aa-91d78f156310",
   "metadata": {},
   "source": [
    "# Functions are first-class objects in Python"
   ]
  },
  {
   "cell_type": "code",
   "execution_count": 3,
   "id": "bf98fe26-59a1-418e-b50f-641de8243f58",
   "metadata": {},
   "outputs": [],
   "source": [
    "def myfun(x):\n",
    "    return x * 3"
   ]
  },
  {
   "cell_type": "code",
   "execution_count": 4,
   "id": "b0712aca-ca6a-4373-a173-09ae3e4b19d0",
   "metadata": {},
   "outputs": [],
   "source": [
    "def apply(q, x):\n",
    "    return q(x)"
   ]
  },
  {
   "cell_type": "code",
   "execution_count": 5,
   "id": "c46d33ec-8ed2-4d34-8beb-f4fc48c070a7",
   "metadata": {},
   "outputs": [
    {
     "data": {
      "text/plain": [
       "21"
      ]
     },
     "execution_count": 5,
     "metadata": {},
     "output_type": "execute_result"
    }
   ],
   "source": [
    "apply(myfun, 7)"
   ]
  },
  {
   "cell_type": "markdown",
   "id": "a2ea4561-395a-4230-a1a8-ecd937c4db08",
   "metadata": {},
   "source": [
    "# Lambda Notation"
   ]
  },
  {
   "cell_type": "code",
   "execution_count": 6,
   "id": "1d0f3a66-06bf-4369-83b9-edb3085503ff",
   "metadata": {},
   "outputs": [
    {
     "data": {
      "text/plain": [
       "28"
      ]
     },
     "execution_count": 6,
     "metadata": {},
     "output_type": "execute_result"
    }
   ],
   "source": [
    "# 함수는 이름을 지정하지 않고 정의할 수 있다.\n",
    "# 짧은 함수를 다른 함수의 인수로 전달할 때 가장 유용하다.\n",
    "apply(lambda z: z * 4, 7)"
   ]
  },
  {
   "cell_type": "markdown",
   "id": "790cdd17-fedc-40e8-ab9a-91eb455574be",
   "metadata": {},
   "source": [
    "# Default Values for Arguments"
   ]
  },
  {
   "cell_type": "code",
   "execution_count": 7,
   "id": "b33e71fb-d36f-4922-ad19-096194ccf535",
   "metadata": {},
   "outputs": [],
   "source": [
    "def myfun(b, c = 3, d = \"hello\"):\n",
    "    return b + c"
   ]
  },
  {
   "cell_type": "code",
   "execution_count": 8,
   "id": "d3a757ab-dcc8-496a-8caa-a9fb1318dfa0",
   "metadata": {},
   "outputs": [
    {
     "data": {
      "text/plain": [
       "8"
      ]
     },
     "execution_count": 8,
     "metadata": {},
     "output_type": "execute_result"
    }
   ],
   "source": [
    "myfun(5, 3, \"hello\")"
   ]
  },
  {
   "cell_type": "code",
   "execution_count": 9,
   "id": "47fbfc0b-6234-44c4-900d-d799128946c3",
   "metadata": {},
   "outputs": [
    {
     "data": {
      "text/plain": [
       "8"
      ]
     },
     "execution_count": 9,
     "metadata": {},
     "output_type": "execute_result"
    }
   ],
   "source": [
    "myfun(5,3)"
   ]
  },
  {
   "cell_type": "code",
   "execution_count": 10,
   "id": "fe0dd3ac-b1ed-4a7a-9f1c-054d006ca2ab",
   "metadata": {},
   "outputs": [
    {
     "data": {
      "text/plain": [
       "8"
      ]
     },
     "execution_count": 10,
     "metadata": {},
     "output_type": "execute_result"
    }
   ],
   "source": [
    "myfun(5)"
   ]
  },
  {
   "cell_type": "markdown",
   "id": "71b0cb12-25ff-4551-9fe7-b444037209ce",
   "metadata": {},
   "source": [
    "# Keyword Arguments"
   ]
  },
  {
   "cell_type": "code",
   "execution_count": 11,
   "id": "417f3c23-fe26-4f86-a934-aeb5644226d5",
   "metadata": {},
   "outputs": [],
   "source": [
    "def myfun(a, b, c):\n",
    "    return a - b"
   ]
  },
  {
   "cell_type": "code",
   "execution_count": 12,
   "id": "9459ccae-4aa2-4a9d-a946-e20df4399f2d",
   "metadata": {},
   "outputs": [
    {
     "data": {
      "text/plain": [
       "1"
      ]
     },
     "execution_count": 12,
     "metadata": {},
     "output_type": "execute_result"
    }
   ],
   "source": [
    "myfun(2, 1, 43)"
   ]
  },
  {
   "cell_type": "code",
   "execution_count": 13,
   "id": "3384f11a-9b5f-4ba8-a80f-ffd3b716e271",
   "metadata": {},
   "outputs": [
    {
     "data": {
      "text/plain": [
       "1"
      ]
     },
     "execution_count": 13,
     "metadata": {},
     "output_type": "execute_result"
    }
   ],
   "source": [
    "myfun(c = 43, b = 1, a = 2)"
   ]
  },
  {
   "cell_type": "code",
   "execution_count": 14,
   "id": "c7edf818-0662-4a81-ab84-ca7dc4b36da6",
   "metadata": {},
   "outputs": [
    {
     "data": {
      "text/plain": [
       "1"
      ]
     },
     "execution_count": 14,
     "metadata": {},
     "output_type": "execute_result"
    }
   ],
   "source": [
    "myfun(2, c = 43, b = 1)"
   ]
  }
 ],
 "metadata": {
  "kernelspec": {
   "display_name": "Python 3",
   "language": "python",
   "name": "python3"
  },
  "language_info": {
   "codemirror_mode": {
    "name": "ipython",
    "version": 3
   },
   "file_extension": ".py",
   "mimetype": "text/x-python",
   "name": "python",
   "nbconvert_exporter": "python",
   "pygments_lexer": "ipython3",
   "version": "3.9.4"
  }
 },
 "nbformat": 4,
 "nbformat_minor": 5
}
