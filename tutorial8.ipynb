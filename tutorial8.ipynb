{
 "cells": [
  {
   "cell_type": "markdown",
   "id": "1a32ca3a-2290-4b37-ae03-a6f40d46f951",
   "metadata": {},
   "source": [
    "# Functions in Python (Methods later)"
   ]
  },
  {
   "cell_type": "markdown",
   "id": "fe747cfb-7db1-4ad5-9683-7e7fee37c390",
   "metadata": {},
   "source": [
    "### Calling a Function"
   ]
  },
  {
   "cell_type": "code",
   "execution_count": 1,
   "id": "55c65a27-2719-4bd2-8dec-7f67ebc6a609",
   "metadata": {},
   "outputs": [],
   "source": [
    "# def로 함수 선언 시작\n",
    "# myfun --> 함수의 이름\n",
    "# (x, y) --> 함수의 매개변수\n",
    "def myfun(x, y): # :과 들여쓰기가 가장 중요하다.\n",
    "    \n",
    "    # return으로 함수에서 출력할 값을 지정한다.\n",
    "    # return 값은 수식도 가능하고 변수도 가능하다.\n",
    "    # return 반환을 하지 않을 때는 None를 반환한다. (None == NULL)\n",
    "    return x * y"
   ]
  },
  {
   "cell_type": "code",
   "execution_count": 2,
   "id": "8bb07c79-6fbb-4cbd-aef0-d7bb0d206a60",
   "metadata": {},
   "outputs": [
    {
     "data": {
      "text/plain": [
       "12"
      ]
     },
     "execution_count": 2,
     "metadata": {},
     "output_type": "execute_result"
    }
   ],
   "source": [
    "myfun(3, 4)"
   ]
  },
  {
   "cell_type": "markdown",
   "id": "0f1af21d-18df-43f7-b7aa-91d78f156310",
   "metadata": {},
   "source": [
    "### Functions are first-class objects in Python"
   ]
  },
  {
   "cell_type": "code",
   "execution_count": 3,
   "id": "bf98fe26-59a1-418e-b50f-641de8243f58",
   "metadata": {},
   "outputs": [],
   "source": [
    "def myfun(x):\n",
    "    return x * 3"
   ]
  },
  {
   "cell_type": "code",
   "execution_count": 4,
   "id": "b0712aca-ca6a-4373-a173-09ae3e4b19d0",
   "metadata": {},
   "outputs": [],
   "source": [
    "def apply(q, x):\n",
    "    return q(x)"
   ]
  },
  {
   "cell_type": "code",
   "execution_count": 5,
   "id": "c46d33ec-8ed2-4d34-8beb-f4fc48c070a7",
   "metadata": {},
   "outputs": [
    {
     "data": {
      "text/plain": [
       "21"
      ]
     },
     "execution_count": 5,
     "metadata": {},
     "output_type": "execute_result"
    }
   ],
   "source": [
    "# 함수의 매개변수로 함수를 넣는 것도 가능하다.\n",
    "apply(myfun, 7)"
   ]
  },
  {
   "cell_type": "markdown",
   "id": "a2ea4561-395a-4230-a1a8-ecd937c4db08",
   "metadata": {},
   "source": [
    "### Lambda Notation"
   ]
  },
  {
   "cell_type": "code",
   "execution_count": 6,
   "id": "1d0f3a66-06bf-4369-83b9-edb3085503ff",
   "metadata": {},
   "outputs": [
    {
     "data": {
      "text/plain": [
       "28"
      ]
     },
     "execution_count": 6,
     "metadata": {},
     "output_type": "execute_result"
    }
   ],
   "source": [
    "# 함수는 이름을 지정하지 않고 정의할 수 있다.\n",
    "# 짧은 함수를 다른 함수의 인수로 전달할 때 가장 유용하다.\n",
    "apply(lambda z: z * 4, 7)"
   ]
  },
  {
   "cell_type": "markdown",
   "id": "790cdd17-fedc-40e8-ab9a-91eb455574be",
   "metadata": {},
   "source": [
    "### Default Values for Arguments"
   ]
  },
  {
   "cell_type": "code",
   "execution_count": 7,
   "id": "f0cb096f-87b1-42fc-93d6-9502a4cac6f3",
   "metadata": {},
   "outputs": [],
   "source": [
    "def myfun(b, c, d):\n",
    "    return b + c"
   ]
  },
  {
   "cell_type": "code",
   "execution_count": 8,
   "id": "46db1b17-cb20-4f39-adf3-30754830e943",
   "metadata": {},
   "outputs": [
    {
     "data": {
      "text/plain": [
       "8"
      ]
     },
     "execution_count": 8,
     "metadata": {},
     "output_type": "execute_result"
    }
   ],
   "source": [
    "myfun(5, 3, \"hello\")"
   ]
  },
  {
   "cell_type": "code",
   "execution_count": 9,
   "id": "7edf5a1b-9e15-43d3-8840-2c190fbb3d0f",
   "metadata": {},
   "outputs": [
    {
     "ename": "TypeError",
     "evalue": "myfun() missing 1 required positional argument: 'd'",
     "output_type": "error",
     "traceback": [
      "\u001b[0;31m---------------------------------------------------------------------------\u001b[0m",
      "\u001b[0;31mTypeError\u001b[0m                                 Traceback (most recent call last)",
      "\u001b[0;32m<ipython-input-9-407954343491>\u001b[0m in \u001b[0;36m<module>\u001b[0;34m\u001b[0m\n\u001b[1;32m      1\u001b[0m \u001b[0;31m# 함수를 호출할 때 매개변수를 제대로 지정하지 않으면 에러가 발생한다.\u001b[0m\u001b[0;34m\u001b[0m\u001b[0;34m\u001b[0m\u001b[0;34m\u001b[0m\u001b[0m\n\u001b[0;32m----> 2\u001b[0;31m \u001b[0mmyfun\u001b[0m\u001b[0;34m(\u001b[0m\u001b[0;36m5\u001b[0m\u001b[0;34m,\u001b[0m \u001b[0;36m3\u001b[0m\u001b[0;34m)\u001b[0m\u001b[0;34m\u001b[0m\u001b[0;34m\u001b[0m\u001b[0m\n\u001b[0m",
      "\u001b[0;31mTypeError\u001b[0m: myfun() missing 1 required positional argument: 'd'"
     ]
    }
   ],
   "source": [
    "# 함수를 호출할 때 매개변수를 제대로 지정하지 않으면 에러가 발생한다.\n",
    "myfun(5, 3)"
   ]
  },
  {
   "cell_type": "code",
   "execution_count": 10,
   "id": "b33e71fb-d36f-4922-ad19-096194ccf535",
   "metadata": {},
   "outputs": [],
   "source": [
    "# 따로 지정하는 매개변수가 없을 때 기본으로 지정되는 매개변수\n",
    "def myfun(b, c = 3, d = \"hello\"):\n",
    "    return b + c"
   ]
  },
  {
   "cell_type": "code",
   "execution_count": 11,
   "id": "d3a757ab-dcc8-496a-8caa-a9fb1318dfa0",
   "metadata": {},
   "outputs": [
    {
     "data": {
      "text/plain": [
       "8"
      ]
     },
     "execution_count": 11,
     "metadata": {},
     "output_type": "execute_result"
    }
   ],
   "source": [
    "myfun(5, 3, \"hello\")"
   ]
  },
  {
   "cell_type": "code",
   "execution_count": 12,
   "id": "47fbfc0b-6234-44c4-900d-d799128946c3",
   "metadata": {},
   "outputs": [
    {
     "data": {
      "text/plain": [
       "8"
      ]
     },
     "execution_count": 12,
     "metadata": {},
     "output_type": "execute_result"
    }
   ],
   "source": [
    "myfun(5,3)"
   ]
  },
  {
   "cell_type": "code",
   "execution_count": 13,
   "id": "fe0dd3ac-b1ed-4a7a-9f1c-054d006ca2ab",
   "metadata": {},
   "outputs": [
    {
     "data": {
      "text/plain": [
       "8"
      ]
     },
     "execution_count": 13,
     "metadata": {},
     "output_type": "execute_result"
    }
   ],
   "source": [
    "myfun(5)"
   ]
  },
  {
   "cell_type": "markdown",
   "id": "71b0cb12-25ff-4551-9fe7-b444037209ce",
   "metadata": {},
   "source": [
    "### Keyword Arguments"
   ]
  },
  {
   "cell_type": "code",
   "execution_count": 14,
   "id": "417f3c23-fe26-4f86-a934-aeb5644226d5",
   "metadata": {},
   "outputs": [],
   "source": [
    "# 매개변수의 이름을 지정한다면 순서 상관없이 지정되어 함수 사용이 가능하다.\n",
    "def myfun(a, b, c):\n",
    "    return a - b"
   ]
  },
  {
   "cell_type": "code",
   "execution_count": 15,
   "id": "9459ccae-4aa2-4a9d-a946-e20df4399f2d",
   "metadata": {},
   "outputs": [
    {
     "data": {
      "text/plain": [
       "1"
      ]
     },
     "execution_count": 15,
     "metadata": {},
     "output_type": "execute_result"
    }
   ],
   "source": [
    "# 매개변수 (a, b, c)\n",
    "myfun(2, 1, 43)"
   ]
  },
  {
   "cell_type": "code",
   "execution_count": 16,
   "id": "3384f11a-9b5f-4ba8-a80f-ffd3b716e271",
   "metadata": {},
   "outputs": [
    {
     "data": {
      "text/plain": [
       "1"
      ]
     },
     "execution_count": 16,
     "metadata": {},
     "output_type": "execute_result"
    }
   ],
   "source": [
    "# 매개변수 (c, b, a)\n",
    "myfun(c = 43, b = 1, a = 2)"
   ]
  },
  {
   "cell_type": "code",
   "execution_count": 17,
   "id": "c7edf818-0662-4a81-ab84-ca7dc4b36da6",
   "metadata": {},
   "outputs": [
    {
     "data": {
      "text/plain": [
       "1"
      ]
     },
     "execution_count": 17,
     "metadata": {},
     "output_type": "execute_result"
    }
   ],
   "source": [
    "# 매개변수 (a, c, b)\n",
    "myfun(2, c = 43, b = 1)"
   ]
  },
  {
   "cell_type": "code",
   "execution_count": null,
   "id": "9a16b734-546b-451e-a0a5-b039f02e8c10",
   "metadata": {},
   "outputs": [],
   "source": []
  }
 ],
 "metadata": {
  "kernelspec": {
   "display_name": "Python 3",
   "language": "python",
   "name": "python3"
  },
  "language_info": {
   "codemirror_mode": {
    "name": "ipython",
    "version": 3
   },
   "file_extension": ".py",
   "mimetype": "text/x-python",
   "name": "python",
   "nbconvert_exporter": "python",
   "pygments_lexer": "ipython3",
   "version": "3.9.4"
  }
 },
 "nbformat": 4,
 "nbformat_minor": 5
}
