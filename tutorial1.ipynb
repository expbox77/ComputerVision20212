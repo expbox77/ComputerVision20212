{
 "cells": [
  {
   "cell_type": "markdown",
   "id": "3da4d909-5f73-4c88-89e3-be5675c0adef",
   "metadata": {},
   "source": [
    "# Sequence Types2"
   ]
  },
  {
   "cell_type": "code",
   "execution_count": 1,
   "id": "e101438e-9b19-458e-bd65-a3c6752fe36b",
   "metadata": {},
   "outputs": [],
   "source": [
    "# Tuple Define\n",
    "tu = (23, 'abc', 4.56, (2, 3), 'def')"
   ]
  },
  {
   "cell_type": "code",
   "execution_count": 2,
   "id": "34fec8ad-3d2c-4c23-bee7-97245adfd752",
   "metadata": {},
   "outputs": [],
   "source": [
    "# List Define\n",
    "li = [\"abc\", 34, 4.34, 23]"
   ]
  },
  {
   "cell_type": "code",
   "execution_count": 3,
   "id": "5c9a04ac-6367-48ab-bab4-8f66d41ce2af",
   "metadata": {},
   "outputs": [
    {
     "data": {
      "text/plain": [
       "(23, 'abc', 4.56, (2, 3), 'def')"
      ]
     },
     "execution_count": 3,
     "metadata": {},
     "output_type": "execute_result"
    }
   ],
   "source": [
    "tu"
   ]
  },
  {
   "cell_type": "code",
   "execution_count": 4,
   "id": "39960d6a",
   "metadata": {},
   "outputs": [
    {
     "data": {
      "text/plain": [
       "tuple"
      ]
     },
     "execution_count": 4,
     "metadata": {},
     "output_type": "execute_result"
    }
   ],
   "source": [
    "type(tu)"
   ]
  },
  {
   "cell_type": "code",
   "execution_count": 5,
   "id": "bc92352e-1fe0-4b84-88aa-620b8fd91db2",
   "metadata": {},
   "outputs": [
    {
     "data": {
      "text/plain": [
       "['abc', 34, 4.34, 23]"
      ]
     },
     "execution_count": 5,
     "metadata": {},
     "output_type": "execute_result"
    }
   ],
   "source": [
    "li"
   ]
  },
  {
   "cell_type": "code",
   "execution_count": 6,
   "id": "522d056c",
   "metadata": {},
   "outputs": [
    {
     "data": {
      "text/plain": [
       "list"
      ]
     },
     "execution_count": 6,
     "metadata": {},
     "output_type": "execute_result"
    }
   ],
   "source": [
    "type(li)"
   ]
  },
  {
   "cell_type": "code",
   "execution_count": 7,
   "id": "cb3dae70-9826-4a0f-ac49-b06948e469ac",
   "metadata": {},
   "outputs": [],
   "source": [
    "st = \"Hello World\""
   ]
  },
  {
   "cell_type": "code",
   "execution_count": 8,
   "id": "34895b47-8bc1-4de0-beb1-71166cbf2992",
   "metadata": {},
   "outputs": [
    {
     "data": {
      "text/plain": [
       "'Hello World'"
      ]
     },
     "execution_count": 8,
     "metadata": {},
     "output_type": "execute_result"
    }
   ],
   "source": [
    "st"
   ]
  },
  {
   "cell_type": "code",
   "execution_count": 9,
   "id": "408ad232-934f-4cdd-b60c-90e9ebc828f7",
   "metadata": {},
   "outputs": [],
   "source": [
    "st = 'Hello World'"
   ]
  },
  {
   "cell_type": "code",
   "execution_count": 10,
   "id": "4e9bc681-f886-4da5-8a48-733cb4e32bcb",
   "metadata": {},
   "outputs": [
    {
     "data": {
      "text/plain": [
       "'Hello World'"
      ]
     },
     "execution_count": 10,
     "metadata": {},
     "output_type": "execute_result"
    }
   ],
   "source": [
    "st"
   ]
  },
  {
   "cell_type": "code",
   "execution_count": 11,
   "id": "7cf839bc-4a35-4d98-863c-fa07664355bd",
   "metadata": {},
   "outputs": [],
   "source": [
    "st = \"\"\"this is a muli-line\n",
    "string that uses triple quotes.\"\"\""
   ]
  },
  {
   "cell_type": "code",
   "execution_count": 12,
   "id": "36c93f7d-f6ee-4eff-8b1f-386c593c0fff",
   "metadata": {},
   "outputs": [
    {
     "data": {
      "text/plain": [
       "'this is a muli-line\\nstring that uses triple quotes.'"
      ]
     },
     "execution_count": 12,
     "metadata": {},
     "output_type": "execute_result"
    }
   ],
   "source": [
    "st"
   ]
  },
  {
   "cell_type": "markdown",
   "id": "a13eba55-535a-46aa-b84f-16da7011cc9c",
   "metadata": {},
   "source": [
    "# Sequence Types3"
   ]
  },
  {
   "cell_type": "code",
   "execution_count": 13,
   "id": "755f094b-0213-4686-89b4-8ab44895564e",
   "metadata": {},
   "outputs": [
    {
     "data": {
      "text/plain": [
       "'abc'"
      ]
     },
     "execution_count": 13,
     "metadata": {},
     "output_type": "execute_result"
    }
   ],
   "source": [
    "tu[1]\n",
    "# 튜플의 두 번째 원소가 출력됨"
   ]
  },
  {
   "cell_type": "code",
   "execution_count": 14,
   "id": "7b4562c9-1a1b-45e4-a2f1-d2631c52f839",
   "metadata": {},
   "outputs": [
    {
     "data": {
      "text/plain": [
       "34"
      ]
     },
     "execution_count": 14,
     "metadata": {},
     "output_type": "execute_result"
    }
   ],
   "source": [
    "li[1]\n",
    "# 리스트의 두 번째 원소가 출력됨"
   ]
  },
  {
   "cell_type": "code",
   "execution_count": 15,
   "id": "64a78143-e4bc-4461-81f5-204fa1daa0ae",
   "metadata": {},
   "outputs": [],
   "source": [
    "st = \"Hello World\""
   ]
  },
  {
   "cell_type": "code",
   "execution_count": 16,
   "id": "6b15a6f0-29e5-468e-8065-a089927d4854",
   "metadata": {},
   "outputs": [
    {
     "data": {
      "text/plain": [
       "'e'"
      ]
     },
     "execution_count": 16,
     "metadata": {},
     "output_type": "execute_result"
    }
   ],
   "source": [
    "st[1]\n",
    "# 문자열의 두 번째 원소가 출력됨"
   ]
  },
  {
   "cell_type": "markdown",
   "id": "8a04333f-faa7-42d8-a0ab-7665982e83f7",
   "metadata": {
    "tags": []
   },
   "source": [
    "# Negative indices"
   ]
  },
  {
   "cell_type": "code",
   "execution_count": 17,
   "id": "e5a761f1-2712-4f93-9ebb-84e72558f147",
   "metadata": {},
   "outputs": [],
   "source": [
    "t = (23, 'abc', 4.56, (2, 3), 'def')"
   ]
  },
  {
   "cell_type": "code",
   "execution_count": 18,
   "id": "52276c23-b0e4-4f2e-b0d5-c6f48dbe5f90",
   "metadata": {},
   "outputs": [
    {
     "data": {
      "text/plain": [
       "'abc'"
      ]
     },
     "execution_count": 18,
     "metadata": {},
     "output_type": "execute_result"
    }
   ],
   "source": [
    "t[1]\n",
    "# 0번째부터 오른쪽으로 순서"
   ]
  },
  {
   "cell_type": "code",
   "execution_count": 19,
   "id": "87699ec0-865f-43a1-b865-0e51aaf129cc",
   "metadata": {},
   "outputs": [
    {
     "data": {
      "text/plain": [
       "4.56"
      ]
     },
     "execution_count": 19,
     "metadata": {},
     "output_type": "execute_result"
    }
   ],
   "source": [
    "t[-3]\n",
    "# -1(마지막)번째부터 왼쪽으로 순서"
   ]
  },
  {
   "cell_type": "markdown",
   "id": "52392a1a-657f-4355-9135-2b8dccea2fac",
   "metadata": {},
   "source": [
    "# Slicing: Return Copy of a Subset 1"
   ]
  },
  {
   "cell_type": "code",
   "execution_count": 20,
   "id": "18139db6-ca94-4ecf-a3f2-7ec4f7c4f627",
   "metadata": {},
   "outputs": [
    {
     "data": {
      "text/plain": [
       "(23, 'abc', 4.56, (2, 3), 'def')"
      ]
     },
     "execution_count": 20,
     "metadata": {},
     "output_type": "execute_result"
    }
   ],
   "source": [
    "t"
   ]
  },
  {
   "cell_type": "code",
   "execution_count": 21,
   "id": "fba7b2ec-9fc5-4c15-8e44-d310126384e0",
   "metadata": {},
   "outputs": [
    {
     "data": {
      "text/plain": [
       "('abc', 4.56, (2, 3))"
      ]
     },
     "execution_count": 21,
     "metadata": {},
     "output_type": "execute_result"
    }
   ],
   "source": [
    "t[1:4]\n",
    "# 튜플 t의 1번째부터 (4-1)번째까지 출력"
   ]
  },
  {
   "cell_type": "code",
   "execution_count": 22,
   "id": "f124ac2d-9c47-4130-83b2-7388530cbdc6",
   "metadata": {},
   "outputs": [
    {
     "data": {
      "text/plain": [
       "('abc', 4.56, (2, 3))"
      ]
     },
     "execution_count": 22,
     "metadata": {},
     "output_type": "execute_result"
    }
   ],
   "source": [
    "t[1:-1]\n",
    "# 튜플 t의 1번째부터 (-1-1)번째까지 출력"
   ]
  },
  {
   "cell_type": "code",
   "execution_count": 23,
   "id": "cf924bdb-a129-45c1-ac0b-8ff0c8d8b4ba",
   "metadata": {},
   "outputs": [
    {
     "data": {
      "text/plain": [
       "('abc', 4.56, (2, 3))"
      ]
     },
     "execution_count": 23,
     "metadata": {},
     "output_type": "execute_result"
    }
   ],
   "source": [
    "t[1:-1:1]\n",
    "# 튜플[시작인덱스:끝인덱스:인덱스증가폭]\n",
    "# 인덱스 증가폭은 말 그대로 인덱스 순서의 증가폭을 말한다."
   ]
  },
  {
   "cell_type": "code",
   "execution_count": 24,
   "id": "25764d51-78d2-4eff-96fb-2d5becc6401b",
   "metadata": {},
   "outputs": [
    {
     "data": {
      "text/plain": [
       "('abc', (2, 3))"
      ]
     },
     "execution_count": 24,
     "metadata": {},
     "output_type": "execute_result"
    }
   ],
   "source": [
    "t[1:-1:2]"
   ]
  },
  {
   "cell_type": "code",
   "execution_count": 25,
   "id": "19eb28f1-eab8-46e5-8173-d07de76b7350",
   "metadata": {},
   "outputs": [
    {
     "data": {
      "text/plain": [
       "(23, 4.56)"
      ]
     },
     "execution_count": 25,
     "metadata": {},
     "output_type": "execute_result"
    }
   ],
   "source": [
    "t[0:-1:2]"
   ]
  },
  {
   "cell_type": "code",
   "execution_count": 26,
   "id": "ebd3425d-4517-4d5f-8c17-2eeeaad3bdd3",
   "metadata": {},
   "outputs": [
    {
     "data": {
      "text/plain": [
       "(23, 'abc', 4.56, (2, 3))"
      ]
     },
     "execution_count": 26,
     "metadata": {},
     "output_type": "execute_result"
    }
   ],
   "source": [
    "t[0:-1]"
   ]
  },
  {
   "cell_type": "markdown",
   "id": "16ab1817",
   "metadata": {},
   "source": [
    "# Slicing: Return Copy of a Subset 2"
   ]
  },
  {
   "cell_type": "code",
   "execution_count": 27,
   "id": "ae48db2b",
   "metadata": {},
   "outputs": [
    {
     "data": {
      "text/plain": [
       "(23, 'abc', 4.56, (2, 3), 'def')"
      ]
     },
     "execution_count": 27,
     "metadata": {},
     "output_type": "execute_result"
    }
   ],
   "source": [
    "t"
   ]
  },
  {
   "cell_type": "code",
   "execution_count": 28,
   "id": "098bc958-df84-4bc3-afec-2b77f1df5734",
   "metadata": {},
   "outputs": [
    {
     "data": {
      "text/plain": [
       "(23, 'abc')"
      ]
     },
     "execution_count": 28,
     "metadata": {},
     "output_type": "execute_result"
    }
   ],
   "source": [
    "t[:2]\n",
    "# 튜플 0번째부터 지정한 (2-1)번째까지 출력"
   ]
  },
  {
   "cell_type": "code",
   "execution_count": 29,
   "id": "c15c6f2c-a064-4404-8f30-2b3a624336c7",
   "metadata": {},
   "outputs": [
    {
     "data": {
      "text/plain": [
       "(4.56, (2, 3), 'def')"
      ]
     },
     "execution_count": 29,
     "metadata": {},
     "output_type": "execute_result"
    }
   ],
   "source": [
    "t[2:]\n",
    "# 튜플 2번째부터 마지막까지 출력"
   ]
  },
  {
   "cell_type": "code",
   "execution_count": 30,
   "id": "47d8daa2-17dc-45f8-9f3c-08374b5cb5b8",
   "metadata": {},
   "outputs": [
    {
     "data": {
      "text/plain": [
       "(23, 'abc', 4.56, (2, 3), 'def')"
      ]
     },
     "execution_count": 30,
     "metadata": {},
     "output_type": "execute_result"
    }
   ],
   "source": [
    "t[:]\n",
    "# 튜플의 처음부터 끝까지 출력"
   ]
  },
  {
   "cell_type": "markdown",
   "id": "94fc585f",
   "metadata": {},
   "source": [
    "# The 'in' Operator"
   ]
  },
  {
   "cell_type": "code",
   "execution_count": 31,
   "id": "aa1d9ebf",
   "metadata": {},
   "outputs": [],
   "source": [
    "l = [1, 2, 4, 5]\n",
    "# 튜플의 경우"
   ]
  },
  {
   "cell_type": "code",
   "execution_count": 32,
   "id": "79c52240",
   "metadata": {},
   "outputs": [
    {
     "data": {
      "text/plain": [
       "False"
      ]
     },
     "execution_count": 32,
     "metadata": {},
     "output_type": "execute_result"
    }
   ],
   "source": [
    "3 in l\n",
    "# 앞쪽에 있는 원소인 3가 l 리스트에 존재한다면 True 존재하지 않는다면 False"
   ]
  },
  {
   "cell_type": "code",
   "execution_count": 33,
   "id": "95fae489",
   "metadata": {},
   "outputs": [
    {
     "data": {
      "text/plain": [
       "True"
      ]
     },
     "execution_count": 33,
     "metadata": {},
     "output_type": "execute_result"
    }
   ],
   "source": [
    "4 in l\n",
    "# 앞쪽에 있는 원소인 4가 l 리스트에 존재한다면 True 존재하지 않는다면 False"
   ]
  },
  {
   "cell_type": "code",
   "execution_count": 34,
   "id": "7e091500",
   "metadata": {},
   "outputs": [],
   "source": [
    "a = 'abcde'\n",
    "# 문자열의 경우"
   ]
  },
  {
   "cell_type": "code",
   "execution_count": 35,
   "id": "6fd834e3",
   "metadata": {},
   "outputs": [
    {
     "data": {
      "text/plain": [
       "True"
      ]
     },
     "execution_count": 35,
     "metadata": {},
     "output_type": "execute_result"
    }
   ],
   "source": [
    "'c' in a\n",
    "# 앞쪽에 있는 문자가 변수 a의 문자열에 존재하면 True 존재하지 않는다면 False"
   ]
  },
  {
   "cell_type": "code",
   "execution_count": 36,
   "id": "33e9d5e2",
   "metadata": {},
   "outputs": [
    {
     "data": {
      "text/plain": [
       "True"
      ]
     },
     "execution_count": 36,
     "metadata": {},
     "output_type": "execute_result"
    }
   ],
   "source": [
    "'cd' in a "
   ]
  },
  {
   "cell_type": "code",
   "execution_count": 37,
   "id": "fa68670e",
   "metadata": {},
   "outputs": [
    {
     "data": {
      "text/plain": [
       "False"
      ]
     },
     "execution_count": 37,
     "metadata": {},
     "output_type": "execute_result"
    }
   ],
   "source": [
    "'ac' in a"
   ]
  },
  {
   "cell_type": "markdown",
   "id": "2343a434",
   "metadata": {},
   "source": [
    "# The + Operator"
   ]
  },
  {
   "cell_type": "code",
   "execution_count": 38,
   "id": "c8a3b332",
   "metadata": {},
   "outputs": [
    {
     "data": {
      "text/plain": [
       "(1, 2, 3, 4, 5, 6)"
      ]
     },
     "execution_count": 38,
     "metadata": {},
     "output_type": "execute_result"
    }
   ],
   "source": [
    "(1, 2, 3) + (4, 5, 6)\n",
    "# 튜플과 튜플을 합치는 것"
   ]
  },
  {
   "cell_type": "code",
   "execution_count": 39,
   "id": "dbeb4417",
   "metadata": {},
   "outputs": [
    {
     "data": {
      "text/plain": [
       "[1, 2, 3, 4, 5, 6]"
      ]
     },
     "execution_count": 39,
     "metadata": {},
     "output_type": "execute_result"
    }
   ],
   "source": [
    "[1, 2, 3] + [4, 5, 6]\n",
    "# 리스트와 리스트를 합치는 것"
   ]
  },
  {
   "cell_type": "code",
   "execution_count": 40,
   "id": "1b424c5e",
   "metadata": {},
   "outputs": [
    {
     "data": {
      "text/plain": [
       "'Hello World'"
      ]
     },
     "execution_count": 40,
     "metadata": {},
     "output_type": "execute_result"
    }
   ],
   "source": [
    "\"Hello\" + \" \" + \"World\"\n",
    "# 문자열과 문자열을 합치는 것"
   ]
  },
  {
   "cell_type": "code",
   "execution_count": 41,
   "id": "cbe7db67",
   "metadata": {},
   "outputs": [
    {
     "ename": "TypeError",
     "evalue": "can only concatenate str (not \"int\") to str",
     "output_type": "error",
     "traceback": [
      "\u001b[0;31m---------------------------------------------------------------------------\u001b[0m",
      "\u001b[0;31mTypeError\u001b[0m                                 Traceback (most recent call last)",
      "\u001b[0;32m<ipython-input-41-22507ebf56cd>\u001b[0m in \u001b[0;36m<module>\u001b[0;34m\u001b[0m\n\u001b[0;32m----> 1\u001b[0;31m \u001b[0;34m\"Hello\"\u001b[0m \u001b[0;34m+\u001b[0m \u001b[0;36m3\u001b[0m \u001b[0;34m+\u001b[0m \u001b[0;34m\"World\"\u001b[0m\u001b[0;34m\u001b[0m\u001b[0;34m\u001b[0m\u001b[0m\n\u001b[0m\u001b[1;32m      2\u001b[0m \u001b[0;31m# 문자열과 정수값은 합칠 수 없음.\u001b[0m\u001b[0;34m\u001b[0m\u001b[0;34m\u001b[0m\u001b[0;34m\u001b[0m\u001b[0m\n",
      "\u001b[0;31mTypeError\u001b[0m: can only concatenate str (not \"int\") to str"
     ]
    }
   ],
   "source": [
    "\"Hello\" + 3 + \"World\"\n",
    "# 문자열과 정수값은 합칠 수 없음."
   ]
  },
  {
   "cell_type": "code",
   "execution_count": 42,
   "id": "44da7579",
   "metadata": {},
   "outputs": [
    {
     "data": {
      "text/plain": [
       "'Hello3World'"
      ]
     },
     "execution_count": 42,
     "metadata": {},
     "output_type": "execute_result"
    }
   ],
   "source": [
    "\"Hello\" + \"3\" + \"World\""
   ]
  },
  {
   "cell_type": "code",
   "execution_count": null,
   "id": "6eafc62e",
   "metadata": {},
   "outputs": [],
   "source": []
  }
 ],
 "metadata": {
  "kernelspec": {
   "display_name": "Python 3",
   "language": "python",
   "name": "python3"
  },
  "language_info": {
   "codemirror_mode": {
    "name": "ipython",
    "version": 3
   },
   "file_extension": ".py",
   "mimetype": "text/x-python",
   "name": "python",
   "nbconvert_exporter": "python",
   "pygments_lexer": "ipython3",
   "version": "3.9.4"
  }
 },
 "nbformat": 4,
 "nbformat_minor": 5
}
