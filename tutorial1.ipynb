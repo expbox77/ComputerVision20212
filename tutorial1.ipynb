{
 "cells": [
  {
   "cell_type": "markdown",
   "id": "92ddf4e4-d0a0-4f46-97e2-5506b39179c9",
   "metadata": {},
   "source": [
    "# Sequence types: Tuples, Lists, and Strings"
   ]
  },
  {
   "cell_type": "markdown",
   "id": "3da4d909-5f73-4c88-89e3-be5675c0adef",
   "metadata": {},
   "source": [
    "### Sequence Types2"
   ]
  },
  {
   "cell_type": "code",
   "execution_count": 1,
   "id": "e101438e-9b19-458e-bd65-a3c6752fe36b",
   "metadata": {},
   "outputs": [],
   "source": [
    "# Tuple\n",
    "# Immutable 하여 내부의 원소를 바꿀 수 없음\n",
    "# Tuple 생성\n",
    "tu = (23, 'abc', 4.56, (2, 3), 'def')"
   ]
  },
  {
   "cell_type": "code",
   "execution_count": 2,
   "id": "34fec8ad-3d2c-4c23-bee7-97245adfd752",
   "metadata": {},
   "outputs": [],
   "source": [
    "# List\n",
    "# Mutable 하여 내부의 원소를 바꿀 수 있음.\n",
    "# List 생성\n",
    "li = [\"abc\", 34, 4.34, 23]"
   ]
  },
  {
   "cell_type": "code",
   "execution_count": 3,
   "id": "5c9a04ac-6367-48ab-bab4-8f66d41ce2af",
   "metadata": {},
   "outputs": [
    {
     "name": "stdout",
     "output_type": "stream",
     "text": [
      "(23, 'abc', 4.56, (2, 3), 'def')\n"
     ]
    }
   ],
   "source": [
    "print(tu)"
   ]
  },
  {
   "cell_type": "code",
   "execution_count": 4,
   "id": "39960d6a",
   "metadata": {},
   "outputs": [
    {
     "name": "stdout",
     "output_type": "stream",
     "text": [
      "<class 'tuple'>\n"
     ]
    }
   ],
   "source": [
    "# type() 함수를 사용하여 변수의 type 확인 가능\n",
    "print(type(tu))"
   ]
  },
  {
   "cell_type": "code",
   "execution_count": 5,
   "id": "bc92352e-1fe0-4b84-88aa-620b8fd91db2",
   "metadata": {},
   "outputs": [
    {
     "name": "stdout",
     "output_type": "stream",
     "text": [
      "['abc', 34, 4.34, 23]\n"
     ]
    }
   ],
   "source": [
    "print(li)"
   ]
  },
  {
   "cell_type": "code",
   "execution_count": 6,
   "id": "522d056c",
   "metadata": {},
   "outputs": [
    {
     "name": "stdout",
     "output_type": "stream",
     "text": [
      "<class 'list'>\n"
     ]
    }
   ],
   "source": [
    "print(type(li))"
   ]
  },
  {
   "cell_type": "code",
   "execution_count": 7,
   "id": "d7cfcd8e-3a6d-4017-a5bb-74d28b24d980",
   "metadata": {},
   "outputs": [
    {
     "name": "stdout",
     "output_type": "stream",
     "text": [
      "Hello World\n"
     ]
    }
   ],
   "source": [
    "# String\n",
    "# Immutable 하여 내부의 원소를 바꿀 수 없음\n",
    "# String 선언 시 \"\" 를 사용할 수도 있고 ''를 사용할 수도 있다.\n",
    "st = \"Hello World\"\n",
    "\n",
    "print(st)"
   ]
  },
  {
   "cell_type": "code",
   "execution_count": 8,
   "id": "88b026f9-d709-49ae-9bb3-d8cfa7bcdc16",
   "metadata": {},
   "outputs": [
    {
     "name": "stdout",
     "output_type": "stream",
     "text": [
      "Hello World\n"
     ]
    }
   ],
   "source": [
    "st = 'Hello World'\n",
    "\n",
    "print(st)"
   ]
  },
  {
   "cell_type": "code",
   "execution_count": 9,
   "id": "35a40bca-d465-4455-8c56-4c70e73ce8f1",
   "metadata": {},
   "outputs": [
    {
     "name": "stdout",
     "output_type": "stream",
     "text": [
      "this is a muli-line\n",
      "string that uses triple quotes.\n"
     ]
    }
   ],
   "source": [
    "# String 선언 시 여러 줄을 사용하려면 \"\"\"\"\"\"으로 사용 가능하다.\n",
    "st = \"\"\"this is a muli-line\n",
    "string that uses triple quotes.\"\"\"\n",
    "\n",
    "print(st)"
   ]
  },
  {
   "cell_type": "markdown",
   "id": "a13eba55-535a-46aa-b84f-16da7011cc9c",
   "metadata": {},
   "source": [
    "### Sequence Types3"
   ]
  },
  {
   "cell_type": "code",
   "execution_count": 10,
   "id": "755f094b-0213-4686-89b4-8ab44895564e",
   "metadata": {},
   "outputs": [
    {
     "name": "stdout",
     "output_type": "stream",
     "text": [
      "abc\n"
     ]
    }
   ],
   "source": [
    "# 튜플의 두 번째 원소가 출력됨\n",
    "print(tu[1])"
   ]
  },
  {
   "cell_type": "code",
   "execution_count": 11,
   "id": "7b4562c9-1a1b-45e4-a2f1-d2631c52f839",
   "metadata": {},
   "outputs": [
    {
     "name": "stdout",
     "output_type": "stream",
     "text": [
      "34\n"
     ]
    }
   ],
   "source": [
    "# 리스트의 두 번째 원소가 출력됨\n",
    "print(li[1])"
   ]
  },
  {
   "cell_type": "code",
   "execution_count": 12,
   "id": "afc74130-6b70-4633-8a7e-f0b102e01d57",
   "metadata": {},
   "outputs": [
    {
     "data": {
      "text/plain": [
       "'e'"
      ]
     },
     "execution_count": 12,
     "metadata": {},
     "output_type": "execute_result"
    }
   ],
   "source": [
    "st = \"Hello World\"\n",
    "\n",
    "# 문자열의 두 번째 원소가 출력됨\n",
    "st[1]"
   ]
  },
  {
   "cell_type": "markdown",
   "id": "8a04333f-faa7-42d8-a0ab-7665982e83f7",
   "metadata": {
    "tags": []
   },
   "source": [
    "### Negative indices"
   ]
  },
  {
   "cell_type": "code",
   "execution_count": 13,
   "id": "e5a761f1-2712-4f93-9ebb-84e72558f147",
   "metadata": {},
   "outputs": [],
   "source": [
    "t = (23, 'abc', 4.56, (2, 3), 'def')"
   ]
  },
  {
   "cell_type": "code",
   "execution_count": 14,
   "id": "52276c23-b0e4-4f2e-b0d5-c6f48dbe5f90",
   "metadata": {},
   "outputs": [
    {
     "data": {
      "text/plain": [
       "'abc'"
      ]
     },
     "execution_count": 14,
     "metadata": {},
     "output_type": "execute_result"
    }
   ],
   "source": [
    "t[1]\n",
    "# 0번째부터 왼쪽에세 오른쪽의 순서로 1번째"
   ]
  },
  {
   "cell_type": "code",
   "execution_count": 15,
   "id": "87699ec0-865f-43a1-b865-0e51aaf129cc",
   "metadata": {},
   "outputs": [
    {
     "data": {
      "text/plain": [
       "4.56"
      ]
     },
     "execution_count": 15,
     "metadata": {},
     "output_type": "execute_result"
    }
   ],
   "source": [
    "t[-3]\n",
    "# -1(마지막)번째부터 오른쪽에서 왼쪽의 순서로 3번째"
   ]
  },
  {
   "cell_type": "markdown",
   "id": "52392a1a-657f-4355-9135-2b8dccea2fac",
   "metadata": {},
   "source": [
    "### Slicing: Return Copy of a Subset 1"
   ]
  },
  {
   "cell_type": "code",
   "execution_count": 16,
   "id": "18139db6-ca94-4ecf-a3f2-7ec4f7c4f627",
   "metadata": {},
   "outputs": [],
   "source": [
    "t = (23, 'abc', 4.56, (2, 3), 'def')"
   ]
  },
  {
   "cell_type": "code",
   "execution_count": 17,
   "id": "fba7b2ec-9fc5-4c15-8e44-d310126384e0",
   "metadata": {},
   "outputs": [
    {
     "name": "stdout",
     "output_type": "stream",
     "text": [
      "('abc', 4.56, (2, 3))\n"
     ]
    }
   ],
   "source": [
    "# 튜플 t의 1번째부터 (4 - 1)번째까지 출력\n",
    "print(t[1 : 4])"
   ]
  },
  {
   "cell_type": "code",
   "execution_count": 18,
   "id": "f124ac2d-9c47-4130-83b2-7388530cbdc6",
   "metadata": {},
   "outputs": [
    {
     "name": "stdout",
     "output_type": "stream",
     "text": [
      "('abc', 4.56, (2, 3))\n"
     ]
    }
   ],
   "source": [
    "# 튜플 t의 1번째부터 (-1(마지막) - 1)번째까지 출력\n",
    "print(t[1 : -1])"
   ]
  },
  {
   "cell_type": "code",
   "execution_count": 19,
   "id": "cf924bdb-a129-45c1-ac0b-8ff0c8d8b4ba",
   "metadata": {},
   "outputs": [
    {
     "name": "stdout",
     "output_type": "stream",
     "text": [
      "('abc', 4.56, (2, 3))\n"
     ]
    }
   ],
   "source": [
    "# 튜플[시작인덱스 : 끝인덱스 : 인덱스증가폭]\n",
    "# 인덱스 증가폭은 말 그대로 인덱스 순서의 증가폭을 말한다.\n",
    "print(t[1 : -1 : 1])"
   ]
  },
  {
   "cell_type": "code",
   "execution_count": 20,
   "id": "25764d51-78d2-4eff-96fb-2d5becc6401b",
   "metadata": {},
   "outputs": [
    {
     "name": "stdout",
     "output_type": "stream",
     "text": [
      "('abc', (2, 3))\n"
     ]
    }
   ],
   "source": [
    "# ex1\n",
    "print(t[1 : -1 : 2])"
   ]
  },
  {
   "cell_type": "code",
   "execution_count": 21,
   "id": "19eb28f1-eab8-46e5-8173-d07de76b7350",
   "metadata": {},
   "outputs": [
    {
     "name": "stdout",
     "output_type": "stream",
     "text": [
      "(23, 4.56)\n"
     ]
    }
   ],
   "source": [
    "# ex2\n",
    "print(t[0 : -1 : 2])"
   ]
  },
  {
   "cell_type": "markdown",
   "id": "16ab1817",
   "metadata": {},
   "source": [
    "### Slicing: Return Copy of a Subset 2"
   ]
  },
  {
   "cell_type": "code",
   "execution_count": 22,
   "id": "ae48db2b",
   "metadata": {},
   "outputs": [],
   "source": [
    "t = (23, 'abc', 4.56, (2, 3), 'def')"
   ]
  },
  {
   "cell_type": "code",
   "execution_count": 23,
   "id": "098bc958-df84-4bc3-afec-2b77f1df5734",
   "metadata": {},
   "outputs": [
    {
     "name": "stdout",
     "output_type": "stream",
     "text": [
      "(23, 'abc')\n"
     ]
    }
   ],
   "source": [
    "# 튜플 t의 0번째부터 지정한 (2 - 1)번째까지 출력\n",
    "print(t[ : 2])"
   ]
  },
  {
   "cell_type": "code",
   "execution_count": 24,
   "id": "c15c6f2c-a064-4404-8f30-2b3a624336c7",
   "metadata": {},
   "outputs": [
    {
     "name": "stdout",
     "output_type": "stream",
     "text": [
      "(4.56, (2, 3), 'def')\n"
     ]
    }
   ],
   "source": [
    "# 튜플 t의 2번째부터 마지막까지 출력\n",
    "print(t[2 : ])"
   ]
  },
  {
   "cell_type": "code",
   "execution_count": 25,
   "id": "47d8daa2-17dc-45f8-9f3c-08374b5cb5b8",
   "metadata": {},
   "outputs": [
    {
     "name": "stdout",
     "output_type": "stream",
     "text": [
      "(23, 'abc', 4.56, (2, 3), 'def')\n"
     ]
    }
   ],
   "source": [
    "# 튜플의 처음부터 끝까지 출력\n",
    "print(t[ : ])"
   ]
  },
  {
   "cell_type": "markdown",
   "id": "0e1d86d0-e739-482e-b449-8c6520f4d0fc",
   "metadata": {},
   "source": [
    "### Copying the Whole Sequence"
   ]
  },
  {
   "cell_type": "code",
   "execution_count": 26,
   "id": "c0c2648b-6864-4946-9189-a446f9d12e88",
   "metadata": {},
   "outputs": [],
   "source": [
    "# List 생성\n",
    "list1 = [1, 2, 3, 4, 5]"
   ]
  },
  {
   "cell_type": "code",
   "execution_count": 27,
   "id": "2d2e8d8d-c05d-4ae6-8c97-11deceb4b8b1",
   "metadata": {},
   "outputs": [
    {
     "name": "stdout",
     "output_type": "stream",
     "text": [
      "[1, 2, 3, 4, 5]\n"
     ]
    }
   ],
   "source": [
    "# list2에 list1가 가리키는 메모리의 주소를 복사하는 형태가 됨\n",
    "list2 = list1\n",
    "print(list2)"
   ]
  },
  {
   "cell_type": "code",
   "execution_count": 28,
   "id": "b95927cd-3663-4ac5-af84-f4a1bc0f6083",
   "metadata": {},
   "outputs": [
    {
     "name": "stdout",
     "output_type": "stream",
     "text": [
      "[1, 22, 3, 4, 5]\n"
     ]
    }
   ],
   "source": [
    "# 그래서 list1을 변경하면 list2 또한 변경되는 것을 확인할 수 있음.\n",
    "list1[1] = 22\n",
    "print(list2)"
   ]
  },
  {
   "cell_type": "code",
   "execution_count": 29,
   "id": "1bbca00e-2356-4b51-aea8-ad38538c2aa1",
   "metadata": {},
   "outputs": [
    {
     "name": "stdout",
     "output_type": "stream",
     "text": [
      "[1, 2, 3, 4, 5]\n"
     ]
    }
   ],
   "source": [
    "list1 = [1, 2, 3, 4, 5]\n",
    "\n",
    "# list1의 값을 list2에 복사하는 형태가 됨.\n",
    "list2 = list1[ : ]\n",
    "print(list2)"
   ]
  },
  {
   "cell_type": "code",
   "execution_count": 30,
   "id": "074b0e32-90af-4243-b522-05c083c1ea43",
   "metadata": {},
   "outputs": [
    {
     "name": "stdout",
     "output_type": "stream",
     "text": [
      "[1, 2, 3, 4, 5]\n"
     ]
    }
   ],
   "source": [
    "# 그래서 list1을 변경해도 list2가 변경되지 않는 것을 확인할 수 있음.\n",
    "list1[1] = 22\n",
    "print(list2)"
   ]
  },
  {
   "cell_type": "code",
   "execution_count": 31,
   "id": "ac33525f-4084-4861-b410-501f9ffae8a3",
   "metadata": {},
   "outputs": [
    {
     "name": "stdout",
     "output_type": "stream",
     "text": [
      "[1, 22, 3, 4, 5]\n"
     ]
    }
   ],
   "source": [
    "# list1은 정상적으로 원소의 값이 변경됨.\n",
    "print(list1)"
   ]
  },
  {
   "cell_type": "markdown",
   "id": "94fc585f",
   "metadata": {},
   "source": [
    "### The 'in' Operator"
   ]
  },
  {
   "cell_type": "code",
   "execution_count": 32,
   "id": "aa1d9ebf",
   "metadata": {},
   "outputs": [],
   "source": [
    "# 리스트의 경우\n",
    "# 'in'의 경우에는 리스트에 원하는 값이 없다면 Boolin값으로 반환됨\n",
    "l = [1, 2, 4, 5]"
   ]
  },
  {
   "cell_type": "code",
   "execution_count": 33,
   "id": "79c52240",
   "metadata": {},
   "outputs": [
    {
     "name": "stdout",
     "output_type": "stream",
     "text": [
      "False\n"
     ]
    }
   ],
   "source": [
    "# 원소인 3이 리스트 l에 존재한다면 True 존재하지 않는다면 False\n",
    "# 리스트 l에는 존재하지 않기 때문에 False\n",
    "print(3 in l)"
   ]
  },
  {
   "cell_type": "code",
   "execution_count": 34,
   "id": "95fae489",
   "metadata": {},
   "outputs": [
    {
     "name": "stdout",
     "output_type": "stream",
     "text": [
      "True\n"
     ]
    }
   ],
   "source": [
    "# 원소인 4가 리스트 l에 존재한다면 True 존재하지 않는다면 False\n",
    "# 리스트 l에는 존재하기 때문에 True\n",
    "print(4 in l)"
   ]
  },
  {
   "cell_type": "code",
   "execution_count": 35,
   "id": "7e091500",
   "metadata": {},
   "outputs": [],
   "source": [
    "# 문자열의 경우\n",
    "a = 'abcde'"
   ]
  },
  {
   "cell_type": "code",
   "execution_count": 36,
   "id": "6fd834e3",
   "metadata": {},
   "outputs": [
    {
     "name": "stdout",
     "output_type": "stream",
     "text": [
      "True\n"
     ]
    }
   ],
   "source": [
    "# 문자 c가 문자열 변수 a에 존재하면 True 존재하지 않는다면 False\n",
    "# 문자열 a에는 존재하기 때문에 True\n",
    "print('c' in a)"
   ]
  },
  {
   "cell_type": "code",
   "execution_count": 37,
   "id": "33e9d5e2",
   "metadata": {},
   "outputs": [
    {
     "data": {
      "text/plain": [
       "True"
      ]
     },
     "execution_count": 37,
     "metadata": {},
     "output_type": "execute_result"
    }
   ],
   "source": [
    "# 문자열 cd가 문자열 변수 a에 존재하면 True 존재하지 않는다면 False\n",
    "# 문자열 a에는 존재하기 때문에 True\n",
    "'cd' in a "
   ]
  },
  {
   "cell_type": "code",
   "execution_count": 38,
   "id": "fa68670e",
   "metadata": {},
   "outputs": [
    {
     "data": {
      "text/plain": [
       "False"
      ]
     },
     "execution_count": 38,
     "metadata": {},
     "output_type": "execute_result"
    }
   ],
   "source": [
    "# 문자열 ac가 문자열 변수 a에 존재하면 True 존재하지 않는다면 False\n",
    "# 문자열 a에는 존재하지 않기 때문에 False\n",
    "'ac' in a"
   ]
  },
  {
   "cell_type": "markdown",
   "id": "2343a434",
   "metadata": {},
   "source": [
    "### The + Operator"
   ]
  },
  {
   "cell_type": "code",
   "execution_count": 39,
   "id": "c8a3b332",
   "metadata": {},
   "outputs": [
    {
     "name": "stdout",
     "output_type": "stream",
     "text": [
      "(1, 2, 3, 4, 5, 6)\n"
     ]
    }
   ],
   "source": [
    "# 튜플과 튜플을 합치는 것\n",
    "print((1, 2, 3) + (4, 5, 6))"
   ]
  },
  {
   "cell_type": "code",
   "execution_count": 40,
   "id": "dbeb4417",
   "metadata": {},
   "outputs": [
    {
     "name": "stdout",
     "output_type": "stream",
     "text": [
      "[1, 2, 3, 4, 5, 6]\n"
     ]
    }
   ],
   "source": [
    "# 리스트와 리스트를 합치는 것\n",
    "print([1, 2, 3] + [4, 5, 6])"
   ]
  },
  {
   "cell_type": "code",
   "execution_count": 41,
   "id": "1b424c5e",
   "metadata": {},
   "outputs": [
    {
     "name": "stdout",
     "output_type": "stream",
     "text": [
      "Hello World\n"
     ]
    }
   ],
   "source": [
    "# 문자열과 문자열을 합치는 것\n",
    "print(\"Hello\" + \" \" + \"World\")"
   ]
  },
  {
   "cell_type": "code",
   "execution_count": 42,
   "id": "cbe7db67",
   "metadata": {},
   "outputs": [
    {
     "ename": "TypeError",
     "evalue": "can only concatenate str (not \"int\") to str",
     "output_type": "error",
     "traceback": [
      "\u001b[0;31m---------------------------------------------------------------------------\u001b[0m",
      "\u001b[0;31mTypeError\u001b[0m                                 Traceback (most recent call last)",
      "\u001b[0;32m<ipython-input-42-50cdb709088c>\u001b[0m in \u001b[0;36m<module>\u001b[0;34m\u001b[0m\n\u001b[1;32m      1\u001b[0m \u001b[0;31m# 문자열과 정수값은 합칠 수 없음.\u001b[0m\u001b[0;34m\u001b[0m\u001b[0;34m\u001b[0m\u001b[0;34m\u001b[0m\u001b[0m\n\u001b[0;32m----> 2\u001b[0;31m \u001b[0mprint\u001b[0m\u001b[0;34m(\u001b[0m\u001b[0;34m\"Hello\"\u001b[0m \u001b[0;34m+\u001b[0m \u001b[0;36m3\u001b[0m \u001b[0;34m+\u001b[0m \u001b[0;34m\"World\"\u001b[0m\u001b[0;34m)\u001b[0m\u001b[0;34m\u001b[0m\u001b[0;34m\u001b[0m\u001b[0m\n\u001b[0m",
      "\u001b[0;31mTypeError\u001b[0m: can only concatenate str (not \"int\") to str"
     ]
    }
   ],
   "source": [
    "# 문자열과 정수값은 합칠 수 없음.\n",
    "print(\"Hello\" + 3 + \"World\")"
   ]
  },
  {
   "cell_type": "code",
   "execution_count": 43,
   "id": "44da7579",
   "metadata": {},
   "outputs": [
    {
     "name": "stdout",
     "output_type": "stream",
     "text": [
      "Hello3World\n"
     ]
    }
   ],
   "source": [
    "print(\"Hello\" + \"3\" + \"World\")"
   ]
  },
  {
   "cell_type": "code",
   "execution_count": null,
   "id": "6eafc62e",
   "metadata": {},
   "outputs": [],
   "source": []
  }
 ],
 "metadata": {
  "kernelspec": {
   "display_name": "Python 3",
   "language": "python",
   "name": "python3"
  },
  "language_info": {
   "codemirror_mode": {
    "name": "ipython",
    "version": 3
   },
   "file_extension": ".py",
   "mimetype": "text/x-python",
   "name": "python",
   "nbconvert_exporter": "python",
   "pygments_lexer": "ipython3",
   "version": "3.9.4"
  }
 },
 "nbformat": 4,
 "nbformat_minor": 5
}
