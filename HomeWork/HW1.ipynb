{
 "cells": [
  {
   "cell_type": "markdown",
   "id": "e1c85b64-c0cc-42df-9512-a1a42b680c93",
   "metadata": {},
   "source": [
    "# HomeWork 1 due to 9.23\n",
    "### -trackbar, text, box selection"
   ]
  },
  {
   "cell_type": "code",
   "execution_count": 1,
   "id": "6e330cae-90f4-49df-a633-74eeed4eaec0",
   "metadata": {},
   "outputs": [],
   "source": [
    "import cv2\n",
    "import numpy as np"
   ]
  },
  {
   "cell_type": "code",
   "execution_count": 2,
   "id": "a1565d72-a6db-420b-b376-4354a92a69b7",
   "metadata": {},
   "outputs": [],
   "source": [
    "def nothing(x):\n",
    "    pass"
   ]
  },
  {
   "cell_type": "code",
   "execution_count": 3,
   "id": "218dba46-9267-4e70-a2ad-d58f7c805f4d",
   "metadata": {},
   "outputs": [],
   "source": [
    "# mouse callback function\n",
    "def draw_circle(event,x,y,flags,param):\n",
    "    global ix,iy,drawing,mode,img,alpha\n",
    "    alpha = 0.4\n",
    "    \n",
    "    if event == cv2.EVENT_LBUTTONDOWN:\n",
    "        drawing = True\n",
    "        ix,iy = x,y\n",
    "        \n",
    "    elif event == cv2.EVENT_MOUSEMOVE:\n",
    "        if drawing == True:\n",
    "            if mode == True:\n",
    "                cv2.rectangle(img,(ix,iy),(x,y),(0,255,0),-10)\n",
    "#                 cv2.addWeighted(overlay, alpha, image, 1 - alpha, 0)\n",
    "            else:\n",
    "                cv2.circle(img,(x,y),5,(0,0,255),-1)\n",
    "        \n",
    "    elif event == cv2.EVENT_LBUTTONUP:\n",
    "        drawing = False\n",
    "        if mode == True:\n",
    "            cv2.rectangle(img,(ix,iy),(x,y),(0,255,0),10)\n",
    "        else:\n",
    "            cv2.circle(img,(x,y),5,(0,0,255),-1)"
   ]
  },
  {
   "cell_type": "code",
   "execution_count": 4,
   "id": "d99fb240-a4dd-44d6-9b97-9831cb9afcb3",
   "metadata": {},
   "outputs": [],
   "source": [
    "events = [i for i in dir(cv2) if 'EVENT' in i]"
   ]
  },
  {
   "cell_type": "code",
   "execution_count": 5,
   "id": "33f59039-1e8c-492f-a6d4-0efb3966d3d5",
   "metadata": {},
   "outputs": [],
   "source": [
    "drawing = False # true if mouse is pressed\n",
    "mode = True # if True, draw rectangle. Press 'm' to toggle to curve ix,iy = -1,-1"
   ]
  },
  {
   "cell_type": "code",
   "execution_count": 6,
   "id": "d1af8579-51a2-40e3-8d7e-5703e9d91820",
   "metadata": {},
   "outputs": [],
   "source": [
    "img = cv2.imread('pika.png', 1)\n",
    "cv2.namedWindow('image')\n",
    "\n",
    "cv2.setMouseCallback('image',draw_circle)\n",
    "\n",
    "# create trackbars for color change\n",
    "cv2.createTrackbar('Value','image',0,255,nothing)"
   ]
  },
  {
   "cell_type": "code",
   "execution_count": null,
   "id": "b09c339f-2065-4b21-b322-e0e32bc5bf0e",
   "metadata": {},
   "outputs": [],
   "source": [
    "while(True):\n",
    "    cv2.imshow('image',img)\n",
    "    k = cv2.waitKey(1) & 0xFF\n",
    "    if k == ord('m'):\n",
    "        mode = not mode\n",
    "    elif k == 27:\n",
    "        break\n",
    "        \n",
    "    # get current positions of four trackbars\n",
    "    r = cv2.getTrackbarPos('R','image')\n",
    "        \n",
    "cv2.destroyAllWindows()\n",
    "cv2.waitKey(1)"
   ]
  },
  {
   "cell_type": "code",
   "execution_count": null,
   "id": "ce021ee3-ef88-4cd2-a195-61f0fdf7a13a",
   "metadata": {},
   "outputs": [],
   "source": []
  }
 ],
 "metadata": {
  "kernelspec": {
   "display_name": "Python 3",
   "language": "python",
   "name": "python3"
  },
  "language_info": {
   "codemirror_mode": {
    "name": "ipython",
    "version": 3
   },
   "file_extension": ".py",
   "mimetype": "text/x-python",
   "name": "python",
   "nbconvert_exporter": "python",
   "pygments_lexer": "ipython3",
   "version": "3.9.4"
  }
 },
 "nbformat": 4,
 "nbformat_minor": 5
}
