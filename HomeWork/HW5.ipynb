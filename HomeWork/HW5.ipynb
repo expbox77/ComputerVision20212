{
 "cells": [
  {
   "cell_type": "markdown",
   "id": "78ed2236-8cf0-4109-935f-9bde9a16dd12",
   "metadata": {},
   "source": [
    "# Homework 5 due to 11.11 \n",
    "### Count Coin"
   ]
  },
  {
   "cell_type": "code",
   "execution_count": 1,
   "id": "f5a9fefe-9a30-4e0a-bcdc-a124c2d4612b",
   "metadata": {},
   "outputs": [],
   "source": [
    "# import modules\n",
    "import numpy as np\n",
    "import cv2\n",
    "\n",
    "# 실행 함수\n",
    "def run_main():\n",
    "    \n",
    "    # Read Image\n",
    "    cap = cv2.VideoCapture(0)\n",
    "    \n",
    "    while(True):\n",
    "        \n",
    "        ret, frame = cap.read()\n",
    "        roi = frame[0:500, 0:500]\n",
    "        \n",
    "        gray = cv2.cvtColor(roi, cv2.COLOR_BGR2GRAY)\n",
    "        \n",
    "        # GaussianBlur함수로 smoothing 처리\n",
    "        gray_blur = cv2.GaussianBlur(gray, (15, 15), 0)\n",
    "        \n",
    "        # adaptiveThreshold()로 이미지 임계처리\n",
    "        thresh = cv2.adaptiveThreshold(gray_blur, 255, cv2.ADAPTIVE_THRESH_GAUSSIAN_C,cv2.THRESH_BINARY_INV, 11, 1)\n",
    "        \n",
    "        # 2x2(unit8 = 8비트)로 커널 생성\n",
    "        kernel = np.ones((2, 2), np.uint8)\n",
    "        \n",
    "        # 모폴로지 연산 --> Closing 노이즈 제거\n",
    "        # cv2.morphologyEx(이미지, 모폴로지 연산 종류, 커널, 반복횟수)\n",
    "        # Opening --> cv2.MORPH_CLOSE\n",
    "        closing = cv2.morphologyEx(thresh, cv2.MORPH_CLOSE, kernel, iterations = 4)\n",
    "        \n",
    "        # 모폴로지 연산된 이미지를 cont_img에 copy\n",
    "        cont_img = closing.copy()\n",
    "        \n",
    "        # 윤곽선 검출 --> 하얀색의 객체를 검출\n",
    "        # 배경은 검은색 / 검출하려는 물체는 하얀색 --> 이진화 처리된 이미지를 사용해야함.\n",
    "        # cv2.findContours(이진화 이미지, 검색방법, 근사화방법)\n",
    "        contours, hierarchy = cv2.findContours(cont_img, cv2.RETR_EXTERNAL,cv2.CHAIN_APPROX_SIMPLE)\n",
    "        \n",
    "        for cnt in contours:\n",
    "            area = cv2.contourArea(cnt)\n",
    "            # coin1.jpg --> area < 1000 or area > 7000\n",
    "            # 면적이 1000 미만 혹은 7000 초과한다면 아래의 코드를 건너뜀\n",
    "            if area < 1000 or area > 7000:\n",
    "                # continue --> 아래의 코드를 건너뜀\n",
    "                continue\n",
    "                \n",
    "            if len(cnt) < 5:\n",
    "                continue\n",
    "            \n",
    "            # \n",
    "            ellipse = cv2.fitEllipse(cnt)\n",
    "            cv2.ellipse(roi, ellipse, (0,255,0), 2)\n",
    "            \n",
    "        cv2.imshow(\"Morphological Closing\", closing)\n",
    "        cv2.imshow(\"Adaptive Thresholding\", thresh)\n",
    "        cv2.imshow('Contours', roi)\n",
    "        \n",
    "        if cv2.waitKey(1) & 0xFF == ord('q'):\n",
    "            break\n",
    "    \n",
    "    cv2.waitKey(0)\n",
    "    cv2.destroyAllWindows()\n",
    "    cv2.waitKey(1)"
   ]
  },
  {
   "cell_type": "code",
   "execution_count": 2,
   "id": "196564df-2f34-4660-bc6e-c513261b5249",
   "metadata": {},
   "outputs": [],
   "source": [
    "# 실행\n",
    "if __name__ == \"__main__\":\n",
    "    run_main()"
   ]
  },
  {
   "cell_type": "code",
   "execution_count": null,
   "id": "d621af8f-66da-4e7a-8fa2-2e3e765a150e",
   "metadata": {},
   "outputs": [],
   "source": []
  }
 ],
 "metadata": {
  "kernelspec": {
   "display_name": "Python 3 (ipykernel)",
   "language": "python",
   "name": "python3"
  },
  "language_info": {
   "codemirror_mode": {
    "name": "ipython",
    "version": 3
   },
   "file_extension": ".py",
   "mimetype": "text/x-python",
   "name": "python",
   "nbconvert_exporter": "python",
   "pygments_lexer": "ipython3",
   "version": "3.9.7"
  }
 },
 "nbformat": 4,
 "nbformat_minor": 5
}
