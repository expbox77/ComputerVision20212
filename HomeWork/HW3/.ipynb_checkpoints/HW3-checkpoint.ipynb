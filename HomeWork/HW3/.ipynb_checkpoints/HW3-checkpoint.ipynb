{
 "cells": [
  {
   "cell_type": "markdown",
   "id": "7892005d-44f1-4fe5-8a78-5db937cdf1af",
   "metadata": {},
   "source": [
    "# Homework 3 due to 10.7 \n",
    "### CountCoin"
   ]
  },
  {
   "cell_type": "code",
   "execution_count": 6,
   "id": "b2e7154c-d4c9-496b-ae25-5c26865ed7c3",
   "metadata": {},
   "outputs": [],
   "source": [
    "# import modules\n",
    "import numpy as np\n",
    "import cv2"
   ]
  },
  {
   "cell_type": "code",
   "execution_count": 7,
   "id": "71bce913-4528-4dcd-ad29-205bb2859db6",
   "metadata": {},
   "outputs": [],
   "source": [
    "# 실행 함수\n",
    "def run_main():\n",
    "    \n",
    "    # Read Image\n",
    "    img = cv2.imread('coin3.jpg', 1)\n",
    "    \n",
    "    while(True):\n",
    "        \n",
    "        # 동전을 인식할 ROI 지정\n",
    "        roi = img[120 : 650, 250 : 800]\n",
    "        gray = cv2.cvtColor(roi, cv2.COLOR_BGR2GRAY)\n",
    "        \n",
    "        # GaussianBlur함수로 smoothing 처리\n",
    "        gray_blur = cv2.GaussianBlur(gray, (15, 15), 0)\n",
    "        \n",
    "        # adaptiveThreshold()로 이미지 임계처리\n",
    "        thresh = cv2.adaptiveThreshold(gray_blur, 255, cv2.ADAPTIVE_THRESH_GAUSSIAN_C,cv2.THRESH_BINARY_INV, 11, 1)\n",
    "        \n",
    "        # 2x2로 커널 생성(unit8)\n",
    "        kernel = np.ones((2, 2), np.uint8)\n",
    "        closing = cv2.morphologyEx(thresh, cv2.MORPH_CLOSE, kernel, iterations=5)\n",
    "        cont_img = closing.copy()\n",
    "        contours, hierarchy = cv2.findContours(cont_img, cv2.RETR_EXTERNAL,cv2.CHAIN_APPROX_SIMPLE)\n",
    "        \n",
    "        for cnt in contours:\n",
    "            area = cv2.contourArea(cnt)\n",
    "            if area < 2400 or area > 5000:\n",
    "                continue\n",
    "            if len(cnt) < 5:\n",
    "                continue\n",
    "            ellipse = cv2.fitEllipse(cnt)\n",
    "            cv2.ellipse(roi, ellipse, (0,255,0), 2)\n",
    "            \n",
    "        cv2.imshow(\"Morphological Closing\", closing)\n",
    "        cv2.imshow(\"Adaptive Thresholding\", thresh)\n",
    "        cv2.imshow('Contours', roi)\n",
    "        \n",
    "        if cv2.waitKey(1) & 0xFF == ord('q'):\n",
    "            break\n",
    "    \n",
    "    cv2.waitKey(0)\n",
    "    cv2.destroyAllWindows()\n",
    "    cv2.waitKey(1)"
   ]
  },
  {
   "cell_type": "code",
   "execution_count": 8,
   "id": "cc0077f0-ca41-449c-afd1-416a7497cda5",
   "metadata": {},
   "outputs": [],
   "source": [
    "# 실행\n",
    "if __name__ == \"__main__\":\n",
    "    run_main()"
   ]
  },
  {
   "cell_type": "code",
   "execution_count": null,
   "id": "6f92198b-d2c4-4677-8716-8e686b25473a",
   "metadata": {},
   "outputs": [],
   "source": []
  }
 ],
 "metadata": {
  "kernelspec": {
   "display_name": "Python 3",
   "language": "python",
   "name": "python3"
  },
  "language_info": {
   "codemirror_mode": {
    "name": "ipython",
    "version": 3
   },
   "file_extension": ".py",
   "mimetype": "text/x-python",
   "name": "python",
   "nbconvert_exporter": "python",
   "pygments_lexer": "ipython3",
   "version": "3.9.4"
  }
 },
 "nbformat": 4,
 "nbformat_minor": 5
}
