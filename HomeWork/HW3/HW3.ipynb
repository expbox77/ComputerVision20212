{
 "cells": [
  {
   "cell_type": "markdown",
   "id": "7892005d-44f1-4fe5-8a78-5db937cdf1af",
   "metadata": {},
   "source": [
    "# Homework 3 due to 10.7 \n",
    "### CountCoin"
   ]
  },
  {
   "cell_type": "code",
   "execution_count": 34,
   "id": "33c8771c-878a-42cd-a946-e5a21c637a40",
   "metadata": {},
   "outputs": [
    {
     "data": {
      "text/plain": [
       "-1"
      ]
     },
     "execution_count": 34,
     "metadata": {},
     "output_type": "execute_result"
    }
   ],
   "source": [
    "import cv2\n",
    "import numpy as np\n",
    "from matplotlib import pyplot as plt\n",
    "\n",
    "# Otsu의 이진화(Otsu’s Binarization)란 bimodal image에서 임계값을 자동으로 계산해주는 것을 말한다.\n",
    "\n",
    "img = cv2.imread('coin1.jpg', cv2.IMREAD_GRAYSCALE)\n",
    "\n",
    "rows,cols = img.shape\n",
    "roi = img[0 : rows, 0 : cols]\n",
    "\n",
    "gray_blur = cv2.GaussianBlur(img, (15, 15), 0)\n",
    "thresh = cv2.adaptiveThreshold(gray_blur, 255, cv2.ADAPTIVE_THRESH_GAUSSIAN_C, cv2.THRESH_BINARY_INV, 11, 1)\n",
    "\n",
    "kernel = np.ones((3, 3), np.uint8)\n",
    "closing = cv2.morphologyEx(thresh, cv2.MORPH_CLOSE, kernel, iterations=4)\n",
    "\n",
    "cont_img = closing.copy()\n",
    "contours, hierarchy = cv2.findContours(cont_img, cv2.RETR_EXTERNAL,cv2.CHAIN_APPROX_SIMPLE)\n",
    "\n",
    "for cnt in contours:\n",
    "    area = cv2.contourArea(cnt)\n",
    "    if area < 20 or area > 760540:\n",
    "        continue\n",
    "    if len(cnt) < 5:\n",
    "        continue\n",
    "    ellipse = cv2.fitEllipse(cnt)\n",
    "    cv2.ellipse(roi, ellipse, (0,255,0), 2)\n",
    "\n",
    "cv2.imshow('img1', thresh)\n",
    "cv2.imshow('img2', closing)\n",
    "cv2.imshow('final result', roi)\n",
    "\n",
    "cv2.waitKey(0)\n",
    "cv2.destroyAllWindows()\n",
    "cv2.waitKey(1)\n",
    "\n",
    "# plt.imshow(th)\n",
    "# plt.xticks([]), plt.yticks([]) # to hide tick values on X and Y axis\n",
    "# plt.show()"
   ]
  },
  {
   "cell_type": "code",
   "execution_count": 15,
   "id": "ed60498e-1db8-45a2-8723-440ef40092fa",
   "metadata": {},
   "outputs": [
    {
     "ename": "AttributeError",
     "evalue": "'numpy.ndarray' object has no attribute 'get'",
     "output_type": "error",
     "traceback": [
      "\u001b[1;31m---------------------------------------------------------------------------\u001b[0m",
      "\u001b[1;31mAttributeError\u001b[0m                            Traceback (most recent call last)",
      "\u001b[1;32m<ipython-input-15-19c56cb3ff8e>\u001b[0m in \u001b[0;36m<module>\u001b[1;34m\u001b[0m\n\u001b[0;32m     38\u001b[0m     \u001b[0mcv2\u001b[0m\u001b[1;33m.\u001b[0m\u001b[0mwaitKey\u001b[0m\u001b[1;33m(\u001b[0m\u001b[1;36m1\u001b[0m\u001b[1;33m)\u001b[0m\u001b[1;33m\u001b[0m\u001b[1;33m\u001b[0m\u001b[0m\n\u001b[0;32m     39\u001b[0m \u001b[1;32mif\u001b[0m \u001b[0m__name__\u001b[0m \u001b[1;33m==\u001b[0m \u001b[1;34m\"__main__\"\u001b[0m\u001b[1;33m:\u001b[0m\u001b[1;33m\u001b[0m\u001b[1;33m\u001b[0m\u001b[0m\n\u001b[1;32m---> 40\u001b[1;33m     \u001b[0mrun_main\u001b[0m\u001b[1;33m(\u001b[0m\u001b[1;33m)\u001b[0m\u001b[1;33m\u001b[0m\u001b[1;33m\u001b[0m\u001b[0m\n\u001b[0m",
      "\u001b[1;32m<ipython-input-15-19c56cb3ff8e>\u001b[0m in \u001b[0;36mrun_main\u001b[1;34m()\u001b[0m\n\u001b[0;32m      4\u001b[0m \u001b[1;31m#     cap = cv2.VideoCapture(0)\u001b[0m\u001b[1;33m\u001b[0m\u001b[1;33m\u001b[0m\u001b[1;33m\u001b[0m\u001b[0m\n\u001b[0;32m      5\u001b[0m     \u001b[0mcap\u001b[0m \u001b[1;33m=\u001b[0m \u001b[0mcv2\u001b[0m\u001b[1;33m.\u001b[0m\u001b[0mimread\u001b[0m\u001b[1;33m(\u001b[0m\u001b[1;34m'coin1.jpg'\u001b[0m\u001b[1;33m,\u001b[0m \u001b[1;36m0\u001b[0m\u001b[1;33m)\u001b[0m\u001b[1;33m\u001b[0m\u001b[1;33m\u001b[0m\u001b[0m\n\u001b[1;32m----> 6\u001b[1;33m     \u001b[0mwidth\u001b[0m  \u001b[1;33m=\u001b[0m \u001b[0mcap\u001b[0m\u001b[1;33m.\u001b[0m\u001b[0mget\u001b[0m\u001b[1;33m(\u001b[0m\u001b[0mcv2\u001b[0m\u001b[1;33m.\u001b[0m\u001b[0mCAP_PROP_FRAME_WIDTH\u001b[0m\u001b[1;33m)\u001b[0m   \u001b[1;31m# float\u001b[0m\u001b[1;33m\u001b[0m\u001b[1;33m\u001b[0m\u001b[0m\n\u001b[0m\u001b[0;32m      7\u001b[0m     \u001b[0mheight\u001b[0m \u001b[1;33m=\u001b[0m \u001b[0mcap\u001b[0m\u001b[1;33m.\u001b[0m\u001b[0mget\u001b[0m\u001b[1;33m(\u001b[0m\u001b[0mcv2\u001b[0m\u001b[1;33m.\u001b[0m\u001b[0mCAP_PROP_FRAME_HEIGHT\u001b[0m\u001b[1;33m)\u001b[0m  \u001b[1;31m# float\u001b[0m\u001b[1;33m\u001b[0m\u001b[1;33m\u001b[0m\u001b[0m\n\u001b[0;32m      8\u001b[0m     \u001b[1;32mwhile\u001b[0m\u001b[1;33m(\u001b[0m\u001b[1;32mTrue\u001b[0m\u001b[1;33m)\u001b[0m\u001b[1;33m:\u001b[0m\u001b[1;33m\u001b[0m\u001b[1;33m\u001b[0m\u001b[0m\n",
      "\u001b[1;31mAttributeError\u001b[0m: 'numpy.ndarray' object has no attribute 'get'"
     ]
    }
   ],
   "source": [
    "# import numpy as np\n",
    "# import cv2\n",
    "# def run_main():\n",
    "# #     cap = cv2.VideoCapture(0)\n",
    "#     cap = cv2.imread('coin1.jpg', 0)\n",
    "#     width  = cap.get(cv2.CAP_PROP_FRAME_WIDTH)   # float\n",
    "#     height = cap.get(cv2.CAP_PROP_FRAME_HEIGHT)  # float\n",
    "#     while(True):\n",
    "#         ret, frame = cap.read()\n",
    "#         roi = frame[0:500, 0:500]\n",
    "#         gray = cv2.cvtColor(roi, cv2.COLOR_BGR2GRAY)\n",
    "#         gray_blur = cv2.GaussianBlur(gray, (15, 15), 0)\n",
    "#         thresh = cv2.adaptiveThreshold(gray_blur, 255, cv2.ADAPTIVE_THRESH_GAUSSIAN_C,\n",
    "#                                        cv2.THRESH_BINARY_INV, 11, 1)\n",
    "#         kernel = np.ones((3, 3), np.uint8)\n",
    "#         closing = cv2.morphologyEx(thresh, cv2.MORPH_CLOSE,\n",
    "#         kernel, iterations=4)\n",
    "#         cont_img = closing.copy()\n",
    "#         contours, hierarchy = cv2.findContours(cont_img, cv2.RETR_EXTERNAL,\n",
    "#                                                cv2.CHAIN_APPROX_SIMPLE)\n",
    "#         for cnt in contours:\n",
    "#             area = cv2.contourArea(cnt)\n",
    "#             if area < 2000 or area > 4000:\n",
    "#                 continue\n",
    "#             if len(cnt) < 5:\n",
    "#                 continue\n",
    "#             ellipse = cv2.fitEllipse(cnt)\n",
    "#             cv2.ellipse(roi, ellipse, (0,255,0), 2)\n",
    "#         cv2.imshow(\"Morphological Closing\", closing)\n",
    "#         cv2.imshow(\"Adaptive Thresholding\", thresh)\n",
    "#         cv2.imshow('Contours', roi)\n",
    "#         if cv2.waitKey(1) & 0xFF == ord('q'):\n",
    "#             break\n",
    "#     cap.release()\n",
    "    \n",
    "#     cv2.waitKey(0)\n",
    "#     cv2.destroyAllWindows()\n",
    "#     cv2.waitKey(1)\n",
    "# if __name__ == \"__main__\":\n",
    "#     run_main()"
   ]
  },
  {
   "cell_type": "code",
   "execution_count": null,
   "id": "b090fbb7-53d7-4d4c-b4ef-02207b4099a3",
   "metadata": {},
   "outputs": [],
   "source": []
  }
 ],
 "metadata": {
  "kernelspec": {
   "display_name": "Python 3",
   "language": "python",
   "name": "python3"
  },
  "language_info": {
   "codemirror_mode": {
    "name": "ipython",
    "version": 3
   },
   "file_extension": ".py",
   "mimetype": "text/x-python",
   "name": "python",
   "nbconvert_exporter": "python",
   "pygments_lexer": "ipython3",
   "version": "3.9.4"
  }
 },
 "nbformat": 4,
 "nbformat_minor": 5
}
