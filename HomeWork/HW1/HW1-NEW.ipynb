{
 "cells": [
  {
   "cell_type": "markdown",
   "id": "e1c85b64-c0cc-42df-9512-a1a42b680c93",
   "metadata": {},
   "source": [
    "# HomeWork 1 due to 9.23\n",
    "### -trackbar, text, box selection"
   ]
  },
  {
   "cell_type": "code",
   "execution_count": 1,
   "id": "6e330cae-90f4-49df-a633-74eeed4eaec0",
   "metadata": {},
   "outputs": [],
   "source": [
    "import cv2\n",
    "import numpy as np\n",
    "import time"
   ]
  },
  {
   "cell_type": "code",
   "execution_count": 2,
   "id": "a1565d72-a6db-420b-b376-4354a92a69b7",
   "metadata": {},
   "outputs": [],
   "source": [
    "def nothing(x):\n",
    "    pass"
   ]
  },
  {
   "cell_type": "code",
   "execution_count": 4,
   "id": "218dba46-9267-4e70-a2ad-d58f7c805f4d",
   "metadata": {},
   "outputs": [],
   "source": [
    "# # mouse callback function\n",
    "# def draw_ractangle(event,x,y,flags,param):\n",
    "#     global ix, iy, drawing, img\n",
    "    \n",
    "#     font = cv2.FONT_HERSHEY_SIMPLEX\n",
    "    \n",
    "#     if event == cv2.EVENT_LBUTTONDOWN:        \n",
    "#         drawing = True\n",
    "#         ix,iy = x,y\n",
    "\n",
    "#     elif event == cv2.EVENT_MOUSEMOVE:\n",
    "#         if drawing == True:\n",
    "#             img = cv2.imread('cat.jpg', 1)\n",
    "            \n",
    "#             # cv2.rectangle(img, 시작 좌표(top-left), 종료 좌표(bottom-right), 색상, 선의 두께)\n",
    "#             cv2.rectangle(img,(ix,iy),(x,y),(0,0,255),-1)\n",
    "            \n",
    "#             # cv2.putText(img, 출력 문자, 출력 문자 시작 위치 좌표(좌측 하단 기준), 폰트, 폰트 크기, 폰트 색상, 폰트 두께, 선 종류)\n",
    "#             cv2.putText(img, 'Mouse Position (' + str(ix) + ',' + str(iy) + ') - (' + str(x) + ',' + str(y) + ')', (10, 30), font, 1, (0, 0, 0), 2, cv2.LINE_AA)\n",
    "                    \n",
    "#     elif event == cv2.EVENT_LBUTTONUP:               \n",
    "#         drawing = False\n",
    "        \n",
    "# #         cv2.rectangle(img,(ix,iy),(x,y),(0,0,255),10)\n",
    "                    \n",
    "# #         cv2.putText(img, 'Mouse Position (' + str(ix) + ',' + str(iy) + ') - (' + str(x) + ',' + str(y) + ')', (10, 30), font, 1, (0, 0, 0), 2, cv2.LINE_AA)"
   ]
  },
  {
   "cell_type": "code",
   "execution_count": 8,
   "id": "ce021ee3-ef88-4cd2-a195-61f0fdf7a13a",
   "metadata": {},
   "outputs": [],
   "source": [
    "def draw_Rectangle(event, x, y, flags, param):\n",
    "    \n",
    "    # 변수를 전역 변수로 변경\n",
    "    global drawing, img, font, change_RGB\n",
    "    \n",
    "    # 마우스 왼쪽 버튼을 눌렀을 때\n",
    "    if event == cv2.EVENT_LBUTTONDOWN:\n",
    "        drawing = True\n",
    "        ix, iy = x, y\n",
    "    \n",
    "    # 마우스가 움직일 때\n",
    "    elif event == cv2.EVENT_MOUSEMOVE:\n",
    "        \n",
    "        # 마우스 왼쪽 버튼을 누른 플래그\n",
    "        if drawing == True:\n",
    "            img = cv2.imread('cat.jpg', 1)\n",
    "            \n",
    "            # cv2.rectangle(img, 시작 좌표(top-left), 종료 좌표(bottom-right), 색상, 선의 두께)\n",
    "            cv2.rectangle(img, (ix, iy), (x, y), change_RGB, -1)\n",
    "            \n",
    "            # cv2.putText(img, 출력 문자, 출력 문자 시작 위치 좌표(좌측 하단 기준), 폰트, 폰트 크기, 폰트 색상, 폰트 두께, 선 종류)\n",
    "            cv2.putText(img, 'Mouse Position (' + str(ix) + ',' + str(iy) + ') - (' + str(x) + ',' + str(y) + ')', (10, 30), font, 1, (0, 0, 0), 2, cv2.LINE_AA)\n",
    "            time.sleep(1)\n",
    "            \n",
    "    # 마우스 왼쪽 버튼을 떼었을 때\n",
    "    elif event == cv2.EVENT_LBUTTONUP:\n",
    "        drawing == False\n",
    "        "
   ]
  },
  {
   "cell_type": "code",
   "execution_count": 5,
   "id": "bd4962f9-7ef2-40e1-86fa-150dccac0c99",
   "metadata": {},
   "outputs": [],
   "source": [
    "# 마우스 버튼을 누르는걸 인식하는 플래그\n",
    "drawing = False\n",
    "\n",
    "mode = 0\n",
    "\n",
    "# 이미지 읽기\n",
    "img = cv2.imread('cat.jpg', 1)\n",
    "cv2.namedWindow('image')\n",
    "\n",
    "# 마우스 콜백 함수\n",
    "cv2.setMouseCallback('image',draw_ractangle)\n",
    "\n",
    "# Trackbar 생성\n",
    "cv2.createTrackbar('Value','image',0,255,nothing)\n",
    "\n",
    "# font 설정 및 Text 생성\n",
    "font = cv2.FONT_HERSHEY_SIMPLEX\n",
    "cv2.putText(img, 'Mouse Position ( 0,0 ) - ( 0,0 )', (10, 30), font, 1, (0, 0, 0), 2, cv2.LINE_AA)"
   ]
  },
  {
   "cell_type": "code",
   "execution_count": 7,
   "id": "b09c339f-2065-4b21-b322-e0e32bc5bf0e",
   "metadata": {},
   "outputs": [
    {
     "data": {
      "text/plain": [
       "-1"
      ]
     },
     "execution_count": 7,
     "metadata": {},
     "output_type": "execute_result"
    }
   ],
   "source": [
    "while(True):\n",
    "    cv2.imshow('image',img)\n",
    "    k = cv2.waitKey(1) & 0xFF\n",
    "    \n",
    "    if k == 27:\n",
    "        break\n",
    "        \n",
    "    # Trackbar 포지션 잡아주기\n",
    "    Value = cv2.getTrackbarPos('Value','image')\n",
    "        \n",
    "cv2.destroyAllWindows()\n",
    "cv2.waitKey(1)"
   ]
  }
 ],
 "metadata": {
  "kernelspec": {
   "display_name": "Python 3",
   "language": "python",
   "name": "python3"
  },
  "language_info": {
   "codemirror_mode": {
    "name": "ipython",
    "version": 3
   },
   "file_extension": ".py",
   "mimetype": "text/x-python",
   "name": "python",
   "nbconvert_exporter": "python",
   "pygments_lexer": "ipython3",
   "version": "3.9.4"
  }
 },
 "nbformat": 4,
 "nbformat_minor": 5
}
