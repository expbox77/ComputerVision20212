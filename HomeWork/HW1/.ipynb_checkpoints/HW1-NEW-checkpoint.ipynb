{
 "cells": [
  {
   "cell_type": "markdown",
   "id": "e1c85b64-c0cc-42df-9512-a1a42b680c93",
   "metadata": {},
   "source": [
    "# HomeWork 1 due to 9.23\n",
    "### -trackbar, text, box selection"
   ]
  },
  {
   "cell_type": "code",
   "execution_count": 1,
   "id": "6e330cae-90f4-49df-a633-74eeed4eaec0",
   "metadata": {},
   "outputs": [],
   "source": [
    "import cv2\n",
    "import numpy as np"
   ]
  },
  {
   "cell_type": "code",
   "execution_count": 2,
   "id": "a1565d72-a6db-420b-b376-4354a92a69b7",
   "metadata": {},
   "outputs": [],
   "source": [
    "def nothing(x):\n",
    "    pass"
   ]
  },
  {
   "cell_type": "code",
   "execution_count": null,
   "id": "ce021ee3-ef88-4cd2-a195-61f0fdf7a13a",
   "metadata": {},
   "outputs": [],
   "source": [
    "def draw_Rectangle(event, x, y, flags, param):\n",
    "    global ix, iy, drawing, img\n",
    "    \n",
    "    font = cv2.FONT_HERSHEY_SIMPLEX\n",
    "    \n",
    "    if event == cv2.EVENT_LBUTTONDOWN:\n",
    "    \n",
    "    if event == cv2.EVENT_MOUSEMOVE:\n",
    "        \n",
    "    if event == cv2.EVENT_LBUTTONUP:"
   ]
  },
  {
   "cell_type": "code",
   "execution_count": 3,
   "id": "218dba46-9267-4e70-a2ad-d58f7c805f4d",
   "metadata": {},
   "outputs": [],
   "source": [
    "# mouse callback function\n",
    "def draw_ractangle(event,x,y,flags,param):\n",
    "    global ix, iy, drawing, img\n",
    "    \n",
    "    font = cv2.FONT_HERSHEY_SIMPLEX\n",
    "    \n",
    "    if event == cv2.EVENT_LBUTTONDOWN:        \n",
    "        drawing = True\n",
    "        ix,iy = x,y\n",
    "\n",
    "    elif event == cv2.EVENT_MOUSEMOVE:\n",
    "        if drawing == True:\n",
    "            img = cv2.imread('cat.jpg', 1)\n",
    "            \n",
    "            # cv2.rectangle(img, 시작 좌표(top-left), 종료 좌표(bottom-right), 색상, 선의 두께)\n",
    "            cv2.rectangle(img,(ix,iy),(x,y),(0,0,255),-1)\n",
    "            \n",
    "            # cv2.putText(img, 출력 문자, 출력 문자 시작 위치 좌표(좌측 하단 기준), 폰트, 폰트 크기, 폰트 색상, 폰트 두께, 선 종류)\n",
    "            cv2.putText(img, 'Mouse Position (' + str(ix) + ',' + str(iy) + ') - (' + str(x) + ',' + str(y) + ')', (10, 30), font, 1, (0, 0, 0), 2, cv2.LINE_AA)\n",
    "                    \n",
    "    elif event == cv2.EVENT_LBUTTONUP:               \n",
    "        drawing = False\n",
    "        \n",
    "        cv2.rectangle(img,(ix,iy),(x,y),(0,0,255),10)\n",
    "                    \n",
    "        cv2.putText(img, 'Mouse Position (' + str(ix) + ',' + str(iy) + ') - (' + str(x) + ',' + str(y) + ')', (10, 30), font, 1, (0, 0, 0), 2, cv2.LINE_AA)"
   ]
  },
  {
   "cell_type": "code",
   "execution_count": 4,
   "id": "33f59039-1e8c-492f-a6d4-0efb3966d3d5",
   "metadata": {},
   "outputs": [],
   "source": [
    "drawing = False # true if mouse is pressed"
   ]
  },
  {
   "cell_type": "code",
   "execution_count": 5,
   "id": "d1af8579-51a2-40e3-8d7e-5703e9d91820",
   "metadata": {},
   "outputs": [
    {
     "data": {
      "text/plain": [
       "array([[[ 51, 163, 163],\n",
       "        [ 55, 165, 161],\n",
       "        [ 65, 170, 161],\n",
       "        ...,\n",
       "        [182, 195, 203],\n",
       "        [181, 196, 205],\n",
       "        [179, 196, 205]],\n",
       "\n",
       "       [[ 46, 150, 149],\n",
       "        [ 54, 156, 151],\n",
       "        [ 69, 168, 158],\n",
       "        ...,\n",
       "        [180, 193, 201],\n",
       "        [178, 193, 202],\n",
       "        [178, 193, 202]],\n",
       "\n",
       "       [[ 39, 133, 128],\n",
       "        [ 48, 141, 134],\n",
       "        [ 69, 159, 146],\n",
       "        ...,\n",
       "        [180, 191, 199],\n",
       "        [177, 190, 198],\n",
       "        [174, 190, 197]],\n",
       "\n",
       "       ...,\n",
       "\n",
       "       [[134, 161, 187],\n",
       "        [142, 170, 194],\n",
       "        [139, 170, 193],\n",
       "        ...,\n",
       "        [127, 147, 165],\n",
       "        [118, 138, 156],\n",
       "        [116, 136, 154]],\n",
       "\n",
       "       [[154, 180, 204],\n",
       "        [155, 183, 207],\n",
       "        [151, 182, 205],\n",
       "        ...,\n",
       "        [138, 158, 176],\n",
       "        [122, 142, 160],\n",
       "        [120, 140, 158]],\n",
       "\n",
       "       [[169, 193, 217],\n",
       "        [167, 193, 217],\n",
       "        [158, 186, 210],\n",
       "        ...,\n",
       "        [155, 172, 191],\n",
       "        [134, 151, 170],\n",
       "        [129, 146, 165]]], dtype=uint8)"
      ]
     },
     "execution_count": 5,
     "metadata": {},
     "output_type": "execute_result"
    }
   ],
   "source": [
    "img = cv2.imread('cat.jpg', 1)\n",
    "\n",
    "cv2.namedWindow('image')\n",
    "\n",
    "cv2.setMouseCallback('image',draw_ractangle)\n",
    "\n",
    "# Trackbar 생성\n",
    "cv2.createTrackbar('Value','image',0,255,nothing)\n",
    "\n",
    "# Text 생성\n",
    "font = cv2.FONT_HERSHEY_SIMPLEX\n",
    "cv2.putText(img, 'Mouse Position ( 0,0 ) - ( 0,0 )', (10, 30), font, 1, (0, 0, 0), 2, cv2.LINE_AA)"
   ]
  },
  {
   "cell_type": "code",
   "execution_count": 6,
   "id": "b09c339f-2065-4b21-b322-e0e32bc5bf0e",
   "metadata": {},
   "outputs": [
    {
     "data": {
      "text/plain": [
       "-1"
      ]
     },
     "execution_count": 6,
     "metadata": {},
     "output_type": "execute_result"
    }
   ],
   "source": [
    "while(True):\n",
    "    cv2.imshow('image',img)\n",
    "    k = cv2.waitKey(1) & 0xFF\n",
    "    \n",
    "    if k == 27:\n",
    "        break\n",
    "        \n",
    "    # Trackbar 포지션 잡아주기\n",
    "    Value = cv2.getTrackbarPos('Value','image')\n",
    "        \n",
    "cv2.destroyAllWindows()\n",
    "cv2.waitKey(1)"
   ]
  }
 ],
 "metadata": {
  "kernelspec": {
   "display_name": "Python 3",
   "language": "python",
   "name": "python3"
  },
  "language_info": {
   "codemirror_mode": {
    "name": "ipython",
    "version": 3
   },
   "file_extension": ".py",
   "mimetype": "text/x-python",
   "name": "python",
   "nbconvert_exporter": "python",
   "pygments_lexer": "ipython3",
   "version": "3.9.4"
  }
 },
 "nbformat": 4,
 "nbformat_minor": 5
}
