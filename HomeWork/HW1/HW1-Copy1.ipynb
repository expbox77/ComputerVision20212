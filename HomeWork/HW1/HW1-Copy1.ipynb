{
 "cells": [
  {
   "cell_type": "markdown",
   "id": "e1c85b64-c0cc-42df-9512-a1a42b680c93",
   "metadata": {},
   "source": [
    "# HomeWork 1 due to 9.23\n",
    "### -trackbar, text, box selection"
   ]
  },
  {
   "cell_type": "code",
   "execution_count": 1,
   "id": "6e330cae-90f4-49df-a633-74eeed4eaec0",
   "metadata": {},
   "outputs": [],
   "source": [
    "import cv2\n",
    "import numpy as np"
   ]
  },
  {
   "cell_type": "code",
   "execution_count": 2,
   "id": "a1565d72-a6db-420b-b376-4354a92a69b7",
   "metadata": {},
   "outputs": [],
   "source": [
    "def nothing(x):\n",
    "    pass"
   ]
  },
  {
   "cell_type": "code",
   "execution_count": 3,
   "id": "218dba46-9267-4e70-a2ad-d58f7c805f4d",
   "metadata": {},
   "outputs": [],
   "source": [
    "# mouse callback function\n",
    "def draw_ractangel(event,x,y,flags,param):\n",
    "    global ix, iy, drawing, img\n",
    "    \n",
    "    font = cv2.FONT_HERSHEY_SIMPLEX\n",
    "    \n",
    "    if event == cv2.EVENT_LBUTTONDOWN:        \n",
    "        drawing = True\n",
    "        ix,iy = x,y\n",
    "\n",
    "    elif event == cv2.EVENT_MOUSEMOVE:\n",
    "        if drawing == True:\n",
    "            img = cv2.imread('cat.jpg', 1)\n",
    "            \n",
    "            # cv2.rectangle(img, 시작 좌표(top-left), 종료 좌표(bottom-right), 색상, 선의 두께)\n",
    "            cv2.rectangle(img,(ix,iy),(x,y),(0,0,255),-1)\n",
    "            \n",
    "            # cv2.putText(img, 출력 문자, 출력 문자 시작 위치 좌표(좌측 하단 기준), 폰트, 폰트 크기, 폰트 색상, 폰트 두께, 선 종류)\n",
    "            cv2.putText(img, 'Mouse Position (' + str(ix) + ',' + str(iy) + ') - (' + str(x) + ',' + str(y) + ')', (10, 30), font, 1, (0, 0, 0), 2, cv2.LINE_AA)\n",
    "                    \n",
    "    elif event == cv2.EVENT_LBUTTONUP:               \n",
    "        drawing = False\n",
    "        \n",
    "        cv2.rectangle(img,(ix,iy),(x,y),(0,0,255),10)\n",
    "                    \n",
    "        cv2.putText(img, 'Mouse Position (' + str(ix) + ',' + str(iy) + ') - (' + str(x) + ',' + str(y) + ')', (10, 30), font, 1, (0, 0, 0), 2, cv2.LINE_AA)"
   ]
  },
  {
   "cell_type": "code",
   "execution_count": 4,
   "id": "8301017f-00a6-4804-b863-956d5aca309e",
   "metadata": {},
   "outputs": [],
   "source": [
    "drawing = False # true if mouse is pressed\n",
    "channel = 0\n",
    "\n",
    "img = cv2.imread('cat.jpg', 1)\n",
    "\n",
    "cv2.namedWindow('image')\n",
    "\n",
    "cv2.setMouseCallback('image',draw_ractangel)\n",
    "\n",
    "# Trackbar 생성\n",
    "cv2.createTrackbar('Value','image',0,255,nothing)\n",
    "\n",
    "# Text 생성\n",
    "font = cv2.FONT_HERSHEY_SIMPLEX\n",
    "cv2.putText(img, 'Mouse Position ( 0,0 ) - ( 0,0 )', (10, 30), font, 1, (0, 0, 0), 2, cv2.LINE_AA)"
   ]
  },
  {
   "cell_type": "code",
   "execution_count": null,
   "id": "b09c339f-2065-4b21-b322-e0e32bc5bf0e",
   "metadata": {},
   "outputs": [],
   "source": [
    "while(True):\n",
    "    cv2.imshow('image',img)\n",
    "    k = cv2.waitKey(1) & 0xFF\n",
    "    \n",
    "    if k == 27:\n",
    "        break\n",
    "        \n",
    "    # Trackbar 포지션 잡아주기\n",
    "    Value = cv2.getTrackbarPos('Value','image')\n",
    "    \n",
    "    if channel == 0:\n",
    "        \n",
    "    \n",
    "    elif channel == 1:\n",
    "        \n",
    "    \n",
    "    elif channel == 2:\n",
    "        \n",
    "    else:\n",
    "        channel = 0\n",
    "        \n",
    "cv2.destroyAllWindows()\n",
    "cv2.waitKey(1)"
   ]
  },
  {
   "cell_type": "code",
   "execution_count": null,
   "id": "ce021ee3-ef88-4cd2-a195-61f0fdf7a13a",
   "metadata": {},
   "outputs": [],
   "source": []
  }
 ],
 "metadata": {
  "kernelspec": {
   "display_name": "Python 3",
   "language": "python",
   "name": "python3"
  },
  "language_info": {
   "codemirror_mode": {
    "name": "ipython",
    "version": 3
   },
   "file_extension": ".py",
   "mimetype": "text/x-python",
   "name": "python",
   "nbconvert_exporter": "python",
   "pygments_lexer": "ipython3",
   "version": "3.9.4"
  }
 },
 "nbformat": 4,
 "nbformat_minor": 5
}
