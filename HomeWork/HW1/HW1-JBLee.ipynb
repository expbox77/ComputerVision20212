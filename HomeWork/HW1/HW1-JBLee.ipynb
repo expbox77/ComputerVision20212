{
 "cells": [
  {
   "cell_type": "markdown",
   "id": "e1c85b64-c0cc-42df-9512-a1a42b680c93",
   "metadata": {},
   "source": [
    "# HomeWork 1 due to 9.23\n",
    "### -trackbar, text, box selection"
   ]
  },
  {
   "cell_type": "code",
   "execution_count": 1,
   "id": "6e330cae-90f4-49df-a633-74eeed4eaec0",
   "metadata": {},
   "outputs": [],
   "source": [
    "import cv2\n",
    "import numpy as np"
   ]
  },
  {
   "cell_type": "code",
   "execution_count": 2,
   "id": "ce021ee3-ef88-4cd2-a195-61f0fdf7a13a",
   "metadata": {},
   "outputs": [],
   "source": [
    "class DrawManager:\n",
    "    def __init__(self, shape):\n",
    "        self.ix, self.iy = -1, -1\n",
    "        self.x, self.y = -1, -1\n",
    "        self.mask = np.ones(shape)\n",
    "        self.drawing = False\n",
    "        \n",
    "    def draw_rectangel(self, event, x, y, flags, param):\n",
    "        self.x, self.y = x, y\n",
    "        if event == cv2.EVENT_LBUTTONDOWN:\n",
    "            self.drawing = True\n",
    "            self.ix, self.iy = x, y\n",
    "            \n",
    "        elif event == cv2.EVENT_MOUSEMOVE:\n",
    "            if self.drawing == True:\n",
    "                start_x, end_x = (self.ix, x) if self.ix < x else (x, self.ix)\n",
    "                start_y, end_y = (self.iy, y) if self.iy < x else (y, self.iy)\n",
    "                \n",
    "                self.mask[:] = np.ones(self.mask.shape)\n",
    "                self.mask[start_y : end_y, start_x : end_x] = np.zeros((end_y - start_y, end_x - start_x))\n",
    "                \n",
    "        elif event == cv2.EVENT_LBUTTONUP:\n",
    "            self.drawing = False       "
   ]
  },
  {
   "cell_type": "code",
   "execution_count": 3,
   "id": "30c91111-4b68-49f7-ac41-f643c8a12bf9",
   "metadata": {},
   "outputs": [
    {
     "data": {
      "text/plain": [
       "-1"
      ]
     },
     "execution_count": 3,
     "metadata": {},
     "output_type": "execute_result"
    }
   ],
   "source": [
    "orig_img = cv2.imread('cat.jpg') / 255.0\n",
    "dm = DrawManager(orig_img.shape[ : -1])\n",
    "\n",
    "font = cv2.FONT_HERSHEY_SIMPLEX\n",
    "\n",
    "cv2.namedWindow('image')\n",
    "cv2.createTrackbar('Mode', 'image', 0, 3, lambda x: None)\n",
    "cv2.setMouseCallback('image', dm.draw_rectangel)\n",
    "\n",
    "while True:\n",
    "    mode = cv2.getTrackbarPos('Mode', 'image')\n",
    "    \n",
    "    b, g, r = cv2.split(orig_img)\n",
    "    \n",
    "    if mode == 0:\n",
    "        img = cv2.merge((b * dm.mask, g * dm.mask, r))\n",
    "    elif mode == 1:\n",
    "        img = cv2.merge((b * dm.mask, g, r * dm.mask))\n",
    "    elif mode == 2:\n",
    "        img = cv2.merge((b, g * dm.mask, r * dm.mask))\n",
    "    elif mode == 3:\n",
    "        img = np.copy(orig_img)\n",
    "\n",
    "    cv2.putText(img, f'Mouse Position {dm.x, dm.y}', (10, 50), font, 1, (1, 1, 1), 2, cv2.LINE_AA)\n",
    "    \n",
    "    cv2.imshow('image', img)\n",
    "    \n",
    "    if cv2.waitKey(2) & 0xff == 27:\n",
    "        break\n",
    "        \n",
    "cv2.destroyAllWindows()\n",
    "cv2.waitKey(1)\n",
    "        "
   ]
  },
  {
   "cell_type": "code",
   "execution_count": null,
   "id": "32d516b0-612a-4e85-813b-6cf450d4e656",
   "metadata": {},
   "outputs": [],
   "source": []
  }
 ],
 "metadata": {
  "kernelspec": {
   "display_name": "Python 3",
   "language": "python",
   "name": "python3"
  },
  "language_info": {
   "codemirror_mode": {
    "name": "ipython",
    "version": 3
   },
   "file_extension": ".py",
   "mimetype": "text/x-python",
   "name": "python",
   "nbconvert_exporter": "python",
   "pygments_lexer": "ipython3",
   "version": "3.9.4"
  }
 },
 "nbformat": 4,
 "nbformat_minor": 5
}
