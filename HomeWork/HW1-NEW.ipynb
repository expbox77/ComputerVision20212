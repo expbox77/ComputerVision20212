{
 "cells": [
  {
   "cell_type": "markdown",
   "id": "e1c85b64-c0cc-42df-9512-a1a42b680c93",
   "metadata": {},
   "source": [
    "# HomeWork 1 due to 9.23\n",
    "### -trackbar, text, box selection"
   ]
  },
  {
   "cell_type": "code",
   "execution_count": 1,
   "id": "6e330cae-90f4-49df-a633-74eeed4eaec0",
   "metadata": {},
   "outputs": [],
   "source": [
    "# import modules\n",
    "import cv2\n",
    "import numpy as np"
   ]
  },
  {
   "cell_type": "code",
   "execution_count": 2,
   "id": "a1565d72-a6db-420b-b376-4354a92a69b7",
   "metadata": {},
   "outputs": [],
   "source": [
    "# Trackbar에서 다른 작업을 하지 않을 때\n",
    "def nothing(x):\n",
    "    pass"
   ]
  },
  {
   "cell_type": "code",
   "execution_count": 3,
   "id": "ce021ee3-ef88-4cd2-a195-61f0fdf7a13a",
   "metadata": {},
   "outputs": [],
   "source": [
    "def draw_rectangle(event, x, y, flags, param):\n",
    "    \n",
    "    # 변수를 전역 변수로 변경\n",
    "    global drawing, img, mode, roi, ix, iy, jx, jy\n",
    "    \n",
    "    # 마우스 왼쪽 버튼을 눌렀을 때\n",
    "    if event == cv2.EVENT_LBUTTONDOWN:\n",
    "        drawing = True\n",
    "        ix, iy = x, y\n",
    "    \n",
    "    # 마우스가 움직일 때\n",
    "    elif event == cv2.EVENT_MOUSEMOVE:\n",
    "        \n",
    "        # 마우스 왼쪽 버튼을 누른 플래그\n",
    "        if drawing == True:\n",
    "            \n",
    "            # 찍은 기점에서 +가 아닌 -로 마우스가 이동했을 때 제대로된 마스크를 만들어줌\n",
    "            start_x, end_x = (ix, x) if ix < x else (x, ix)\n",
    "            start_y, end_y = (iy, y) if iy < y else (y, iy)\n",
    "            \n",
    "            # roi를 마스크로 사용하기 위한 작업\n",
    "            roi[:] = np.ones(roi.shape)\n",
    "            roi[start_y : end_y, start_x : end_x] = np.zeros((end_y - start_y, end_x - start_x))\n",
    "            \n",
    "            jx, jy = x, y\n",
    "            \n",
    "    # 마우스 왼쪽 버튼을 떼었을 때\n",
    "    elif event == cv2.EVENT_LBUTTONUP:\n",
    "        drawing = False"
   ]
  },
  {
   "cell_type": "code",
   "execution_count": 4,
   "id": "bd4962f9-7ef2-40e1-86fa-150dccac0c99",
   "metadata": {},
   "outputs": [],
   "source": [
    "ix, iy = -1, -1\n",
    "jx, jy = -1, -1\n",
    "\n",
    "orig_img = cv2.imread('cat.jpg') / 255.0\n",
    "\n",
    "roi = np.ones(orig_img.shape[ : -1])\n",
    "\n",
    "font = cv2.FONT_HERSHEY_SIMPLEX\n",
    "\n",
    "# 마우스 버튼을 누르는걸 인식하는 플래그\n",
    "drawing = False\n",
    "\n",
    "# 이미지 읽기\n",
    "img = cv2.imread('cat.jpg', 1)\n",
    "cv2.namedWindow('image')\n",
    "\n",
    "# 마우스 콜백 함수\n",
    "cv2.setMouseCallback('image', draw_rectangle)\n",
    "\n",
    "# Trackbar 생성\n",
    "cv2.createTrackbar('Mode', 'image', 0, 3, nothing)\n",
    "\n",
    "# font 설정\n",
    "font = cv2.FONT_HERSHEY_SIMPLEX\n",
    "# cv2.putText(img, 'Mouse Position ( 0,0 ) - ( 0,0 )', (10, 30), font, 1, (0, 0, 0), 2, cv2.LINE_AA)"
   ]
  },
  {
   "cell_type": "code",
   "execution_count": 5,
   "id": "b09c339f-2065-4b21-b322-e0e32bc5bf0e",
   "metadata": {},
   "outputs": [
    {
     "data": {
      "text/plain": [
       "-1"
      ]
     },
     "execution_count": 5,
     "metadata": {},
     "output_type": "execute_result"
    }
   ],
   "source": [
    "while(True):\n",
    "        \n",
    "    # Trackbar 포지션 잡아주기 & 값 모드로 넘겨주기\n",
    "    mode = cv2.getTrackbarPos('Mode', 'image')\n",
    "    \n",
    "    b, g, r = cv2.split(orig_img)\n",
    "    \n",
    "    if mode == 0:\n",
    "        img = cv2.merge((b * roi, g * roi, r))\n",
    "    elif mode == 1:\n",
    "        img = cv2.merge((b * roi, g, r * roi))\n",
    "    elif mode == 2:\n",
    "        img = cv2.merge((b, g * roi, r * roi))\n",
    "    elif mode == 3:\n",
    "        img = np.copy(orig_img)\n",
    "    \n",
    "    # cv2.putText(img, 출력 문자, 출력 문자 시작 위치 좌표(좌측 하단 기준), 폰트, 폰트 크기, 폰트 색상, 폰트 두께, 선 종류)\n",
    "    cv2.putText(img, f'Mouse Position {ix, iy} - {jx, jy}', (10, 30), font, 1, (1, 1, 1), 2, cv2.LINE_AA)\n",
    "    \n",
    "    cv2.imshow('image',img)\n",
    "    \n",
    "    k = cv2.waitKey(1) & 0xFF\n",
    "    if k == 27:\n",
    "        break\n",
    "        \n",
    "cv2.destroyAllWindows()\n",
    "cv2.waitKey(1)"
   ]
  },
  {
   "cell_type": "code",
   "execution_count": null,
   "id": "1b9045d9-5a0b-4c6c-a5c6-3273bdf00d6c",
   "metadata": {},
   "outputs": [],
   "source": []
  }
 ],
 "metadata": {
  "kernelspec": {
   "display_name": "Python 3",
   "language": "python",
   "name": "python3"
  },
  "language_info": {
   "codemirror_mode": {
    "name": "ipython",
    "version": 3
   },
   "file_extension": ".py",
   "mimetype": "text/x-python",
   "name": "python",
   "nbconvert_exporter": "python",
   "pygments_lexer": "ipython3",
   "version": "3.9.4"
  }
 },
 "nbformat": 4,
 "nbformat_minor": 5
}
