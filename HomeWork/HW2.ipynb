{
 "cells": [
  {
   "cell_type": "markdown",
   "id": "f3f40f6b-20db-4d84-b732-e7b3bd532294",
   "metadata": {},
   "source": [
    "# Homework 2 due to 9.30\n",
    "\n",
    "### Tracking object"
   ]
  },
  {
   "cell_type": "code",
   "execution_count": 1,
   "id": "fcad3b1e-99a0-4508-a7ab-d4a3d5f2e428",
   "metadata": {},
   "outputs": [],
   "source": [
    "import cv2\n",
    "import numpy as np"
   ]
  },
  {
   "cell_type": "code",
   "execution_count": 1,
   "id": "38cd9a3a-089f-4016-9c0f-6611bf2ad881",
   "metadata": {},
   "outputs": [
    {
     "name": "stderr",
     "output_type": "stream",
     "text": [
      "usage: ipykernel_launcher.py [-h] [-v VIDEO]\n",
      "ipykernel_launcher.py: error: unrecognized arguments: -f /Users/yoon/Library/Jupyter/runtime/kernel-205b630e-6fcf-4cf1-8f21-128903fb9031.json\n"
     ]
    },
    {
     "ename": "SystemExit",
     "evalue": "2",
     "output_type": "error",
     "traceback": [
      "An exception has occurred, use %tb to see the full traceback.\n",
      "\u001b[0;31mSystemExit\u001b[0m\u001b[0;31m:\u001b[0m 2\n"
     ]
    },
    {
     "name": "stderr",
     "output_type": "stream",
     "text": [
      "/opt/anaconda3/envs/opencv21/lib/python3.9/site-packages/IPython/core/interactiveshell.py:3445: UserWarning: To exit: use 'exit', 'quit', or Ctrl-D.\n",
      "  warn(\"To exit: use 'exit', 'quit', or Ctrl-D.\", stacklevel=1)\n"
     ]
    }
   ],
   "source": [
    "# import the necessary packages\n",
    "import argparse\n",
    "import imutils\n",
    "import cv2\n",
    "\n",
    "# construct the argument parse and parse the arguments\n",
    "ap = argparse.ArgumentParser()\n",
    "ap.add_argument(\"-v\", \"--video\", help=\"path to the (optional) video file\")\n",
    "args = vars(ap.parse_args())\n",
    "\n",
    "# define the color ranges\n",
    "colorRanges = [\n",
    "\t((29, 86, 6), (64, 255, 255), \"green\"),\n",
    "\t((57, 68, 0), (151, 255, 255), \"blue\")]\n",
    "\n",
    "# if a video path was not supplied, grab the reference to the webcam\n",
    "if not args.get(\"video\", False):\n",
    "\tcamera = cv2.VideoCapture(0)\n",
    "\n",
    "# otherwise, grab a reference to the video file\n",
    "else:\n",
    "\tcamera = cv2.VideoCapture(args[\"video\"])\n",
    "\n",
    "    \n",
    "# keep looping\n",
    "while True:\n",
    "    # grab the current frame\n",
    "\t(grabbed, frame) = camera.read()\n",
    "\n",
    "\t# if we are viewing a video and we did not grab a frame, then we have\n",
    "\t# reached the end of the video\n",
    "\tif args.get(\"video\") and not grabbed:\n",
    "\t\tbreak\n",
    "\n",
    "\t# resize the frame, blur it, and convert it to the HSV color space\n",
    "\tframe = imutils.resize(frame, width=600)\n",
    "\tblurred = cv2.GaussianBlur(frame, (11, 11), 0)\n",
    "\thsv = cv2.cvtColor(frame, cv2.COLOR_BGR2HSV)\n",
    "\n",
    "\t# loop over the color ranges\n",
    "\tfor (lower, upper, colorName) in colorRanges:\n",
    "\t\t# construct a mask for all colors in the current HSV range, then\n",
    "\t\t# perform a series of dilations and erosions to remove any small\n",
    "\t\t# blobs left in the mask\n",
    "\t\tmask = cv2.inRange(hsv, lower, upper)\n",
    "\t\tmask = cv2.erode(mask, None, iterations=2)\n",
    "\t\tmask = cv2.dilate(mask, None, iterations=2)\n",
    "# find contours in the mask\n",
    "\t\tcnts = cv2.findContours(mask.copy(), cv2.RETR_EXTERNAL,\n",
    "\t\t\tcv2.CHAIN_APPROX_SIMPLE)\n",
    "\t\tcnts = cnts[0] if imutils.is_cv2() else cnts[1]\n",
    "\n",
    "\t\t# only proceed if at least one contour was found\n",
    "\t\tif len(cnts) > 0:\n",
    "\t\t\t# find the largest contour in the mask, then use it to compute\n",
    "\t\t\t# the minimum enclosing circle and centroid\n",
    "\t\t\tc = max(cnts, key=cv2.contourArea)\n",
    "\t\t\t((x, y), radius) = cv2.minEnclosingCircle(c)\n",
    "\t\t\tM = cv2.moments(c)\n",
    "\t\t\t(cX, cY) = (int(M[\"m10\"] / M[\"m00\"]), int(M[\"m01\"] / M[\"m00\"]))\n",
    "\n",
    "\t\t\t# only draw the enclosing circle and text if the radious meets\n",
    "\t\t\t# a minimum size\n",
    "\t\t\tif radius > 10:\n",
    "\t\t\t\tcv2.circle(frame, (int(x), int(y)), int(radius), (0, 255, 255), 2)\n",
    "\t\t\t\tcv2.putText(frame, colorName, (cX, cY), cv2.FONT_HERSHEY_SIMPLEX,\n",
    "\t\t\t\t\t1.0, (0, 255, 255), 2)\n",
    "\n",
    "\t# show the frame to our screen\n",
    "\tcv2.imshow(\"Frame\", frame)\n",
    "\tkey = cv2.waitKey(1) & 0xFF\n",
    "\n",
    "\t# if the 'q' key is pressed, stop the loop\n",
    "\tif key == ord(\"q\"):\n",
    "\t\tbreak\n",
    "\n",
    "# cleanup the camera and close any open windows\n",
    "camera.release()\n",
    "cv2.destroyAllWindows()\n",
    "cv2.waitKey(1)"
   ]
  },
  {
   "cell_type": "code",
   "execution_count": null,
   "id": "3904f806-f678-4258-a3f0-2cf0a2e55ecc",
   "metadata": {},
   "outputs": [],
   "source": []
  }
 ],
 "metadata": {
  "kernelspec": {
   "display_name": "Python 3",
   "language": "python",
   "name": "python3"
  },
  "language_info": {
   "codemirror_mode": {
    "name": "ipython",
    "version": 3
   },
   "file_extension": ".py",
   "mimetype": "text/x-python",
   "name": "python",
   "nbconvert_exporter": "python",
   "pygments_lexer": "ipython3",
   "version": "3.9.4"
  }
 },
 "nbformat": 4,
 "nbformat_minor": 5
}
