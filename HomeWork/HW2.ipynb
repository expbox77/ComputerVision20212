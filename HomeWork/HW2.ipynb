{
 "cells": [
  {
   "cell_type": "markdown",
   "id": "f3f40f6b-20db-4d84-b732-e7b3bd532294",
   "metadata": {},
   "source": [
    "# Homework 2 due to 9.30\n",
    "\n",
    "### Tracking object"
   ]
  },
  {
   "cell_type": "code",
   "execution_count": 1,
   "id": "fcad3b1e-99a0-4508-a7ab-d4a3d5f2e428",
   "metadata": {},
   "outputs": [],
   "source": [
    "import cv2\n",
    "import numpy as np\n",
    "import time"
   ]
  },
  {
   "cell_type": "code",
   "execution_count": 2,
   "id": "d8409582-3cf7-4499-b2e3-dcfc27c4b991",
   "metadata": {},
   "outputs": [],
   "source": [
    "def nothing(x):\n",
    "    pass"
   ]
  },
  {
   "cell_type": "code",
   "execution_count": 3,
   "id": "1eeb38ab-d767-44a7-8c61-5144bdb49a5d",
   "metadata": {},
   "outputs": [],
   "source": [
    "# cap = cv2.VideoCapture(0)\n",
    "cap = cv2.VideoCapture('SampleFiles/HW2/tracking4.avi')\n",
    "cv2.namedWindow(\"Trackbars\")\n",
    "\n",
    "cv2.createTrackbar(\"L - H\", \"Trackbars\", 0, 179, nothing)\n",
    "cv2.createTrackbar(\"L - S\", \"Trackbars\", 0, 255, nothing)\n",
    "cv2.createTrackbar(\"L - V\", \"Trackbars\", 0, 255, nothing)\n",
    "cv2.createTrackbar(\"U - H\", \"Trackbars\", 179, 179, nothing)\n",
    "cv2.createTrackbar(\"U - S\", \"Trackbars\", 255, 255, nothing)\n",
    "cv2.createTrackbar(\"U - V\", \"Trackbars\", 255, 255, nothing)\n",
    "\n",
    "prev_time = 0\n",
    "FPS = 10\n",
    "\n",
    "while(cap.isOpened()):\n",
    "    \n",
    "    ret, frame = cap.read()\n",
    "    \n",
    "    current_time = time.time() - prev_time\n",
    "    \n",
    "    hsv = cv2.cvtColor(frame, cv2.COLOR_BGR2HSV)\n",
    "    \n",
    "    l_h = cv2.getTrackbarPos(\"L - H\", \"Trackbars\")\n",
    "    l_s = cv2.getTrackbarPos(\"L - S\", \"Trackbars\")\n",
    "    l_v = cv2.getTrackbarPos(\"L - V\", \"Trackbars\")\n",
    "    u_h = cv2.getTrackbarPos(\"U - H\", \"Trackbars\")\n",
    "    u_s = cv2.getTrackbarPos(\"U - S\", \"Trackbars\")\n",
    "    u_v = cv2.getTrackbarPos(\"U - V\", \"Trackbars\")\n",
    "    \n",
    "    # H: 15, S: 80, V: 100\n",
    "    lower_blue = np.array([l_h, l_s, l_v])\n",
    "    upper_blue = np.array([u_h, u_s, u_v])\n",
    "    # lower_blue = np.array([37, 30, 100])\n",
    "    # upper_blue = np.array([157, 255, 255])\n",
    "    mask = cv2.inRange(hsv, lower_blue, upper_blue)\n",
    "                          \n",
    "    result = cv2.bitwise_and(frame, frame, mask = mask)\n",
    "    \n",
    "    if (ret is True) and (current_time > 1./ FPS) :\n",
    "        \n",
    "        prev_time = time.time()\n",
    "    \n",
    "        cv2.imshow(\"frame\", frame)\n",
    "        cv2.imshow(\"mask\", mask)\n",
    "        cv2.imshow(\"result\", result)\n",
    "                          \n",
    "    key = cv2.waitKey(1)\n",
    "    if key == 27:\n",
    "        break\n",
    "        \n",
    "    # 프레임이 끝나면 동영상 재시작\n",
    "    if(cap.get(cv2.CAP_PROP_POS_FRAMES) == cap.get(cv2.CAP_PROP_FRAME_COUNT)):\n",
    "        cap.open('SampleFiles/HW2/tracking4.avi')\n",
    "\n",
    "        \n",
    "cap.release()\n",
    "cv2.destroyAllWindows()"
   ]
  },
  {
   "cell_type": "code",
   "execution_count": null,
   "id": "3904f806-f678-4258-a3f0-2cf0a2e55ecc",
   "metadata": {},
   "outputs": [],
   "source": []
  }
 ],
 "metadata": {
  "kernelspec": {
   "display_name": "Python 3 (ipykernel)",
   "language": "python",
   "name": "python3"
  },
  "language_info": {
   "codemirror_mode": {
    "name": "ipython",
    "version": 3
   },
   "file_extension": ".py",
   "mimetype": "text/x-python",
   "name": "python",
   "nbconvert_exporter": "python",
   "pygments_lexer": "ipython3",
   "version": "3.9.7"
  }
 },
 "nbformat": 4,
 "nbformat_minor": 5
}
