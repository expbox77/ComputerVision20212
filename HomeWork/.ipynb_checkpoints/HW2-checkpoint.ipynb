{
 "cells": [
  {
   "cell_type": "markdown",
   "id": "f3f40f6b-20db-4d84-b732-e7b3bd532294",
   "metadata": {},
   "source": [
    "# Homework 2 due to 9.30\n",
    "\n",
    "### Tracking object"
   ]
  },
  {
   "cell_type": "code",
   "execution_count": null,
   "id": "fcad3b1e-99a0-4508-a7ab-d4a3d5f2e428",
   "metadata": {},
   "outputs": [],
   "source": [
    "import cv2\n",
    "import numpy as np"
   ]
  }
 ],
 "metadata": {
  "kernelspec": {
   "display_name": "Python 3",
   "language": "python",
   "name": "python3"
  },
  "language_info": {
   "codemirror_mode": {
    "name": "ipython",
    "version": 3
   },
   "file_extension": ".py",
   "mimetype": "text/x-python",
   "name": "python",
   "nbconvert_exporter": "python",
   "pygments_lexer": "ipython3",
   "version": "3.9.4"
  }
 },
 "nbformat": 4,
 "nbformat_minor": 5
}
