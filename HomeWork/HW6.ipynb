{
 "cells": [
  {
   "cell_type": "markdown",
   "id": "10cd7ca0-9221-4df4-abee-3b3a18eaf5ee",
   "metadata": {},
   "source": [
    "# Homework 6 due to 12.3\n",
    "### implement SIFT feature matching with camera."
   ]
  },
  {
   "cell_type": "code",
   "execution_count": 1,
   "id": "b96667b2-1d83-4fbb-b250-5ba47cfabe22",
   "metadata": {},
   "outputs": [],
   "source": [
    "import numpy as np\n",
    "import cv2"
   ]
  },
  {
   "cell_type": "code",
   "execution_count": 2,
   "id": "48eed02e-fefd-4dd9-97e6-0924c3105fdf",
   "metadata": {},
   "outputs": [],
   "source": [
    "# img1 = cv2.imread('SampleFiles/template.jpg', 0) # queryImage\n",
    "cap = cv2.VideoCapture(0)\n",
    "img = cv2.imread(\"SampleFiles/HW6/book1.jpg\") # trainImage\n",
    "img = cv2.cvtColor(img, cv2.COLOR_BGR2GRAY)"
   ]
  },
  {
   "cell_type": "code",
   "execution_count": 3,
   "id": "248bd926-4638-4429-aa3b-1c412c9cb936",
   "metadata": {
    "tags": []
   },
   "outputs": [
    {
     "data": {
      "text/plain": [
       "-1"
      ]
     },
     "execution_count": 3,
     "metadata": {},
     "output_type": "execute_result"
    }
   ],
   "source": [
    "while(True):\n",
    "    ret, frame = cap.read()\n",
    "    \n",
    "    # ret의 값이 True로 프레임이 정상적으로 읽어졌다면 실행\n",
    "    if ret==True:\n",
    "        \n",
    "        gray = cv2.cvtColor(frame, cv2.COLOR_BGR2GRAY)\n",
    "        \n",
    "        # ORB Detector\n",
    "        orb = cv2.ORB_create()\n",
    "        kp1, des1 = orb.detectAndCompute(gray, None)\n",
    "        kp2, des2 = orb.detectAndCompute(img, None)\n",
    "        \n",
    "        # Brute Force Matching\n",
    "        bf = cv2.BFMatcher(cv2.NORM_HAMMING, crossCheck = True)\n",
    "        matches = bf.match(des1, des2)\n",
    "        matches = sorted(matches, key = lambda x:x.distance)\n",
    "        \n",
    "        matching_result = cv2.drawMatches(gray, kp1, img, kp2, matches[:50], None, flags = 2)\n",
    "        \n",
    "        cv2.imshow(\"Capture\", gray)\n",
    "        cv2.imshow(\"IMG\", img)\n",
    "        cv2.imshow(\"Matching Result\", matching_result)\n",
    "        \n",
    "        # q를 사용하여 무한 루프 탈출\n",
    "        if cv2.waitKey(1) & 0xFF == ord('q'):\n",
    "            break\n",
    "    # ret의 값이 False 프레임이 정상적으로 읽어지지 않았다면 while문 탈출\n",
    "    else:\n",
    "        break\n",
    "        \n",
    "# 모든 작업이 완료되면 마지막으로 오픈한 cap 객체를 cap.release() 함수를 이용하여 해제한다.\n",
    "cap.release()\n",
    "\n",
    "cv2.destroyAllWindows()\n",
    "cv2.waitKey(1)"
   ]
  },
  {
   "cell_type": "code",
   "execution_count": null,
   "id": "ea85f27b-f435-4993-9927-9b5479441d9f",
   "metadata": {},
   "outputs": [],
   "source": []
  }
 ],
 "metadata": {
  "kernelspec": {
   "display_name": "Python 3 (ipykernel)",
   "language": "python",
   "name": "python3"
  },
  "language_info": {
   "codemirror_mode": {
    "name": "ipython",
    "version": 3
   },
   "file_extension": ".py",
   "mimetype": "text/x-python",
   "name": "python",
   "nbconvert_exporter": "python",
   "pygments_lexer": "ipython3",
   "version": "3.9.7"
  }
 },
 "nbformat": 4,
 "nbformat_minor": 5
}
