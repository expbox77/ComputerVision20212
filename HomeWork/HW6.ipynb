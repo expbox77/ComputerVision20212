{
 "cells": [
  {
   "cell_type": "markdown",
   "id": "10cd7ca0-9221-4df4-abee-3b3a18eaf5ee",
   "metadata": {},
   "source": [
    "# Homework 6 due to 12.3\n",
    "### implement SIFT feature matching with camera."
   ]
  },
  {
   "cell_type": "code",
   "execution_count": 1,
   "id": "b96667b2-1d83-4fbb-b250-5ba47cfabe22",
   "metadata": {},
   "outputs": [],
   "source": [
    "import numpy as np\n",
    "import cv2\n",
    "import os"
   ]
  },
  {
   "cell_type": "code",
   "execution_count": 2,
   "id": "9ebf0540-c3d8-4080-8b0c-2e51036f9e8d",
   "metadata": {},
   "outputs": [
    {
     "name": "stdout",
     "output_type": "stream",
     "text": [
      "D:\\GitHub\\ComputerVision20212\\HomeWork\n",
      "D:\\GitHub\\ComputerVision20212\\HomeWork\\SampleFiles\\HW6\n"
     ]
    }
   ],
   "source": [
    "print(os.getcwd())\n",
    "os.chdir('SampleFiles/HW6')\n",
    "print(os.getcwd())"
   ]
  },
  {
   "cell_type": "code",
   "execution_count": 3,
   "id": "48eed02e-fefd-4dd9-97e6-0924c3105fdf",
   "metadata": {},
   "outputs": [
    {
     "ename": "error",
     "evalue": "OpenCV(4.5.4-dev) D:\\a\\opencv-python\\opencv-python\\opencv\\modules\\imgproc\\src\\color.cpp:182: error: (-215:Assertion failed) !_src.empty() in function 'cv::cvtColor'\n",
     "output_type": "error",
     "traceback": [
      "\u001b[1;31m---------------------------------------------------------------------------\u001b[0m",
      "\u001b[1;31merror\u001b[0m                                     Traceback (most recent call last)",
      "\u001b[1;32m~\\AppData\\Local\\Temp/ipykernel_27608/4192248334.py\u001b[0m in \u001b[0;36m<module>\u001b[1;34m\u001b[0m\n\u001b[0;32m      3\u001b[0m \u001b[1;31m# path = \"SampleFiles\\HW6\\book1.jpg\"\u001b[0m\u001b[1;33m\u001b[0m\u001b[1;33m\u001b[0m\u001b[0m\n\u001b[0;32m      4\u001b[0m \u001b[0mimg\u001b[0m \u001b[1;33m=\u001b[0m \u001b[0mcv2\u001b[0m\u001b[1;33m.\u001b[0m\u001b[0mimread\u001b[0m\u001b[1;33m(\u001b[0m\u001b[1;34m\"SampleFiles/HW6/book1.jpg\"\u001b[0m\u001b[1;33m,\u001b[0m \u001b[1;36m0\u001b[0m\u001b[1;33m)\u001b[0m \u001b[1;31m# trainImage\u001b[0m\u001b[1;33m\u001b[0m\u001b[1;33m\u001b[0m\u001b[0m\n\u001b[1;32m----> 5\u001b[1;33m \u001b[0mimg\u001b[0m \u001b[1;33m=\u001b[0m \u001b[0mcv2\u001b[0m\u001b[1;33m.\u001b[0m\u001b[0mcvtColor\u001b[0m\u001b[1;33m(\u001b[0m\u001b[0mimg\u001b[0m\u001b[1;33m,\u001b[0m \u001b[0mcv2\u001b[0m\u001b[1;33m.\u001b[0m\u001b[0mCOLOR_BGR2GRAY\u001b[0m\u001b[1;33m)\u001b[0m\u001b[1;33m\u001b[0m\u001b[1;33m\u001b[0m\u001b[0m\n\u001b[0m",
      "\u001b[1;31merror\u001b[0m: OpenCV(4.5.4-dev) D:\\a\\opencv-python\\opencv-python\\opencv\\modules\\imgproc\\src\\color.cpp:182: error: (-215:Assertion failed) !_src.empty() in function 'cv::cvtColor'\n"
     ]
    }
   ],
   "source": [
    "# img1 = cv2.imread('SampleFiles/template.jpg', 0) # queryImage\n",
    "# cap = cv2.VideoCapture(0)\n",
    "# path = \"SampleFiles\\HW6\\book1.jpg\"\n",
    "img = cv2.imread(\"SampleFiles/HW6/book1.jpg\", 0) # trainImage\n",
    "img = cv2.cvtColor(img, cv2.COLOR_BGR2GRAY)"
   ]
  },
  {
   "cell_type": "code",
   "execution_count": null,
   "id": "248bd926-4638-4429-aa3b-1c412c9cb936",
   "metadata": {
    "tags": []
   },
   "outputs": [],
   "source": [
    "while(True):\n",
    "    ret, frame = cap.read()\n",
    "    \n",
    "    # ret의 값이 True로 프레임이 정상적으로 읽어졌다면 실행\n",
    "    if ret==True:\n",
    "        \n",
    "        gray = cv2.cvtColor(frame, cv2.COLOR_BGR2GRAY)\n",
    "        \n",
    "        # ORB Detector\n",
    "        orb = cv2.ORB_create()\n",
    "        kp1, des1 = orb.detectAndCompute(gray, None)\n",
    "        kp2, des2 = orb.detectAndCompute(img, None)\n",
    "        \n",
    "        # Brute Force Matching\n",
    "        bf = cv2.BFMatcher(cv2.NORM_HAMMING, crossCheck = True)\n",
    "        matches = bf.match(des1, des2)\n",
    "        matches = sorted(matches, key = lambda x:x.distance)\n",
    "        \n",
    "        matching_result = cv2.drawMatches(gray, kp1, img, kp2, matches[:50], None, flags = 2)\n",
    "        \n",
    "        cv2.imshow(\"Capture\", gray)\n",
    "        cv2.imshow(\"IMG\", img)\n",
    "        cv2.imshow(\"Matching Result\", matching_result)\n",
    "        \n",
    "        # q를 사용하여 무한 루프 탈출\n",
    "        if cv2.waitKey(1) & 0xFF == ord('q'):\n",
    "            break\n",
    "    # ret의 값이 False 프레임이 정상적으로 읽어지지 않았다면 while문 탈출\n",
    "    else:\n",
    "        break\n",
    "        \n",
    "# 모든 작업이 완료되면 마지막으로 오픈한 cap 객체를 cap.release() 함수를 이용하여 해제한다.\n",
    "cap.release()\n",
    "\n",
    "# 모든 작업이 완료되면 마지막으로 오픈한 out 객체를 out.release() 함수를 이용하여 해제한다.\n",
    "out.release()\n",
    "cv2.destroyAllWindows()\n",
    "cv2.waitKey(1)\n"
   ]
  },
  {
   "cell_type": "code",
   "execution_count": null,
   "id": "ec8267ac-1df8-4af6-9195-76a82fccd22b",
   "metadata": {},
   "outputs": [],
   "source": []
  },
  {
   "cell_type": "code",
   "execution_count": null,
   "id": "c9c9c4a2-9036-4cc0-9867-6c0bc88d6317",
   "metadata": {},
   "outputs": [],
   "source": [
    "# ORB Detector\n",
    "orb = cv2.ORB_create()\n",
    "kp1, des1 = orb.detectAndCompute(cap, None)\n",
    "kp2, des2 = orb.detectAndCompute(img, None)"
   ]
  },
  {
   "cell_type": "code",
   "execution_count": null,
   "id": "e4b745cb-2c8f-46f3-8945-bc07e92c2af0",
   "metadata": {},
   "outputs": [],
   "source": [
    "# Brute Force Matching\n",
    "bf = cv2.BFMatcher(cv2.NORM_HAMMING, crossCheck = True)\n",
    "matches = bf.match(des1, des2)\n",
    "matches = sorted(matches, key = lambda x:x.distance)"
   ]
  },
  {
   "cell_type": "code",
   "execution_count": null,
   "id": "8a018e36-d12d-4497-a1cb-0649ddd36bb5",
   "metadata": {},
   "outputs": [],
   "source": [
    "matching_result = cv2.drawMatches(cap, kp1, img, kp2, matches[:50], None, flags = 2)"
   ]
  },
  {
   "cell_type": "code",
   "execution_count": null,
   "id": "1884639d-d172-4690-8bc0-53b3ac9503af",
   "metadata": {},
   "outputs": [],
   "source": [
    "cv2.imshow(\"Capture\", cap)\n",
    "cv2.imshow(\"IMG\", img)\n",
    "cv2.imshow(\"Matching Result\", matching_result)\n",
    "cv2.waitKey(0)\n",
    "cv2.destroyAllWindows()\n",
    "cv2.waitKey(1)"
   ]
  }
 ],
 "metadata": {
  "kernelspec": {
   "display_name": "Python 3 (ipykernel)",
   "language": "python",
   "name": "python3"
  },
  "language_info": {
   "codemirror_mode": {
    "name": "ipython",
    "version": 3
   },
   "file_extension": ".py",
   "mimetype": "text/x-python",
   "name": "python",
   "nbconvert_exporter": "python",
   "pygments_lexer": "ipython3",
   "version": "3.9.7"
  }
 },
 "nbformat": 4,
 "nbformat_minor": 5
}
