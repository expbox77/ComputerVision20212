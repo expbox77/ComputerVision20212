{
 "cells": [
  {
   "cell_type": "markdown",
   "id": "fab2f5fc-e367-4985-9856-da1bd45cb9b4",
   "metadata": {},
   "source": [
    "# Control Flow"
   ]
  },
  {
   "cell_type": "markdown",
   "id": "61440aca-c05a-4ce7-9aff-f3dbc0741c02",
   "metadata": {},
   "source": [
    "### if Statements (as expected)"
   ]
  },
  {
   "cell_type": "code",
   "execution_count": 1,
   "id": "31ca5484-ec82-42d2-a9b6-caed18a6ceb6",
   "metadata": {},
   "outputs": [
    {
     "name": "stdin",
     "output_type": "stream",
     "text": [
      " 2\n"
     ]
    }
   ],
   "source": [
    "# x에 키보드로 숫자를 입력하면 비교하게 됨\n",
    "x = int(input())"
   ]
  },
  {
   "cell_type": "code",
   "execution_count": 2,
   "id": "65ff463f-5726-4138-b24e-7bee75817bf7",
   "metadata": {},
   "outputs": [
    {
     "name": "stdout",
     "output_type": "stream",
     "text": [
      "X equals 2.\n",
      "This is outside the 'if'.\n"
     ]
    }
   ],
   "source": [
    "# 2, 3을 비교하고 아니라면 어떤것과도 다르다는 메시지를 띄움\n",
    "# : 이후 들여쓰기를 해야 if문의 안쪽에 들어가있는 것\n",
    "if x == 3:\n",
    "    print(\"X equals 3.\")\n",
    "elif x == 2:\n",
    "    print(\"X equals 2.\")\n",
    "else:\n",
    "    print(\"X equals something else.\")\n",
    "print(\"This is outside the 'if'.\")"
   ]
  },
  {
   "cell_type": "markdown",
   "id": "3ee5c794-07a8-4d85-9a1b-41e667e6c243",
   "metadata": {},
   "source": [
    "### while Loops (as expected)"
   ]
  },
  {
   "cell_type": "code",
   "execution_count": 3,
   "id": "6bb1abcf-5e81-492e-8701-d5fff8667c94",
   "metadata": {},
   "outputs": [],
   "source": [
    "x = 3"
   ]
  },
  {
   "cell_type": "code",
   "execution_count": 4,
   "id": "bb6f331b-c8a5-40e5-9b58-66c80799656f",
   "metadata": {},
   "outputs": [
    {
     "name": "stdout",
     "output_type": "stream",
     "text": [
      "3 still in the loop\n",
      "4 still in the loop\n"
     ]
    }
   ],
   "source": [
    "# while은 condition이 True일 때 반복되고 False이면 반복되지 않고 실행 종료됨\n",
    "while x < 5:\n",
    "    print(x, \"still in the loop\")\n",
    "    x = x + 1"
   ]
  },
  {
   "cell_type": "code",
   "execution_count": 5,
   "id": "a8c99e47-0698-4f47-8e32-4d5327e34834",
   "metadata": {},
   "outputs": [],
   "source": [
    "x = 6"
   ]
  },
  {
   "cell_type": "code",
   "execution_count": 6,
   "id": "79f02584-0069-4840-a327-b6ad5a5ede4a",
   "metadata": {},
   "outputs": [],
   "source": [
    "# 이 경우 x가 6이고 5보다 작은 숫자가 아니기 때문에 condition이 False라서 실행조차하지 않음.\n",
    "while x < 5:\n",
    "    print(x, \"still in the loop\")"
   ]
  },
  {
   "cell_type": "markdown",
   "id": "63d0cc9f-f86b-41a2-abf8-657447f7c09f",
   "metadata": {},
   "source": [
    "while loop가 돌아갈 때 특정 시점이 오면 break를 사용하여 while loop를 탈출할 수 있다."
   ]
  },
  {
   "cell_type": "markdown",
   "id": "7affa063-5517-42a1-a07e-69392b5a277a",
   "metadata": {},
   "source": [
    "continue는 루프의 현재 반복 처리를 중지하여 뒤쪽의 코드를 무시하고 다음 반복 처리를 하게 합니다."
   ]
  },
  {
   "cell_type": "markdown",
   "id": "64cec15d-e9e5-4f54-bcda-6cd63f47cf66",
   "metadata": {},
   "source": [
    "assert는 뒤의 조건이 True가 아니면 AssertError를 발생하여 실행을 막는다. 즉, 값을 보증하게 되는 효과가 있다."
   ]
  },
  {
   "cell_type": "code",
   "execution_count": null,
   "id": "e89147d0-57dc-4090-814d-ce95a903300a",
   "metadata": {},
   "outputs": [],
   "source": []
  }
 ],
 "metadata": {
  "kernelspec": {
   "display_name": "Python 3",
   "language": "python",
   "name": "python3"
  },
  "language_info": {
   "codemirror_mode": {
    "name": "ipython",
    "version": 3
   },
   "file_extension": ".py",
   "mimetype": "text/x-python",
   "name": "python",
   "nbconvert_exporter": "python",
   "pygments_lexer": "ipython3",
   "version": "3.9.4"
  }
 },
 "nbformat": 4,
 "nbformat_minor": 5
}
