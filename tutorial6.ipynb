{
 "cells": [
  {
   "cell_type": "markdown",
   "id": "de5729e3-3188-4e86-9e29-2a8aef289739",
   "metadata": {},
   "source": [
    "# For Loops"
   ]
  },
  {
   "cell_type": "markdown",
   "id": "e770d2b6-aac9-49f9-bb7a-a0a711964f07",
   "metadata": {},
   "source": [
    "### For Loops 1"
   ]
  },
  {
   "cell_type": "markdown",
   "id": "278ab3c5-8911-4783-b9c7-16f66d45327d",
   "metadata": {},
   "source": [
    "for (item) in (collection):  \n",
    "\n",
    "    (statementes)"
   ]
  },
  {
   "cell_type": "code",
   "execution_count": 1,
   "id": "d66ff744-afc6-4e10-8727-24c7c74839ee",
   "metadata": {},
   "outputs": [
    {
     "name": "stdout",
     "output_type": "stream",
     "text": [
      "H\n",
      "e\n",
      "l\n",
      "l\n",
      "o\n",
      " \n",
      "W\n",
      "o\n",
      "r\n",
      "l\n",
      "d\n"
     ]
    }
   ],
   "source": [
    "# for 루프로 문자열의 문자만큼 루프를 돌린다.\n",
    "for someChar in \"Hello World\":\n",
    "    print(someChar)"
   ]
  },
  {
   "cell_type": "markdown",
   "id": "ddf3b290-6a74-4fc7-8233-852942862c6a",
   "metadata": {},
   "source": [
    "### For Loops 2"
   ]
  },
  {
   "cell_type": "markdown",
   "id": "16e0a1f3-87e5-405d-b18a-1676ad3e58e4",
   "metadata": {},
   "source": [
    "for (item) in (collection):  \n",
    "\n",
    "    (statementes)"
   ]
  },
  {
   "cell_type": "code",
   "execution_count": 2,
   "id": "189e86f1-ffd1-4182-9339-9cd1665635de",
   "metadata": {},
   "outputs": [
    {
     "name": "stdout",
     "output_type": "stream",
     "text": [
      "a, 1\n",
      "b, 2\n",
      "c, 3\n",
      "d, 4\n"
     ]
    }
   ],
   "source": [
    "# for문을 사용하면서 x와 y값을 하나씩 지정이 가능하다.\n",
    "for (x, y) in [('a', 1), ('b', 2), ('c', 3), ('d', 4)]:\n",
    "    print(x, end=', '), print(y)"
   ]
  },
  {
   "cell_type": "markdown",
   "id": "8834ca03-3154-4123-8721-082e1010aebe",
   "metadata": {
    "tags": []
   },
   "source": [
    "### For loops and the range() function"
   ]
  },
  {
   "cell_type": "code",
   "execution_count": 3,
   "id": "4f306df8-0a1a-4b4d-a1d6-6181d63dabfe",
   "metadata": {},
   "outputs": [],
   "source": [
    "x = [0, 1, 2, 3, 4]"
   ]
  },
  {
   "cell_type": "code",
   "execution_count": 4,
   "id": "8125e318-68de-4e25-bf2a-1e6dd8fe127c",
   "metadata": {},
   "outputs": [
    {
     "name": "stdout",
     "output_type": "stream",
     "text": [
      "0\n",
      "1\n",
      "2\n",
      "3\n",
      "4\n"
     ]
    }
   ],
   "source": [
    "# range()에서 ()안에 지정한 숫자만큼 루프하게된다. (리스트의 0번째부터)\n",
    "# xrange()가 존재했지만 python3에서는 range()와 통합되었다.\n",
    "for x in range(5):\n",
    "    print(x)"
   ]
  },
  {
   "cell_type": "markdown",
   "id": "1c17b255-303c-4796-99f2-7c98d12c3400",
   "metadata": {},
   "source": [
    "### Abuse of the range() function"
   ]
  },
  {
   "cell_type": "code",
   "execution_count": 5,
   "id": "e0901e5a-ba39-4ef1-b7bf-1caeb4889c6f",
   "metadata": {},
   "outputs": [],
   "source": [
    "mylist = [12, 34, 56, 78, 90]"
   ]
  },
  {
   "cell_type": "code",
   "execution_count": 6,
   "id": "3bd87388-8872-452e-a079-a42b799bb669",
   "metadata": {},
   "outputs": [
    {
     "name": "stdout",
     "output_type": "stream",
     "text": [
      "mylist length: 5\n",
      "0 12\n",
      "1 34\n",
      "2 56\n",
      "3 78\n",
      "4 90\n"
     ]
    }
   ],
   "source": [
    "# 굳이 list의 크기를 수동으로 지정해도 되지만 리스트의 크기가 달라지는 것을 상정하는 방법도 있음.\n",
    "# len()함수를 사용하게 되면 자동으로 리스트의 크기를 계산하여 그만큼 루프돌리게 됨\n",
    "\n",
    "# print('mylist length: ' + str(len(mylist)))\n",
    "print(F'mylist length: {len(mylist)}')\n",
    "for i in range(len(mylist)):\n",
    "    print(i, mylist[i])"
   ]
  },
  {
   "cell_type": "code",
   "execution_count": 7,
   "id": "50aea588-fce4-47b5-9b2f-ff2277df64c6",
   "metadata": {},
   "outputs": [
    {
     "name": "stdout",
     "output_type": "stream",
     "text": [
      "mylist length: <enumerate object at 0x7fddce7af540>\n",
      "0 12\n",
      "1 34\n",
      "2 56\n",
      "3 78\n",
      "4 90\n"
     ]
    }
   ],
   "source": [
    "# len()함수 말고도 enumerate()함수를 사용할 수 있다.\n",
    "print(F'mylist length: {enumerate(mylist)}')\n",
    "for (i, mylist) in enumerate(mylist):\n",
    "    print(i, mylist)"
   ]
  },
  {
   "cell_type": "code",
   "execution_count": null,
   "id": "a30d8aad-9a02-475a-b46a-d5b1994de5ef",
   "metadata": {},
   "outputs": [],
   "source": []
  }
 ],
 "metadata": {
  "kernelspec": {
   "display_name": "Python 3",
   "language": "python",
   "name": "python3"
  },
  "language_info": {
   "codemirror_mode": {
    "name": "ipython",
    "version": 3
   },
   "file_extension": ".py",
   "mimetype": "text/x-python",
   "name": "python",
   "nbconvert_exporter": "python",
   "pygments_lexer": "ipython3",
   "version": "3.9.4"
  }
 },
 "nbformat": 4,
 "nbformat_minor": 5
}
