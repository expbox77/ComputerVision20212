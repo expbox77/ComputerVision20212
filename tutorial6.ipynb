{
 "cells": [
  {
   "cell_type": "markdown",
   "id": "e770d2b6-aac9-49f9-bb7a-a0a711964f07",
   "metadata": {},
   "source": [
    "# For Loops 1"
   ]
  },
  {
   "cell_type": "markdown",
   "id": "278ab3c5-8911-4783-b9c7-16f66d45327d",
   "metadata": {},
   "source": [
    "for item in collection:  \n",
    "\n",
    "    statementes"
   ]
  },
  {
   "cell_type": "code",
   "execution_count": 1,
   "id": "d7124c15-db7b-412b-b335-ad48ba19d95e",
   "metadata": {},
   "outputs": [],
   "source": [
    "someChar = \"Hello World\""
   ]
  },
  {
   "cell_type": "code",
   "execution_count": 2,
   "id": "d66ff744-afc6-4e10-8727-24c7c74839ee",
   "metadata": {},
   "outputs": [
    {
     "name": "stdout",
     "output_type": "stream",
     "text": [
      "H\n",
      "e\n",
      "l\n",
      "l\n",
      "o\n",
      " \n",
      "W\n",
      "o\n",
      "r\n",
      "l\n",
      "d\n"
     ]
    }
   ],
   "source": [
    "for someChar in \"Hello World\":\n",
    "    print(someChar)"
   ]
  },
  {
   "cell_type": "markdown",
   "id": "ddf3b290-6a74-4fc7-8233-852942862c6a",
   "metadata": {},
   "source": [
    "# For Loops 2"
   ]
  },
  {
   "cell_type": "code",
   "execution_count": 3,
   "id": "a5ee3326-4ce7-49d6-aca4-8b30af0d8bf0",
   "metadata": {},
   "outputs": [],
   "source": [
    "x = ['a', 'b', 'c', 'd']\n",
    "y = [1, 2, 3, 4]"
   ]
  },
  {
   "cell_type": "code",
   "execution_count": 4,
   "id": "189e86f1-ffd1-4182-9339-9cd1665635de",
   "metadata": {},
   "outputs": [
    {
     "name": "stdout",
     "output_type": "stream",
     "text": [
      "a\n",
      "b\n",
      "c\n",
      "d\n"
     ]
    }
   ],
   "source": [
    "for (x, y) in [('a', 1), ('b', 2), ('c', 3), ('d', 4)]:\n",
    "    print(x)"
   ]
  },
  {
   "cell_type": "markdown",
   "id": "8834ca03-3154-4123-8721-082e1010aebe",
   "metadata": {
    "tags": []
   },
   "source": [
    "# For loops and the range() function"
   ]
  },
  {
   "cell_type": "code",
   "execution_count": 5,
   "id": "4f306df8-0a1a-4b4d-a1d6-6181d63dabfe",
   "metadata": {},
   "outputs": [],
   "source": [
    "x = [0, 1, 2, 3, 4]"
   ]
  },
  {
   "cell_type": "code",
   "execution_count": 6,
   "id": "8125e318-68de-4e25-bf2a-1e6dd8fe127c",
   "metadata": {},
   "outputs": [
    {
     "name": "stdout",
     "output_type": "stream",
     "text": [
      "0\n",
      "1\n",
      "2\n",
      "3\n",
      "4\n"
     ]
    }
   ],
   "source": [
    "for x in range(5):\n",
    "    print(x)\n",
    "# range()에서 ()안에 지정한 숫자만큼 루프하게된다.\n",
    "# xrange() 존재했지만 python3에서는 range()와 통합되었다."
   ]
  },
  {
   "cell_type": "markdown",
   "id": "1c17b255-303c-4796-99f2-7c98d12c3400",
   "metadata": {},
   "source": [
    "# Abuse of the range() function"
   ]
  },
  {
   "cell_type": "code",
   "execution_count": 7,
   "id": "e0901e5a-ba39-4ef1-b7bf-1caeb4889c6f",
   "metadata": {},
   "outputs": [],
   "source": [
    "mylist = [12, 34, 56, 78, 90]"
   ]
  },
  {
   "cell_type": "code",
   "execution_count": 8,
   "id": "3bd87388-8872-452e-a079-a42b799bb669",
   "metadata": {},
   "outputs": [
    {
     "name": "stdout",
     "output_type": "stream",
     "text": [
      "0 12\n",
      "1 34\n",
      "2 56\n",
      "3 78\n",
      "4 90\n"
     ]
    }
   ],
   "source": [
    "for i in range(len(mylist)):\n",
    "    print(i, mylist[i])"
   ]
  },
  {
   "cell_type": "code",
   "execution_count": 9,
   "id": "50aea588-fce4-47b5-9b2f-ff2277df64c6",
   "metadata": {},
   "outputs": [
    {
     "name": "stdout",
     "output_type": "stream",
     "text": [
      "0 12\n",
      "1 34\n",
      "2 56\n",
      "3 78\n",
      "4 90\n"
     ]
    }
   ],
   "source": [
    "for (i, mylist) in enumerate(mylist):\n",
    "    print(i, mylist)"
   ]
  },
  {
   "cell_type": "code",
   "execution_count": null,
   "id": "a30d8aad-9a02-475a-b46a-d5b1994de5ef",
   "metadata": {},
   "outputs": [],
   "source": []
  }
 ],
 "metadata": {
  "kernelspec": {
   "display_name": "Python 3",
   "language": "python",
   "name": "python3"
  },
  "language_info": {
   "codemirror_mode": {
    "name": "ipython",
    "version": 3
   },
   "file_extension": ".py",
   "mimetype": "text/x-python",
   "name": "python",
   "nbconvert_exporter": "python",
   "pygments_lexer": "ipython3",
   "version": "3.9.4"
  }
 },
 "nbformat": 4,
 "nbformat_minor": 5
}
